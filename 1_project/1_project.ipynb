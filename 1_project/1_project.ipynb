{
 "cells": [
  {
   "cell_type": "markdown",
   "metadata": {},
   "source": [
    "## Исследование надёжности заёмщиков\n",
    "\n",
    "Заказчик — кредитный отдел банка. Нужно разобраться, влияет ли семейное положение и количество детей клиента на факт погашения кредита в срок. Входные данные от банка — статистика о платёжеспособности клиентов.\n",
    "\n",
    "Результаты исследования будут учтены при построении модели **кредитного скоринга** — специальной системы, которая оценивает способность потенциального заёмщика вернуть кредит банку.\n",
    "\n",
    "\n",
    "    \n",
    "### Оглавление\n",
    "1. [Шаг 1. Откроем файл с данными и изучим общую информацию](#step1)  \n",
    "2. [Шаг 2. Предобработка пропусков:](#step2)<br>\n",
    " 2.1. [Исследуем пропуски в таблице и заменим наиболее релевантными значениями](#step2-1)<br>\n",
    " 2.2. [Приведем типы данных к целочисленным](#step2-2)<br> \n",
    " 2.3. [Изучим и обработаем дубликаты](#step2-3)<br>\n",
    " 2.4. [Лемматизация причин кредита](#step2-4)<br>\n",
    " 2.5. [Категоризация словарей для дальнейшего анализа и ответа на вопросы](#step2-5)<br>\n",
    "3. [Ответы на вопросы](#step3)<br>\n",
    "4. [Итоговый вывод](#step4)"
   ]
  },
  {
   "cell_type": "markdown",
   "metadata": {},
   "source": [
    "### Шаг 1. Открываем файл с данными и изучаем общую информацию.  <a id=\"step1\"></a> "
   ]
  },
  {
   "cell_type": "code",
   "execution_count": 1,
   "metadata": {},
   "outputs": [
    {
     "name": "stdout",
     "output_type": "stream",
     "text": [
      "<class 'pandas.core.frame.DataFrame'>\n",
      "RangeIndex: 21525 entries, 0 to 21524\n",
      "Data columns (total 12 columns):\n",
      " #   Column            Non-Null Count  Dtype  \n",
      "---  ------            --------------  -----  \n",
      " 0   children          21525 non-null  int64  \n",
      " 1   days_employed     19351 non-null  float64\n",
      " 2   dob_years         21525 non-null  int64  \n",
      " 3   education         21525 non-null  object \n",
      " 4   education_id      21525 non-null  int64  \n",
      " 5   family_status     21525 non-null  object \n",
      " 6   family_status_id  21525 non-null  int64  \n",
      " 7   gender            21525 non-null  object \n",
      " 8   income_type       21525 non-null  object \n",
      " 9   debt              21525 non-null  int64  \n",
      " 10  total_income      19351 non-null  float64\n",
      " 11  purpose           21525 non-null  object \n",
      "dtypes: float64(2), int64(5), object(5)\n",
      "memory usage: 2.0+ MB\n"
     ]
    },
    {
     "data": {
      "text/html": [
       "<div>\n",
       "<style scoped>\n",
       "    .dataframe tbody tr th:only-of-type {\n",
       "        vertical-align: middle;\n",
       "    }\n",
       "\n",
       "    .dataframe tbody tr th {\n",
       "        vertical-align: top;\n",
       "    }\n",
       "\n",
       "    .dataframe thead th {\n",
       "        text-align: right;\n",
       "    }\n",
       "</style>\n",
       "<table border=\"1\" class=\"dataframe\">\n",
       "  <thead>\n",
       "    <tr style=\"text-align: right;\">\n",
       "      <th></th>\n",
       "      <th>children</th>\n",
       "      <th>days_employed</th>\n",
       "      <th>dob_years</th>\n",
       "      <th>education</th>\n",
       "      <th>education_id</th>\n",
       "      <th>family_status</th>\n",
       "      <th>family_status_id</th>\n",
       "      <th>gender</th>\n",
       "      <th>income_type</th>\n",
       "      <th>debt</th>\n",
       "      <th>total_income</th>\n",
       "      <th>purpose</th>\n",
       "    </tr>\n",
       "  </thead>\n",
       "  <tbody>\n",
       "    <tr>\n",
       "      <th>0</th>\n",
       "      <td>1</td>\n",
       "      <td>-8437.673028</td>\n",
       "      <td>42</td>\n",
       "      <td>высшее</td>\n",
       "      <td>0</td>\n",
       "      <td>женат / замужем</td>\n",
       "      <td>0</td>\n",
       "      <td>F</td>\n",
       "      <td>сотрудник</td>\n",
       "      <td>0</td>\n",
       "      <td>253875.639453</td>\n",
       "      <td>покупка жилья</td>\n",
       "    </tr>\n",
       "    <tr>\n",
       "      <th>1</th>\n",
       "      <td>1</td>\n",
       "      <td>-4024.803754</td>\n",
       "      <td>36</td>\n",
       "      <td>среднее</td>\n",
       "      <td>1</td>\n",
       "      <td>женат / замужем</td>\n",
       "      <td>0</td>\n",
       "      <td>F</td>\n",
       "      <td>сотрудник</td>\n",
       "      <td>0</td>\n",
       "      <td>112080.014102</td>\n",
       "      <td>приобретение автомобиля</td>\n",
       "    </tr>\n",
       "    <tr>\n",
       "      <th>2</th>\n",
       "      <td>0</td>\n",
       "      <td>-5623.422610</td>\n",
       "      <td>33</td>\n",
       "      <td>Среднее</td>\n",
       "      <td>1</td>\n",
       "      <td>женат / замужем</td>\n",
       "      <td>0</td>\n",
       "      <td>M</td>\n",
       "      <td>сотрудник</td>\n",
       "      <td>0</td>\n",
       "      <td>145885.952297</td>\n",
       "      <td>покупка жилья</td>\n",
       "    </tr>\n",
       "    <tr>\n",
       "      <th>3</th>\n",
       "      <td>3</td>\n",
       "      <td>-4124.747207</td>\n",
       "      <td>32</td>\n",
       "      <td>среднее</td>\n",
       "      <td>1</td>\n",
       "      <td>женат / замужем</td>\n",
       "      <td>0</td>\n",
       "      <td>M</td>\n",
       "      <td>сотрудник</td>\n",
       "      <td>0</td>\n",
       "      <td>267628.550329</td>\n",
       "      <td>дополнительное образование</td>\n",
       "    </tr>\n",
       "    <tr>\n",
       "      <th>4</th>\n",
       "      <td>0</td>\n",
       "      <td>340266.072047</td>\n",
       "      <td>53</td>\n",
       "      <td>среднее</td>\n",
       "      <td>1</td>\n",
       "      <td>гражданский брак</td>\n",
       "      <td>1</td>\n",
       "      <td>F</td>\n",
       "      <td>пенсионер</td>\n",
       "      <td>0</td>\n",
       "      <td>158616.077870</td>\n",
       "      <td>сыграть свадьбу</td>\n",
       "    </tr>\n",
       "  </tbody>\n",
       "</table>\n",
       "</div>"
      ],
      "text/plain": [
       "   children  days_employed  dob_years education  education_id  \\\n",
       "0         1   -8437.673028         42    высшее             0   \n",
       "1         1   -4024.803754         36   среднее             1   \n",
       "2         0   -5623.422610         33   Среднее             1   \n",
       "3         3   -4124.747207         32   среднее             1   \n",
       "4         0  340266.072047         53   среднее             1   \n",
       "\n",
       "      family_status  family_status_id gender income_type  debt   total_income  \\\n",
       "0   женат / замужем                 0      F   сотрудник     0  253875.639453   \n",
       "1   женат / замужем                 0      F   сотрудник     0  112080.014102   \n",
       "2   женат / замужем                 0      M   сотрудник     0  145885.952297   \n",
       "3   женат / замужем                 0      M   сотрудник     0  267628.550329   \n",
       "4  гражданский брак                 1      F   пенсионер     0  158616.077870   \n",
       "\n",
       "                      purpose  \n",
       "0               покупка жилья  \n",
       "1     приобретение автомобиля  \n",
       "2               покупка жилья  \n",
       "3  дополнительное образование  \n",
       "4             сыграть свадьбу  "
      ]
     },
     "execution_count": 1,
     "metadata": {},
     "output_type": "execute_result"
    }
   ],
   "source": [
    "import pandas as pd\n",
    "from pymystem3 import Mystem\n",
    "m = Mystem()\n",
    "\n",
    "df = pd.read_csv('./datasets/credits.csv')\n",
    "df.info()\n",
    "df.head(5)"
   ]
  },
  {
   "cell_type": "markdown",
   "metadata": {},
   "source": [
    "### Вывод"
   ]
  },
  {
   "cell_type": "markdown",
   "metadata": {},
   "source": [
    "В таблице есть поля типа int, float и object. \n",
    "Всего в таблице 21 525 строк и 12 столбцов. В столбцах days_employed и total_income по 19 351 - в них есть пропуски.\n",
    "Столбцы названы корректно.\n",
    "\n",
    "##### Вопросы:\n",
    "- Почему возникли пропуски? \n",
    "- Как будем их заполнять? \n",
    "- Что с типами данных, они корректные?"
   ]
  },
  {
   "cell_type": "markdown",
   "metadata": {},
   "source": [
    "### Шаг 2. Предобработка данных <a id=\"step2\"></a> "
   ]
  },
  {
   "cell_type": "markdown",
   "metadata": {},
   "source": [
    "### Обработка пропусков <a id=\"step2-1\"></a> "
   ]
  },
  {
   "cell_type": "code",
   "execution_count": 2,
   "metadata": {},
   "outputs": [
    {
     "name": "stdout",
     "output_type": "stream",
     "text": [
      "Кол-во строк в таблице: 21525\n",
      "Кол-во пропусков в столбце days_employed: 2174\n",
      "Процент пропусков: 10.1%\n",
      "Среднее: 66914.72890682195\n",
      "Медиана: 2194.220566878695\n"
     ]
    }
   ],
   "source": [
    "print('Кол-во строк в таблице:', df.shape[0])\n",
    "print('Кол-во пропусков в столбце days_employed:', df['days_employed'].isna().sum())\n",
    "print('Процент пропусков: {:.1%}'.format(df['days_employed'].isna().sum() / df.shape[0]))\n",
    "\n",
    "#Убираю отрицательные значения из days_employed\n",
    "df['days_employed'] = df['days_employed'].abs()\n",
    "\n",
    "#Делаю вывод среднего и медианы\n",
    "print('Среднее:', df['days_employed'].mean())\n",
    "print('Медиана:', df['days_employed'].median())\n",
    "\n",
    "#Заполняю пропуски методом .loc[]\n",
    "df.loc[df['days_employed'].isna(), 'days_employed'] = df['days_employed'].median()\n",
    "\n",
    "\n",
    "df['children'] = df['children'].replace(-1, 1)\n",
    "df['children'] = df['children'].replace(20, 2)"
   ]
  },
  {
   "cell_type": "code",
   "execution_count": 3,
   "metadata": {},
   "outputs": [
    {
     "name": "stdout",
     "output_type": "stream",
     "text": [
      "Кол-во пропусков в столбце total_income: 2174\n",
      "\n",
      "Среднее: 167422.3022081719\n",
      "Медиана: 145017.93753253992\n"
     ]
    }
   ],
   "source": [
    "print('Кол-во пропусков в столбце total_income:', df['total_income'].isna().sum())\n",
    "print('')\n",
    "#Убираю отрицательные значения из total_income\n",
    "df['total_income'] = df['total_income'].abs()\n",
    "print('Среднее:', df['total_income'].mean())\n",
    "print('Медиана:', df['total_income'].median())\n",
    "\n",
    "df.loc[df['total_income'].isna(), 'total_income'] = df['total_income'].median()"
   ]
  },
  {
   "cell_type": "markdown",
   "metadata": {},
   "source": [
    "### Вывод"
   ]
  },
  {
   "cell_type": "markdown",
   "metadata": {},
   "source": [
    "Нашел пропуски в строках с рабочим стажем и доходом. Просмотрев несколько десятков пропущенных значений пришел к выводу - это полностью случайные пропуски. Нет какой-либо зависимости с другими столбцами и неизвестно как восстановить какими-либо значениями.\n",
    "\n",
    "Всего 2174 пропуска. Это 10.1% - много.\n",
    "\n",
    "Заменил минусовые значения трудового стажа функцией abs(). Заполнил пропуски медианным значением.\n",
    "\n",
    "Заполнил пропуски с использованием метода .loc - вроде бы понимаю как работает, но не осознал еще.\n",
    "\n",
    "Дополнительно заменил -1 на 1 и 20 на 2 в столбце детей."
   ]
  },
  {
   "cell_type": "markdown",
   "metadata": {},
   "source": [
    "### Замена типа данных <a id=\"step2-2\"></a> "
   ]
  },
  {
   "cell_type": "code",
   "execution_count": 4,
   "metadata": {},
   "outputs": [],
   "source": [
    "df['days_employed'] = df['days_employed'].astype('int')\n",
    "df['total_income'] = df['total_income'].astype('int')"
   ]
  },
  {
   "cell_type": "markdown",
   "metadata": {},
   "source": [
    "### Вывод"
   ]
  },
  {
   "cell_type": "markdown",
   "metadata": {},
   "source": [
    "Заменил в столбцах days_employed и total_income тип на int. Для замены использовал метод astype('int')."
   ]
  },
  {
   "cell_type": "markdown",
   "metadata": {},
   "source": [
    "### Обработка дубликатов <a id=\"step2-3\"></a> "
   ]
  },
  {
   "cell_type": "code",
   "execution_count": 5,
   "metadata": {},
   "outputs": [
    {
     "name": "stdout",
     "output_type": "stream",
     "text": [
      "education\n",
      "ВЫСШЕЕ                   274\n",
      "Высшее                   268\n",
      "НАЧАЛЬНОЕ                 17\n",
      "НЕОКОНЧЕННОЕ ВЫСШЕЕ       29\n",
      "Начальное                 15\n",
      "Неоконченное высшее       47\n",
      "СРЕДНЕЕ                  772\n",
      "Среднее                  711\n",
      "УЧЕНАЯ СТЕПЕНЬ             1\n",
      "Ученая степень             1\n",
      "высшее                  4718\n",
      "начальное                250\n",
      "неоконченное высшее      668\n",
      "среднее                13750\n",
      "ученая степень             4\n",
      "Name: education, dtype: int64\n",
      "family_status\n",
      "Не женат / не замужем     2813\n",
      "в разводе                 1195\n",
      "вдовец / вдова             960\n",
      "гражданский брак          4177\n",
      "женат / замужем          12380\n",
      "Name: family_status, dtype: int64\n",
      "purpose\n",
      "автомобили                                478\n",
      "автомобиль                                495\n",
      "высшее образование                        453\n",
      "дополнительное образование                462\n",
      "жилье                                     647\n",
      "заняться высшим образованием              496\n",
      "заняться образованием                     412\n",
      "на покупку автомобиля                     472\n",
      "на покупку подержанного автомобиля        479\n",
      "на покупку своего автомобиля              505\n",
      "на проведение свадьбы                     777\n",
      "недвижимость                              634\n",
      "образование                               447\n",
      "операции с жильем                         653\n",
      "операции с коммерческой недвижимостью     651\n",
      "операции с недвижимостью                  676\n",
      "операции со своей недвижимостью           630\n",
      "покупка жилой недвижимости                607\n",
      "покупка жилья                             647\n",
      "покупка жилья для сдачи                   653\n",
      "покупка жилья для семьи                   641\n",
      "покупка коммерческой недвижимости         664\n",
      "покупка недвижимости                      624\n",
      "покупка своего жилья                      620\n",
      "получение высшего образования             426\n",
      "получение дополнительного образования     447\n",
      "получение образования                     443\n",
      "приобретение автомобиля                   462\n",
      "профильное образование                    436\n",
      "ремонт жилью                              612\n",
      "свадьба                                   797\n",
      "свой автомобиль                           480\n",
      "сделка с автомобилем                      455\n",
      "сделка с подержанным автомобилем          489\n",
      "строительство жилой недвижимости          626\n",
      "строительство недвижимости                620\n",
      "строительство собственной недвижимости    635\n",
      "сыграть свадьбу                           774\n",
      "Name: purpose, dtype: int64\n",
      "gender\n",
      "F      14236\n",
      "M       7288\n",
      "XNA        1\n",
      "Name: gender, dtype: int64\n"
     ]
    }
   ],
   "source": [
    "print(df.groupby('education')['education'].count())\n",
    "df['education'] = df['education'].str.lower()\n",
    "\n",
    "\n",
    "print(df.groupby('family_status')['family_status'].count())\n",
    "df['family_status'] = df['family_status'].str.lower()\n",
    "\n",
    "\n",
    "df['purpose'] = df['purpose'].str.lower()\n",
    "print(df.groupby('purpose')['purpose'].count())\n",
    "\n",
    "\n",
    "print(df.groupby('gender')['gender'].count())\n",
    "df = df.drop(df.loc[df['gender'] == 'XNA', 'gender'].index)"
   ]
  },
  {
   "cell_type": "code",
   "execution_count": 6,
   "metadata": {},
   "outputs": [
    {
     "name": "stdout",
     "output_type": "stream",
     "text": [
      "Дубликатов 71\n"
     ]
    },
    {
     "data": {
      "text/html": [
       "<div>\n",
       "<style scoped>\n",
       "    .dataframe tbody tr th:only-of-type {\n",
       "        vertical-align: middle;\n",
       "    }\n",
       "\n",
       "    .dataframe tbody tr th {\n",
       "        vertical-align: top;\n",
       "    }\n",
       "\n",
       "    .dataframe thead th {\n",
       "        text-align: right;\n",
       "    }\n",
       "</style>\n",
       "<table border=\"1\" class=\"dataframe\">\n",
       "  <thead>\n",
       "    <tr style=\"text-align: right;\">\n",
       "      <th></th>\n",
       "      <th>children</th>\n",
       "      <th>days_employed</th>\n",
       "      <th>dob_years</th>\n",
       "      <th>education</th>\n",
       "      <th>education_id</th>\n",
       "      <th>family_status</th>\n",
       "      <th>family_status_id</th>\n",
       "      <th>gender</th>\n",
       "      <th>income_type</th>\n",
       "      <th>debt</th>\n",
       "      <th>total_income</th>\n",
       "      <th>purpose</th>\n",
       "    </tr>\n",
       "  </thead>\n",
       "  <tbody>\n",
       "    <tr>\n",
       "      <th>2849</th>\n",
       "      <td>0</td>\n",
       "      <td>2194</td>\n",
       "      <td>41</td>\n",
       "      <td>среднее</td>\n",
       "      <td>1</td>\n",
       "      <td>женат / замужем</td>\n",
       "      <td>0</td>\n",
       "      <td>F</td>\n",
       "      <td>сотрудник</td>\n",
       "      <td>0</td>\n",
       "      <td>145017</td>\n",
       "      <td>покупка жилья для семьи</td>\n",
       "    </tr>\n",
       "    <tr>\n",
       "      <th>3290</th>\n",
       "      <td>0</td>\n",
       "      <td>2194</td>\n",
       "      <td>58</td>\n",
       "      <td>среднее</td>\n",
       "      <td>1</td>\n",
       "      <td>гражданский брак</td>\n",
       "      <td>1</td>\n",
       "      <td>F</td>\n",
       "      <td>пенсионер</td>\n",
       "      <td>0</td>\n",
       "      <td>145017</td>\n",
       "      <td>сыграть свадьбу</td>\n",
       "    </tr>\n",
       "    <tr>\n",
       "      <th>4182</th>\n",
       "      <td>1</td>\n",
       "      <td>2194</td>\n",
       "      <td>34</td>\n",
       "      <td>высшее</td>\n",
       "      <td>0</td>\n",
       "      <td>гражданский брак</td>\n",
       "      <td>1</td>\n",
       "      <td>F</td>\n",
       "      <td>сотрудник</td>\n",
       "      <td>0</td>\n",
       "      <td>145017</td>\n",
       "      <td>свадьба</td>\n",
       "    </tr>\n",
       "    <tr>\n",
       "      <th>4851</th>\n",
       "      <td>0</td>\n",
       "      <td>2194</td>\n",
       "      <td>60</td>\n",
       "      <td>среднее</td>\n",
       "      <td>1</td>\n",
       "      <td>гражданский брак</td>\n",
       "      <td>1</td>\n",
       "      <td>F</td>\n",
       "      <td>пенсионер</td>\n",
       "      <td>0</td>\n",
       "      <td>145017</td>\n",
       "      <td>свадьба</td>\n",
       "    </tr>\n",
       "    <tr>\n",
       "      <th>5557</th>\n",
       "      <td>0</td>\n",
       "      <td>2194</td>\n",
       "      <td>58</td>\n",
       "      <td>среднее</td>\n",
       "      <td>1</td>\n",
       "      <td>гражданский брак</td>\n",
       "      <td>1</td>\n",
       "      <td>F</td>\n",
       "      <td>пенсионер</td>\n",
       "      <td>0</td>\n",
       "      <td>145017</td>\n",
       "      <td>сыграть свадьбу</td>\n",
       "    </tr>\n",
       "    <tr>\n",
       "      <th>...</th>\n",
       "      <td>...</td>\n",
       "      <td>...</td>\n",
       "      <td>...</td>\n",
       "      <td>...</td>\n",
       "      <td>...</td>\n",
       "      <td>...</td>\n",
       "      <td>...</td>\n",
       "      <td>...</td>\n",
       "      <td>...</td>\n",
       "      <td>...</td>\n",
       "      <td>...</td>\n",
       "      <td>...</td>\n",
       "    </tr>\n",
       "    <tr>\n",
       "      <th>20702</th>\n",
       "      <td>0</td>\n",
       "      <td>2194</td>\n",
       "      <td>64</td>\n",
       "      <td>среднее</td>\n",
       "      <td>1</td>\n",
       "      <td>женат / замужем</td>\n",
       "      <td>0</td>\n",
       "      <td>F</td>\n",
       "      <td>пенсионер</td>\n",
       "      <td>0</td>\n",
       "      <td>145017</td>\n",
       "      <td>дополнительное образование</td>\n",
       "    </tr>\n",
       "    <tr>\n",
       "      <th>21032</th>\n",
       "      <td>0</td>\n",
       "      <td>2194</td>\n",
       "      <td>60</td>\n",
       "      <td>среднее</td>\n",
       "      <td>1</td>\n",
       "      <td>женат / замужем</td>\n",
       "      <td>0</td>\n",
       "      <td>F</td>\n",
       "      <td>пенсионер</td>\n",
       "      <td>0</td>\n",
       "      <td>145017</td>\n",
       "      <td>заняться образованием</td>\n",
       "    </tr>\n",
       "    <tr>\n",
       "      <th>21132</th>\n",
       "      <td>0</td>\n",
       "      <td>2194</td>\n",
       "      <td>47</td>\n",
       "      <td>среднее</td>\n",
       "      <td>1</td>\n",
       "      <td>женат / замужем</td>\n",
       "      <td>0</td>\n",
       "      <td>F</td>\n",
       "      <td>сотрудник</td>\n",
       "      <td>0</td>\n",
       "      <td>145017</td>\n",
       "      <td>ремонт жилью</td>\n",
       "    </tr>\n",
       "    <tr>\n",
       "      <th>21281</th>\n",
       "      <td>1</td>\n",
       "      <td>2194</td>\n",
       "      <td>30</td>\n",
       "      <td>высшее</td>\n",
       "      <td>0</td>\n",
       "      <td>женат / замужем</td>\n",
       "      <td>0</td>\n",
       "      <td>F</td>\n",
       "      <td>сотрудник</td>\n",
       "      <td>0</td>\n",
       "      <td>145017</td>\n",
       "      <td>покупка коммерческой недвижимости</td>\n",
       "    </tr>\n",
       "    <tr>\n",
       "      <th>21415</th>\n",
       "      <td>0</td>\n",
       "      <td>2194</td>\n",
       "      <td>54</td>\n",
       "      <td>среднее</td>\n",
       "      <td>1</td>\n",
       "      <td>женат / замужем</td>\n",
       "      <td>0</td>\n",
       "      <td>F</td>\n",
       "      <td>пенсионер</td>\n",
       "      <td>0</td>\n",
       "      <td>145017</td>\n",
       "      <td>операции с жильем</td>\n",
       "    </tr>\n",
       "  </tbody>\n",
       "</table>\n",
       "<p>71 rows × 12 columns</p>\n",
       "</div>"
      ],
      "text/plain": [
       "       children  days_employed  dob_years education  education_id  \\\n",
       "2849          0           2194         41   среднее             1   \n",
       "3290          0           2194         58   среднее             1   \n",
       "4182          1           2194         34    высшее             0   \n",
       "4851          0           2194         60   среднее             1   \n",
       "5557          0           2194         58   среднее             1   \n",
       "...         ...            ...        ...       ...           ...   \n",
       "20702         0           2194         64   среднее             1   \n",
       "21032         0           2194         60   среднее             1   \n",
       "21132         0           2194         47   среднее             1   \n",
       "21281         1           2194         30    высшее             0   \n",
       "21415         0           2194         54   среднее             1   \n",
       "\n",
       "          family_status  family_status_id gender income_type  debt  \\\n",
       "2849    женат / замужем                 0      F   сотрудник     0   \n",
       "3290   гражданский брак                 1      F   пенсионер     0   \n",
       "4182   гражданский брак                 1      F   сотрудник     0   \n",
       "4851   гражданский брак                 1      F   пенсионер     0   \n",
       "5557   гражданский брак                 1      F   пенсионер     0   \n",
       "...                 ...               ...    ...         ...   ...   \n",
       "20702   женат / замужем                 0      F   пенсионер     0   \n",
       "21032   женат / замужем                 0      F   пенсионер     0   \n",
       "21132   женат / замужем                 0      F   сотрудник     0   \n",
       "21281   женат / замужем                 0      F   сотрудник     0   \n",
       "21415   женат / замужем                 0      F   пенсионер     0   \n",
       "\n",
       "       total_income                            purpose  \n",
       "2849         145017            покупка жилья для семьи  \n",
       "3290         145017                    сыграть свадьбу  \n",
       "4182         145017                            свадьба  \n",
       "4851         145017                            свадьба  \n",
       "5557         145017                    сыграть свадьбу  \n",
       "...             ...                                ...  \n",
       "20702        145017         дополнительное образование  \n",
       "21032        145017              заняться образованием  \n",
       "21132        145017                       ремонт жилью  \n",
       "21281        145017  покупка коммерческой недвижимости  \n",
       "21415        145017                  операции с жильем  \n",
       "\n",
       "[71 rows x 12 columns]"
      ]
     },
     "execution_count": 6,
     "metadata": {},
     "output_type": "execute_result"
    }
   ],
   "source": [
    "print('Дубликатов', df.duplicated().sum())\n",
    "df.loc[df.duplicated()]"
   ]
  },
  {
   "cell_type": "markdown",
   "metadata": {},
   "source": [
    "### Вывод"
   ]
  },
  {
   "cell_type": "markdown",
   "metadata": {},
   "source": [
    "Привел все строки к нижнему регистру и удалил дубликаты методом drop_duplicates(). \n",
    "\n",
    "Привел значения в столбцах education, family_status и purpose к нижнему регистру - консистентность значений этих столбцов стала нормальной. До этого был разброс по типу написания значений, хотя в соседних столбцах education_id и family_status_id айдишники стояли одинаковые для разного написания.\n",
    "\n",
    "После проверил пол на уникальные значения и нашел значение XNA. Удалил его методом drop(), потому что не ясно к какому полу соотнести.\n",
    "\n",
    "Следующий этап - проверка на дубликаты. Показывает 71. Исследовал их и пришел к выводу, что это значения с одинаковым days_employed и total_income, а все остальные значения разные.\n",
    "\n",
    "    \n",
    "##### Вопросы\n",
    "- Сколько у нас было дубликатов? \n",
    "- Если удалить дубликаты, потеряются ли ценные данные?\n",
    "- Откуда у нас возникли дубликаты? Можно ли их удалять?"
   ]
  },
  {
   "cell_type": "markdown",
   "metadata": {},
   "source": [
    "### Лемматизация <a id=\"step2-4\"></a> "
   ]
  },
  {
   "cell_type": "code",
   "execution_count": 7,
   "metadata": {},
   "outputs": [
    {
     "name": "stdout",
     "output_type": "stream",
     "text": [
      "займ на недвижимость    10839\n",
      "займ на автомобиль       4315\n",
      "займ на образование      4022\n",
      "займ на свадьбу          2348\n",
      "Name: purpose_lemma, dtype: int64\n"
     ]
    }
   ],
   "source": [
    "def lemmatize_purposes(row):\n",
    "    lemmas = m.lemmatize(row['purpose'])\n",
    "    #print(lemmas)\n",
    "    if 'жилье' in lemmas or 'недвижимость' in lemmas:\n",
    "        return 'займ на недвижимость'\n",
    "    \n",
    "    elif 'автомобиль' in lemmas:\n",
    "        return 'займ на автомобиль'\n",
    "    \n",
    "    elif 'образование' in lemmas:\n",
    "        return 'займ на образование'\n",
    "    \n",
    "    elif 'свадьба' in lemmas:\n",
    "        return 'займ на свадьбу'\n",
    "\n",
    "df['purpose_lemma'] = df.apply(lemmatize_purposes, axis = 1)\n",
    "\n",
    "print(df['purpose_lemma'].value_counts())"
   ]
  },
  {
   "cell_type": "code",
   "execution_count": 8,
   "metadata": {},
   "outputs": [
    {
     "name": "stdout",
     "output_type": "stream",
     "text": [
      "займ на недвижимость    10839\n",
      "займ на автомобиль       4315\n",
      "займ на образование      4022\n",
      "займ на свадьбу          2348\n",
      "Name: purpose_lemma, dtype: int64\n"
     ]
    }
   ],
   "source": [
    "data = df['purpose'].unique()\n",
    "columns = ['purpose']\n",
    "\n",
    "purposes_dict = pd.DataFrame(data = data, columns = columns)\n",
    "\n",
    "purposes_dict['lemmas_purpose'] = purposes_dict.apply(lemmatize_purposes, axis = 1)\n",
    "#print(purposes_dict)\n",
    "\n",
    "df.merge(purposes_dict, on = 'purpose', how = 'left')\n",
    "print(df['purpose_lemma'].value_counts())"
   ]
  },
  {
   "cell_type": "markdown",
   "metadata": {},
   "source": [
    "### Вывод"
   ]
  },
  {
   "cell_type": "markdown",
   "metadata": {},
   "source": [
    "Использовал библиотеку pymystem3 для лемматизации целей кредита. \n",
    "Сделал функцию для преобразования разных форм целей кредита к единому виду при помощи лемматизации. Добавил это все в отдельный столбец в датафрейме и вывел количество целей кредита.\n",
    "\n",
    "Самые популярные:\n",
    "1. кредиты на жилье\n",
    "2. авто\\образование\n",
    "3. свадьба\n",
    "\n",
    "**PS: сделал двумя способами для практики. Результат одинаковый.**"
   ]
  },
  {
   "cell_type": "markdown",
   "metadata": {},
   "source": [
    "### Категоризация данных <a id=\"step2-5\"></a> "
   ]
  },
  {
   "cell_type": "code",
   "execution_count": null,
   "metadata": {},
   "outputs": [],
   "source": [
    "total_income_median = df['total_income'].median()\n",
    "total_income_25 = df['total_income'].mean() - (df['total_income'].mean() * 0.5)\n",
    "total_income_75 = df['total_income'].mean() + (df['total_income'].mean() * 0.5)\n",
    "\n",
    "def check_children(row):\n",
    "    \n",
    "    if row['children'] > 0:\n",
    "        result = 'есть дети'\n",
    "\n",
    "    else:\n",
    "        result = 'нет детей'\n",
    "\n",
    "    return result\n",
    "\n",
    "\n",
    "def check_family_status(row):\n",
    "    \n",
    "    if row['family_status_id'] in (0, 1):\n",
    "        result = 'семейный'\n",
    "\n",
    "    else:\n",
    "        result = 'холост'\n",
    "\n",
    "    return result\n",
    "\n",
    "\n",
    "def check_total_income(row):   \n",
    "    \n",
    "    if row['total_income'] <= total_income_25:\n",
    "        result = '0 - 25%'\n",
    "    \n",
    "    elif row['total_income'] > total_income_25 and row['total_income'] <= total_income_median:\n",
    "        result = '25% - 50%'\n",
    "    \n",
    "    elif row['total_income'] > total_income_median and row['total_income'] <= total_income_75:\n",
    "        result = '50 - 75%'\n",
    "    \n",
    "    else:\n",
    "        result = '75% - 100%'\n",
    "    \n",
    "    return result\n",
    "\n",
    "\n",
    "df['checked_children'] = df.apply(check_children, axis = 1)\n",
    "print(df['checked_children'].value_counts())\n",
    "\n",
    "df['checked_family_status'] = df.apply(check_family_status, axis = 1)\n",
    "print(df['checked_family_status'].value_counts())\n",
    "\n",
    "df['checked_total_income'] = df.apply(check_total_income, axis = 1)\n",
    "print(df['checked_total_income'].value_counts())\n",
    "\n",
    "df.head()"
   ]
  },
  {
   "cell_type": "markdown",
   "metadata": {},
   "source": [
    "### Вывод"
   ]
  },
  {
   "cell_type": "markdown",
   "metadata": {},
   "source": [
    "Выделил словари для ответа на вопросы в шаге 3:\n",
    "1. Возврат кредита в зависимости от детей\n",
    "2. Семейное положение\n",
    "3. Уровень дохода\n",
    "4. Цели кредита - появились после лемматизации"
   ]
  },
  {
   "cell_type": "markdown",
   "metadata": {},
   "source": [
    "### Шаг 3. Ответьте на вопросы <a id=\"step3\"></a> "
   ]
  },
  {
   "cell_type": "markdown",
   "metadata": {},
   "source": [
    "- Есть ли зависимость между наличием детей и возвратом кредита в срок?"
   ]
  },
  {
   "cell_type": "code",
   "execution_count": null,
   "metadata": {},
   "outputs": [],
   "source": [
    "def answer_children(row):\n",
    "    \n",
    "    ratio = row[1] / row['sum']\n",
    "    \n",
    "    return ratio    \n",
    "\n",
    "\n",
    "children_pivot = df.pivot_table(\n",
    "    index = 'checked_children',\n",
    "    columns = 'debt',\n",
    "    values = 'children',\n",
    "    aggfunc = 'count'\n",
    ")\n",
    "\n",
    "children_pivot['sum'] = children_pivot[0] + children_pivot[1]\n",
    "children_pivot['ratio'] = children_pivot.apply(answer_children, axis = 1)\n",
    "\n",
    "children_pivot"
   ]
  },
  {
   "cell_type": "markdown",
   "metadata": {},
   "source": [
    "### Вывод"
   ]
  },
  {
   "cell_type": "markdown",
   "metadata": {},
   "source": [
    "Наличие детей отрицательно сказывается на оплате кредита в срок.\n",
    "- есть дети = 9.19%\n",
    "- нет детей = 7.51%\n",
    "\n",
    "Разница между ними составляет 1.68%. В результате семей с детьми меньше, чем без детей. Возможно, если бы количество семей с детьми было больше, то и процент неплательщиков был бы выше среди них. Дело в том, что дети - это дополнительные расходы, поэтмоу сложнее выплачивать кредит вовремя.\n",
    "\n",
    "**Ответ: наличие детей уменьшает вероятность возврата кредита вовремя.**"
   ]
  },
  {
   "cell_type": "markdown",
   "metadata": {},
   "source": [
    "- Есть ли зависимость между семейным положением и возвратом кредита в срок?"
   ]
  },
  {
   "cell_type": "code",
   "execution_count": null,
   "metadata": {},
   "outputs": [],
   "source": [
    "def answer_family_status(row):\n",
    "    \n",
    "    ratio = row[1] / row['sum']\n",
    "    \n",
    "    return ratio   \n",
    "\n",
    "\n",
    "family_status_pivot = df.pivot_table(\n",
    "    index = 'checked_family_status',\n",
    "    columns = 'debt',\n",
    "    values = 'family_status',\n",
    "    aggfunc = 'count'\n",
    ")\n",
    "\n",
    "family_status_pivot['sum'] = family_status_pivot[0] + family_status_pivot[1]\n",
    "family_status_pivot['ratio'] = family_status_pivot.apply(answer_family_status, axis = 1)\n",
    "\n",
    "family_status_pivot"
   ]
  },
  {
   "cell_type": "markdown",
   "metadata": {},
   "source": [
    "Особой разницы между семейными и холостяками практически нет: \n",
    "- холостяки = 8.49%\n",
    "- семейные = 7.96% \n",
    "\n",
    "Разница между ними составляет < 1%.\n",
    "\n",
    "**Ответ: семейное положение не влияет на возврат кредита вовремя.**"
   ]
  },
  {
   "cell_type": "markdown",
   "metadata": {},
   "source": [
    "- Есть ли зависимость между уровнем дохода и возвратом кредита в срок?"
   ]
  },
  {
   "cell_type": "code",
   "execution_count": null,
   "metadata": {},
   "outputs": [],
   "source": [
    "def answer_total_income(row):\n",
    "    \n",
    "    ratio = row[1] / row['sum']\n",
    "    \n",
    "    return ratio   \n",
    "\n",
    "\n",
    "total_income_pivot = df.pivot_table(\n",
    "    index = 'checked_total_income',\n",
    "    columns = 'debt',\n",
    "    values = 'total_income',\n",
    "    aggfunc = 'count'\n",
    ")\n",
    "\n",
    "total_income_pivot['sum'] = total_income_pivot[0] + total_income_pivot[1]\n",
    "total_income_pivot['ratio'] = total_income_pivot.apply(answer_family_status, axis = 1)\n",
    "\n",
    "total_income_pivot"
   ]
  },
  {
   "cell_type": "markdown",
   "metadata": {},
   "source": [
    "### Вывод"
   ]
  },
  {
   "cell_type": "markdown",
   "metadata": {},
   "source": [
    "Люди с доходом выше и ниже среднего чаще не платят кредит вовремя. Однако, люди из хвостов, с доходом сильно ниже среднего и сильно выше среднего, чаще платят вовремя. \n",
    "\n",
    "Cчитал: должники / все плательщики в этой категории.<br>\n",
    "\n",
    "##### Результаты\n",
    "- 0-25% = 7.69%<br>\n",
    "- 25-50% = 8.36%<br>\n",
    "- 50-75% = 8.37%<br>\n",
    "- 75-100% = 6.86%\n",
    "\n",
    "**Ответ: доход влияет на возврат кредита вовремя. Лучше выдавать кредит тем, у кого доход или сильно выше среднего, или сильно ниже среднего.**\n"
   ]
  },
  {
   "cell_type": "markdown",
   "metadata": {},
   "source": [
    "- Как разные цели кредита влияют на его возврат в срок?"
   ]
  },
  {
   "cell_type": "code",
   "execution_count": null,
   "metadata": {
    "scrolled": true
   },
   "outputs": [],
   "source": [
    "purpose_pivot = df.pivot_table(\n",
    "    index = 'purpose_lemma',\n",
    "    columns = 'debt',\n",
    "    values = 'purpose',\n",
    "    aggfunc = 'count'\n",
    ")\n",
    "\n",
    "purpose_pivot.columns = ['no_debt', 'has_debt']\n",
    "purpose_pivot['sum'] = purpose_pivot['no_debt'] + purpose_pivot['has_debt']\n",
    "purpose_pivot['ratio'] = (purpose_pivot['has_debt'] / (purpose_pivot['no_debt'] + purpose_pivot['has_debt'])).map('{:.2%}'.format)\n",
    "\n",
    "purpose_pivot"
   ]
  },
  {
   "cell_type": "markdown",
   "metadata": {},
   "source": [
    "### Вывод"
   ]
  },
  {
   "cell_type": "markdown",
   "metadata": {},
   "source": [
    "##### Результаты\n",
    "- займ на автомобиль = 9.33%<br>\n",
    "- займ на недвижимость = 7.21%<br>\n",
    "- займ на образование = 9.19%<br>\n",
    "- займ на свадьбу = 7.92%\n",
    "\n",
    "**Ответ: цель кредита влияет на возврат кредита вовремя. Чаще не возвращают кредит вовремя на автомобиль и образование. После свадьбы и при покупке недвижимости кредиты платятся вовремя. Возможно, дело в том, что на свадьбе дарят деньги, а по кредиту на недвижимость платежи делаются малыми частями на протяжении длительного периода времени.**"
   ]
  },
  {
   "cell_type": "markdown",
   "metadata": {},
   "source": [
    "### Шаг 4. Общий вывод <a id=\"step4\"></a> "
   ]
  },
  {
   "cell_type": "markdown",
   "metadata": {},
   "source": [
    "Есть показатели, которые влияют и не влияют на возврат кредита вовремя.\n",
    "\n",
    "Интересным оказалось то, что среди плательщиков вовремя много людей с уровнем дохода ниже 25%. Вероятно, дело в размере кредита, который они берут. Скорее всего это маленькие суммы - их проще возвращать.\n",
    "\n",
    "Дальше, что касается семейных пар и количества просрочернных кредитов на недвижимость. Можно предположить, что в семье появляется ребенок или еще один и появляется желание в увеличении жилплощади. Следовательно, семья берет кредит на жилье, но из-за расходов на ребенка не может платить вовремя.\n",
    "\n",
    "Можно было бы выбрать семейных и недвижимость, но это как-нибудь в другой раз :) \n",
    "\n",
    "Если подытожить:\n",
    "- наличие детей - влияет\n",
    "- семейное положение - не влияет\n",
    "- уровень дохода - влияет\n",
    "- цель кредита - влияет"
   ]
  },
  {
   "cell_type": "markdown",
   "metadata": {},
   "source": [
    "### Чек-лист готовности проекта\n",
    "\n",
    "Поставьте 'x' в выполненных пунктах. Далее нажмите Shift+Enter."
   ]
  },
  {
   "cell_type": "markdown",
   "metadata": {},
   "source": [
    "- [x]  открыт файл;\n",
    "- [x]  файл изучен;\n",
    "- [x]  определены пропущенные значения;\n",
    "- [x]  заполнены пропущенные значения;\n",
    "- [x]  есть пояснение, какие пропущенные значения обнаружены;\n",
    "- [x]  описаны возможные причины появления пропусков в данных;\n",
    "- [x]  объяснено, по какому принципу заполнены пропуски;\n",
    "- [x]  заменен вещественный тип данных на целочисленный;\n",
    "- [x]  есть пояснение, какой метод используется для изменения типа данных и почему;\n",
    "- [x]  удалены дубликаты;\n",
    "- [x]  есть пояснение, какой метод используется для поиска и удаления дубликатов;\n",
    "- [x]  описаны возможные причины появления дубликатов в данных;\n",
    "- [x]  выделены леммы в значениях столбца с целями получения кредита;\n",
    "- [x]  описан процесс лемматизации;\n",
    "- [x]  данные категоризированы;\n",
    "- [x]  есть объяснение принципа категоризации данных;\n",
    "- [x]  есть ответ на вопрос: \"Есть ли зависимость между наличием детей и возвратом кредита в срок?\";\n",
    "- [x]  есть ответ на вопрос: \"Есть ли зависимость между семейным положением и возвратом кредита в срок?\";\n",
    "- [x]  есть ответ на вопрос: \"Есть ли зависимость между уровнем дохода и возвратом кредита в срок?\";\n",
    "- [x]  есть ответ на вопрос: \"Как разные цели кредита влияют на его возврат в срок?\";\n",
    "- [x]  в каждом этапе есть выводы;\n",
    "- [x]  есть общий вывод."
   ]
  }
 ],
 "metadata": {
  "kernelspec": {
   "display_name": "Python 3",
   "language": "python",
   "name": "python3"
  },
  "language_info": {
   "codemirror_mode": {
    "name": "ipython",
    "version": 3
   },
   "file_extension": ".py",
   "mimetype": "text/x-python",
   "name": "python",
   "nbconvert_exporter": "python",
   "pygments_lexer": "ipython3",
   "version": "3.8.5"
  }
 },
 "nbformat": 4,
 "nbformat_minor": 2
}
