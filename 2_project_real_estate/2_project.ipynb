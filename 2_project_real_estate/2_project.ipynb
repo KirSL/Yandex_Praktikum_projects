{
 "cells": [
  {
   "cell_type": "markdown",
   "metadata": {},
   "source": [
    "# Исследование объявлений о продаже квартир\n",
    "\n",
    "В вашем распоряжении данные сервиса Яндекс.Недвижимость — архив объявлений о продаже квартир в Санкт-Петербурге и соседних населённых пунктов за несколько лет. Нужно научиться определять рыночную стоимость объектов недвижимости. Ваша задача — установить параметры. Это позволит построить автоматизированную систему: она отследит аномалии и мошенническую деятельность. \n",
    "\n",
    "По каждой квартире на продажу доступны два вида данных. Первые вписаны пользователем, вторые — получены автоматически на основе картографических данных. Например, расстояние до центра, аэропорта, ближайшего парка и водоёма.\n",
    "\n",
    "# Оглавление\n",
    "1. [Шаг 1. Открытие файла с данными и изучение общей информации](#step1)\n",
    "\n",
    "2. [Шаг 2. Предобработка данных:](#step2)<br>\n",
    " 2.1. [Исследование пропусков в таблице и замена релевантными значениями](#step2-1)<br>\n",
    " 2.2. [Приведение типов данных](#step2-2)<br>\n",
    " \n",
    "3. [Шаг 3. Добавление новых данных в таблицу:](#step-3)<br>\n",
    " 3.1. [Цена квадратного метра](#step3-1)<br>\n",
    " 3.2. [День недели, месяц, год](#step3-2)<br>\n",
    " 3.3. [Соотношение жилплощади и кухни ко всей площади](#step3-3)<br>\n",
    " 3.4. [Этаж квартиры: первый, последний, другой](#step3-4)<br>\n",
    " \n",
    "4. [Шаг 4. Исследовательский анализ:](#step-4)<br>\n",
    " 4.1. [Изучение площади, цены, числа комнат и высоты потолка](#step4-1)<br>\n",
    " 4.2. [Гистограммы распределения](#step4-2)<br>\n",
    " 4.3. [Время продажи квартиры](#step4-3)<br>\n",
    " 4.4. [Удаление редких и выбивающихся значений](#step4-4)<br>"
   ]
  },
  {
   "cell_type": "markdown",
   "metadata": {},
   "source": [
    "# Шаг 1. Открытие файла с данными и изучение общей информации \n",
    "<a id=\"step1\"></a> "
   ]
  },
  {
   "cell_type": "code",
   "execution_count": 1,
   "metadata": {},
   "outputs": [
    {
     "name": "stdout",
     "output_type": "stream",
     "text": [
      "<class 'pandas.core.frame.DataFrame'>\n",
      "RangeIndex: 23699 entries, 0 to 23698\n",
      "Data columns (total 22 columns):\n",
      "total_images            23699 non-null int64\n",
      "last_price              23699 non-null float64\n",
      "total_area              23699 non-null float64\n",
      "first_day_exposition    23699 non-null object\n",
      "rooms                   23699 non-null int64\n",
      "ceiling_height          14504 non-null float64\n",
      "floors_total            23613 non-null float64\n",
      "living_area             21796 non-null float64\n",
      "floor                   23699 non-null int64\n",
      "is_apartment            2775 non-null object\n",
      "studio                  23699 non-null bool\n",
      "open_plan               23699 non-null bool\n",
      "kitchen_area            21421 non-null float64\n",
      "balcony                 12180 non-null float64\n",
      "locality_name           23650 non-null object\n",
      "airports_nearest        18157 non-null float64\n",
      "cityCenters_nearest     18180 non-null float64\n",
      "parks_around3000        18181 non-null float64\n",
      "parks_nearest           8079 non-null float64\n",
      "ponds_around3000        18181 non-null float64\n",
      "ponds_nearest           9110 non-null float64\n",
      "days_exposition         20518 non-null float64\n",
      "dtypes: bool(2), float64(14), int64(3), object(3)\n",
      "memory usage: 3.7+ MB\n"
     ]
    },
    {
     "data": {
      "text/html": [
       "<div>\n",
       "<style scoped>\n",
       "    .dataframe tbody tr th:only-of-type {\n",
       "        vertical-align: middle;\n",
       "    }\n",
       "\n",
       "    .dataframe tbody tr th {\n",
       "        vertical-align: top;\n",
       "    }\n",
       "\n",
       "    .dataframe thead th {\n",
       "        text-align: right;\n",
       "    }\n",
       "</style>\n",
       "<table border=\"1\" class=\"dataframe\">\n",
       "  <thead>\n",
       "    <tr style=\"text-align: right;\">\n",
       "      <th></th>\n",
       "      <th>total_images</th>\n",
       "      <th>last_price</th>\n",
       "      <th>total_area</th>\n",
       "      <th>first_day_exposition</th>\n",
       "      <th>rooms</th>\n",
       "      <th>ceiling_height</th>\n",
       "      <th>floors_total</th>\n",
       "      <th>living_area</th>\n",
       "      <th>floor</th>\n",
       "      <th>is_apartment</th>\n",
       "      <th>...</th>\n",
       "      <th>kitchen_area</th>\n",
       "      <th>balcony</th>\n",
       "      <th>locality_name</th>\n",
       "      <th>airports_nearest</th>\n",
       "      <th>cityCenters_nearest</th>\n",
       "      <th>parks_around3000</th>\n",
       "      <th>parks_nearest</th>\n",
       "      <th>ponds_around3000</th>\n",
       "      <th>ponds_nearest</th>\n",
       "      <th>days_exposition</th>\n",
       "    </tr>\n",
       "  </thead>\n",
       "  <tbody>\n",
       "    <tr>\n",
       "      <td>0</td>\n",
       "      <td>20</td>\n",
       "      <td>13000000.0</td>\n",
       "      <td>108.0</td>\n",
       "      <td>2019-03-07T00:00:00</td>\n",
       "      <td>3</td>\n",
       "      <td>2.70</td>\n",
       "      <td>16.0</td>\n",
       "      <td>51.0</td>\n",
       "      <td>8</td>\n",
       "      <td>NaN</td>\n",
       "      <td>...</td>\n",
       "      <td>25.0</td>\n",
       "      <td>NaN</td>\n",
       "      <td>Санкт-Петербург</td>\n",
       "      <td>18863.0</td>\n",
       "      <td>16028.0</td>\n",
       "      <td>1.0</td>\n",
       "      <td>482.0</td>\n",
       "      <td>2.0</td>\n",
       "      <td>755.0</td>\n",
       "      <td>NaN</td>\n",
       "    </tr>\n",
       "    <tr>\n",
       "      <td>1</td>\n",
       "      <td>7</td>\n",
       "      <td>3350000.0</td>\n",
       "      <td>40.4</td>\n",
       "      <td>2018-12-04T00:00:00</td>\n",
       "      <td>1</td>\n",
       "      <td>NaN</td>\n",
       "      <td>11.0</td>\n",
       "      <td>18.6</td>\n",
       "      <td>1</td>\n",
       "      <td>NaN</td>\n",
       "      <td>...</td>\n",
       "      <td>11.0</td>\n",
       "      <td>2.0</td>\n",
       "      <td>посёлок Шушары</td>\n",
       "      <td>12817.0</td>\n",
       "      <td>18603.0</td>\n",
       "      <td>0.0</td>\n",
       "      <td>NaN</td>\n",
       "      <td>0.0</td>\n",
       "      <td>NaN</td>\n",
       "      <td>81.0</td>\n",
       "    </tr>\n",
       "    <tr>\n",
       "      <td>2</td>\n",
       "      <td>10</td>\n",
       "      <td>5196000.0</td>\n",
       "      <td>56.0</td>\n",
       "      <td>2015-08-20T00:00:00</td>\n",
       "      <td>2</td>\n",
       "      <td>NaN</td>\n",
       "      <td>5.0</td>\n",
       "      <td>34.3</td>\n",
       "      <td>4</td>\n",
       "      <td>NaN</td>\n",
       "      <td>...</td>\n",
       "      <td>8.3</td>\n",
       "      <td>0.0</td>\n",
       "      <td>Санкт-Петербург</td>\n",
       "      <td>21741.0</td>\n",
       "      <td>13933.0</td>\n",
       "      <td>1.0</td>\n",
       "      <td>90.0</td>\n",
       "      <td>2.0</td>\n",
       "      <td>574.0</td>\n",
       "      <td>558.0</td>\n",
       "    </tr>\n",
       "    <tr>\n",
       "      <td>3</td>\n",
       "      <td>0</td>\n",
       "      <td>64900000.0</td>\n",
       "      <td>159.0</td>\n",
       "      <td>2015-07-24T00:00:00</td>\n",
       "      <td>3</td>\n",
       "      <td>NaN</td>\n",
       "      <td>14.0</td>\n",
       "      <td>NaN</td>\n",
       "      <td>9</td>\n",
       "      <td>NaN</td>\n",
       "      <td>...</td>\n",
       "      <td>NaN</td>\n",
       "      <td>0.0</td>\n",
       "      <td>Санкт-Петербург</td>\n",
       "      <td>28098.0</td>\n",
       "      <td>6800.0</td>\n",
       "      <td>2.0</td>\n",
       "      <td>84.0</td>\n",
       "      <td>3.0</td>\n",
       "      <td>234.0</td>\n",
       "      <td>424.0</td>\n",
       "    </tr>\n",
       "    <tr>\n",
       "      <td>4</td>\n",
       "      <td>2</td>\n",
       "      <td>10000000.0</td>\n",
       "      <td>100.0</td>\n",
       "      <td>2018-06-19T00:00:00</td>\n",
       "      <td>2</td>\n",
       "      <td>3.03</td>\n",
       "      <td>14.0</td>\n",
       "      <td>32.0</td>\n",
       "      <td>13</td>\n",
       "      <td>NaN</td>\n",
       "      <td>...</td>\n",
       "      <td>41.0</td>\n",
       "      <td>NaN</td>\n",
       "      <td>Санкт-Петербург</td>\n",
       "      <td>31856.0</td>\n",
       "      <td>8098.0</td>\n",
       "      <td>2.0</td>\n",
       "      <td>112.0</td>\n",
       "      <td>1.0</td>\n",
       "      <td>48.0</td>\n",
       "      <td>121.0</td>\n",
       "    </tr>\n",
       "  </tbody>\n",
       "</table>\n",
       "<p>5 rows × 22 columns</p>\n",
       "</div>"
      ],
      "text/plain": [
       "   total_images  last_price  total_area first_day_exposition  rooms  \\\n",
       "0            20  13000000.0       108.0  2019-03-07T00:00:00      3   \n",
       "1             7   3350000.0        40.4  2018-12-04T00:00:00      1   \n",
       "2            10   5196000.0        56.0  2015-08-20T00:00:00      2   \n",
       "3             0  64900000.0       159.0  2015-07-24T00:00:00      3   \n",
       "4             2  10000000.0       100.0  2018-06-19T00:00:00      2   \n",
       "\n",
       "   ceiling_height  floors_total  living_area  floor is_apartment  ...  \\\n",
       "0            2.70          16.0         51.0      8          NaN  ...   \n",
       "1             NaN          11.0         18.6      1          NaN  ...   \n",
       "2             NaN           5.0         34.3      4          NaN  ...   \n",
       "3             NaN          14.0          NaN      9          NaN  ...   \n",
       "4            3.03          14.0         32.0     13          NaN  ...   \n",
       "\n",
       "   kitchen_area  balcony    locality_name  airports_nearest  \\\n",
       "0          25.0      NaN  Санкт-Петербург           18863.0   \n",
       "1          11.0      2.0   посёлок Шушары           12817.0   \n",
       "2           8.3      0.0  Санкт-Петербург           21741.0   \n",
       "3           NaN      0.0  Санкт-Петербург           28098.0   \n",
       "4          41.0      NaN  Санкт-Петербург           31856.0   \n",
       "\n",
       "  cityCenters_nearest  parks_around3000  parks_nearest  ponds_around3000  \\\n",
       "0             16028.0               1.0          482.0               2.0   \n",
       "1             18603.0               0.0            NaN               0.0   \n",
       "2             13933.0               1.0           90.0               2.0   \n",
       "3              6800.0               2.0           84.0               3.0   \n",
       "4              8098.0               2.0          112.0               1.0   \n",
       "\n",
       "   ponds_nearest  days_exposition  \n",
       "0          755.0              NaN  \n",
       "1            NaN             81.0  \n",
       "2          574.0            558.0  \n",
       "3          234.0            424.0  \n",
       "4           48.0            121.0  \n",
       "\n",
       "[5 rows x 22 columns]"
      ]
     },
     "execution_count": 1,
     "metadata": {},
     "output_type": "execute_result"
    }
   ],
   "source": [
    "import pandas as pd\n",
    "import matplotlib.pyplot as plt\n",
    "import seaborn as sns\n",
    "\n",
    "df = pd.read_csv('./datasets/real_estate.csv', sep = '\\t')\n",
    "\n",
    "df.info()\n",
    "df.head()"
   ]
  },
  {
   "cell_type": "markdown",
   "metadata": {},
   "source": [
    "#### Вывод"
   ]
  },
  {
   "cell_type": "markdown",
   "metadata": {},
   "source": [
    "В таблице много пропущенных данных. Причины могут быть разными: данные отсутствуют, например, в квартире нет балкона и вместо нуля проставился NaN, либо их не заполняли при отправке анкеты. Какие-то можно будет заполнить нулями, какие-то средним.\n",
    "\n",
    "Многие поля имеют тип float, хотя лучше использовать для них int, поскольку значения в них целочисленные. После обработки пропусков изменю типы данных на подходящие.\n",
    "\n",
    "##### Вопросы:\n",
    "- Почему возникли пропуски? \n",
    "- Как будем их заполнять?\n",
    "- Что с типами данных, они корректные?"
   ]
  },
  {
   "cell_type": "markdown",
   "metadata": {},
   "source": [
    "# Шаг 2. Предобработка данных \n",
    "<a id=\"step2\"></a>"
   ]
  },
  {
   "cell_type": "markdown",
   "metadata": {},
   "source": [
    "## Исследование пропусков в таблице и замена релевантными значениями \n",
    "<a id=\"step2-1\"></a>"
   ]
  },
  {
   "cell_type": "markdown",
   "metadata": {},
   "source": [
    "определите и изучите пропущенные значения:\n",
    "для некоторых пропущенных значений можно предположить логичную замену. Например, если человек не указал число балконов — скорее всего, их нет. Такие пропуски правильно заменить на 0. Для других типов данных нет подходящего значения на замену. В этом случае правильно оставить эти значения пустыми. Отсутствие значения — тоже важный сигнал, который не нужно прятать;\n",
    "заполните пропуски, где это уместно. Опишите, почему вы решили заполнить пропуски именно в этих столбцах и как выбрали значения;\n",
    "укажите причины, которые могли привести к пропускам в данных.\n",
    "приведите данные к нужным типам:\n",
    "поясните, в каких столбцах нужно изменить тип данных и почему."
   ]
  },
  {
   "cell_type": "code",
   "execution_count": 2,
   "metadata": {
    "scrolled": false
   },
   "outputs": [
    {
     "name": "stdout",
     "output_type": "stream",
     "text": [
      "<class 'pandas.core.frame.DataFrame'>\n",
      "RangeIndex: 23699 entries, 0 to 23698\n",
      "Data columns (total 22 columns):\n",
      "total_images            23699 non-null int64\n",
      "last_price              23699 non-null float64\n",
      "total_area              23699 non-null float64\n",
      "first_day_exposition    23699 non-null object\n",
      "rooms                   23699 non-null int64\n",
      "ceiling_height          14504 non-null float64\n",
      "floors_total            23613 non-null float64\n",
      "living_area             21796 non-null float64\n",
      "floor                   23699 non-null int64\n",
      "is_apartment            2775 non-null object\n",
      "studio                  23699 non-null bool\n",
      "open_plan               23699 non-null bool\n",
      "kitchen_area            21421 non-null float64\n",
      "balcony                 12180 non-null float64\n",
      "locality_name           23650 non-null object\n",
      "airports_nearest        18157 non-null float64\n",
      "cityCenters_nearest     18180 non-null float64\n",
      "parks_around3000        18181 non-null float64\n",
      "parks_nearest           8079 non-null float64\n",
      "ponds_around3000        18181 non-null float64\n",
      "ponds_nearest           9110 non-null float64\n",
      "days_exposition         20518 non-null float64\n",
      "dtypes: bool(2), float64(14), int64(3), object(3)\n",
      "memory usage: 3.7+ MB\n"
     ]
    }
   ],
   "source": [
    "df.info()"
   ]
  },
  {
   "cell_type": "code",
   "execution_count": 3,
   "metadata": {
    "scrolled": false
   },
   "outputs": [
    {
     "name": "stdout",
     "output_type": "stream",
     "text": [
      "Пропуски:\n",
      "ceiling_height: 9195; 38.8% \n",
      "\n",
      "living_area: 1903; 8.0% \n",
      "\n",
      "is_apartment: 20924; 88.3% \n",
      "\n",
      "kitchen_area: 2278; 9.6% \n",
      "\n",
      "balcony: 11519; 48.6% \n",
      "\n",
      "airports_nearest: 5542; 23.4% \n",
      "\n",
      "cityCenters_nearest: 5519; 23.3% \n",
      "\n",
      "parks_around3000: 5518; 23.3% \n",
      "\n",
      "parks_nearest: 15620; 65.9% \n",
      "\n",
      "ponds_around3000: 5518; 23.3% \n",
      "\n",
      "ponds_nearest: 14589; 61.6% \n",
      "\n",
      "days_exposition: 3181; 13.4% \n",
      "\n"
     ]
    },
    {
     "data": {
      "text/plain": [
       "total_images            None\n",
       "last_price              None\n",
       "total_area              None\n",
       "first_day_exposition    None\n",
       "rooms                   None\n",
       "ceiling_height          None\n",
       "floors_total            None\n",
       "living_area             None\n",
       "floor                   None\n",
       "is_apartment            None\n",
       "studio                  None\n",
       "open_plan               None\n",
       "kitchen_area            None\n",
       "balcony                 None\n",
       "locality_name           None\n",
       "airports_nearest        None\n",
       "cityCenters_nearest     None\n",
       "parks_around3000        None\n",
       "parks_nearest           None\n",
       "ponds_around3000        None\n",
       "ponds_nearest           None\n",
       "days_exposition         None\n",
       "dtype: object"
      ]
     },
     "execution_count": 3,
     "metadata": {},
     "output_type": "execute_result"
    }
   ],
   "source": [
    "#Проверяем пропуски NaN во всех столбцах\n",
    "# Если кол-во пропусков меньше 1%, то их игнорировал\n",
    "def print_nan(row):\n",
    "    \n",
    "    nan_count = row.isna().sum()\n",
    "    nan_percent = row.isna().sum() / df.shape[0]\n",
    "\n",
    "    if nan_count > 0:\n",
    "        if nan_percent > 0.01:\n",
    "            print('{}: {};'.format(row.name, row.isna().sum()),\n",
    "                  '{:.1%}'.format(row.isna().sum() / df.shape[0]), '\\n')\n",
    "\n",
    "#Методом .apply() применил функцию print_nan() к датафрейму по столбцам        \n",
    "print('Пропуски:')\n",
    "df.apply(print_nan, axis = 0)"
   ]
  },
  {
   "cell_type": "markdown",
   "metadata": {},
   "source": [
    "Много пропусков по высоте потолка. Прежде, чем их заполнить, проверим, есть ли выбросы. Аналогичное позже проделаю и с жилой площадью, кухней."
   ]
  },
  {
   "cell_type": "markdown",
   "metadata": {},
   "source": [
    "### Проверяем высоту потолков"
   ]
  },
  {
   "cell_type": "code",
   "execution_count": 4,
   "metadata": {},
   "outputs": [
    {
     "data": {
      "text/plain": [
       "<matplotlib.axes._subplots.AxesSubplot at 0x7f9c3e0b0f50>"
      ]
     },
     "execution_count": 4,
     "metadata": {},
     "output_type": "execute_result"
    },
    {
     "data": {
      "image/png": "[encoded data removed]",
      "text/plain": [
       "<Figure size 432x288 with 1 Axes>"
      ]
     },
     "metadata": {
      "needs_background": "light"
     },
     "output_type": "display_data"
    }
   ],
   "source": [
    "df.plot(\n",
    "    kind = 'box',\n",
    "    title = 'Высота потолка, м',\n",
    "    y = 'ceiling_height',\n",
    "    grid = True\n",
    ")"
   ]
  },
  {
   "cell_type": "markdown",
   "metadata": {},
   "source": [
    "Выбросы есть. Посмотрим подробнее."
   ]
  },
  {
   "cell_type": "code",
   "execution_count": 5,
   "metadata": {
    "scrolled": false
   },
   "outputs": [
    {
     "data": {
      "text/plain": [
       "27.0     8\n",
       "25.0     7\n",
       "8.0      3\n",
       "32.0     2\n",
       "5.3      2\n",
       "20.0     1\n",
       "24.0     1\n",
       "26.0     1\n",
       "5.5      1\n",
       "14.0     1\n",
       "22.6     1\n",
       "5.8      1\n",
       "27.5     1\n",
       "100.0    1\n",
       "10.3     1\n",
       "5.6      1\n",
       "8.3      1\n",
       "5.2      1\n",
       "6.0      1\n",
       "Name: ceiling_height, dtype: int64"
      ]
     },
     "execution_count": 5,
     "metadata": {},
     "output_type": "execute_result"
    },
    {
     "data": {
      "image/png": "[encoded data removed]",
      "text/plain": [
       "<Figure size 432x288 with 1 Axes>"
      ]
     },
     "metadata": {
      "needs_background": "light"
     },
     "output_type": "display_data"
    }
   ],
   "source": [
    "df.plot(\n",
    "    title = 'Распределение высоты потолка к жилой площади, м',\n",
    "    x = 'living_area', \n",
    "    y = 'ceiling_height',\n",
    "    kind = 'scatter'\n",
    ")\n",
    "df.query('ceiling_height > 5')['ceiling_height'].value_counts()"
   ]
  },
  {
   "cell_type": "markdown",
   "metadata": {},
   "source": [
    "Видимо, при заполнении высоты неверно указали разрядность и получилось вместо 2.5 метра - 25. Решим это, а все, что выше 10 метров - удалим."
   ]
  },
  {
   "cell_type": "code",
   "execution_count": 6,
   "metadata": {},
   "outputs": [],
   "source": [
    "df['ceiling_height'] = df['ceiling_height'].where(df['ceiling_height'] < 10, df['ceiling_height'] / 10)"
   ]
  },
  {
   "cell_type": "code",
   "execution_count": 7,
   "metadata": {
    "scrolled": true
   },
   "outputs": [
    {
     "data": {
      "text/plain": [
       "<matplotlib.axes._subplots.AxesSubplot at 0x7f9c3d8f8e10>"
      ]
     },
     "execution_count": 7,
     "metadata": {},
     "output_type": "execute_result"
    },
    {
     "data": {
      "image/png": "[encoded data removed]",
      "text/plain": [
       "<Figure size 432x288 with 1 Axes>"
      ]
     },
     "metadata": {
      "needs_background": "light"
     },
     "output_type": "display_data"
    }
   ],
   "source": [
    "df.plot(\n",
    "    title = 'Распределение высоты потолка к жилой площади, м',\n",
    "    x = 'living_area', \n",
    "    y = 'ceiling_height',\n",
    "    kind = 'scatter'\n",
    ")"
   ]
  },
  {
   "cell_type": "markdown",
   "metadata": {},
   "source": [
    "От выбросов по высоте потолка избавились.<br>\n",
    "Заполним медианой."
   ]
  },
  {
   "cell_type": "code",
   "execution_count": 8,
   "metadata": {},
   "outputs": [],
   "source": [
    "# Заполнение медианой пустых значений высоты потолка\n",
    "df.loc[df['ceiling_height'].isna(), 'ceiling_height'] = df['ceiling_height'].median()"
   ]
  },
  {
   "cell_type": "markdown",
   "metadata": {},
   "source": [
    "### Проверяем жилую площадь"
   ]
  },
  {
   "cell_type": "code",
   "execution_count": 9,
   "metadata": {
    "scrolled": true
   },
   "outputs": [
    {
     "data": {
      "text/plain": [
       "<matplotlib.axes._subplots.AxesSubplot at 0x7f9c3d897350>"
      ]
     },
     "execution_count": 9,
     "metadata": {},
     "output_type": "execute_result"
    },
    {
     "data": {
      "image/png": "[encoded data removed]",
      "text/plain": [
       "<Figure size 432x288 with 1 Axes>"
      ]
     },
     "metadata": {
      "needs_background": "light"
     },
     "output_type": "display_data"
    }
   ],
   "source": [
    "df.plot(\n",
    "    kind = 'box',\n",
    "    title = 'Жилая площадь, м2',\n",
    "    y = 'living_area',\n",
    "    grid = True\n",
    ")"
   ]
  },
  {
   "cell_type": "markdown",
   "metadata": {},
   "source": [
    "Много значений > 100, надо посмотреть подробнее на них. Может действительно есть большие квартиры, а может проблема как и с потолками."
   ]
  },
  {
   "cell_type": "code",
   "execution_count": 10,
   "metadata": {
    "scrolled": true
   },
   "outputs": [
    {
     "data": {
      "text/plain": [
       "<matplotlib.axes._subplots.AxesSubplot at 0x7f9c3d810b50>"
      ]
     },
     "execution_count": 10,
     "metadata": {},
     "output_type": "execute_result"
    },
    {
     "data": {
      "image/png": "[encoded data removed]",
      "text/plain": [
       "<Figure size 432x288 with 1 Axes>"
      ]
     },
     "metadata": {
      "needs_background": "light"
     },
     "output_type": "display_data"
    }
   ],
   "source": [
    "df.plot(\n",
    "    title = 'Распределение жилой площади к кол-ву квартир',\n",
    "    x = 'living_area', \n",
    "    y = 'rooms', \n",
    "    kind = 'scatter'\n",
    ")"
   ]
  },
  {
   "cell_type": "markdown",
   "metadata": {},
   "source": [
    "Есть несколько квартир, где количество комнат > 8 и площадь > 180 метров. Вероятно, премиум жилье. При заполнении пустых значений использую медиану - она менее чувствительна к выбросам."
   ]
  },
  {
   "cell_type": "code",
   "execution_count": 11,
   "metadata": {},
   "outputs": [],
   "source": [
    "living_median = df['living_area'].median()\n",
    "kitchen_median = df['kitchen_area'].median()\n",
    "\n",
    "# Заполнение жилой площади\n",
    "def fill_living_area(row):\n",
    "    if row['living_area'] > 0:\n",
    "        result = row['living_area']\n",
    "\n",
    "    else:\n",
    "        if living_median >= row['total_area']:\n",
    "            if row['kitchen_area'] > 0:\n",
    "                result = row['total_area'] - row['kitchen_area']\n",
    "            else:\n",
    "                result = row['total_area'] - kitchen_median\n",
    "        else:\n",
    "            result = living_median - kitchen_median\n",
    "        \n",
    "\n",
    "    return result\n",
    "\n",
    "\n",
    "df['living_area'] = df.apply(fill_living_area, axis = 1)"
   ]
  },
  {
   "cell_type": "markdown",
   "metadata": {},
   "source": [
    "### Проверяем кухни"
   ]
  },
  {
   "cell_type": "code",
   "execution_count": 12,
   "metadata": {
    "scrolled": true
   },
   "outputs": [
    {
     "data": {
      "text/plain": [
       "<matplotlib.axes._subplots.AxesSubplot at 0x7f9c3d76f310>"
      ]
     },
     "execution_count": 12,
     "metadata": {},
     "output_type": "execute_result"
    },
    {
     "data": {
      "image/png": "[encoded data removed]",
      "text/plain": [
       "<Figure size 432x288 with 1 Axes>"
      ]
     },
     "metadata": {
      "needs_background": "light"
     },
     "output_type": "display_data"
    }
   ],
   "source": [
    "df.plot(\n",
    "    kind = 'box',\n",
    "    title = 'Площадь кухни, м2',\n",
    "    y = 'kitchen_area',\n",
    "    grid = True\n",
    ")"
   ]
  },
  {
   "cell_type": "markdown",
   "metadata": {},
   "source": [
    "Много значений > 20, надо посмотреть подробнее на них. Может действительно есть большие квартиры, а может проблема как и с потолками."
   ]
  },
  {
   "cell_type": "code",
   "execution_count": 13,
   "metadata": {},
   "outputs": [
    {
     "data": {
      "text/plain": [
       "<matplotlib.axes._subplots.AxesSubplot at 0x7f9c3d73d910>"
      ]
     },
     "execution_count": 13,
     "metadata": {},
     "output_type": "execute_result"
    },
    {
     "data": {
      "image/png": "[encoded data removed]",
      "text/plain": [
       "<Figure size 432x288 with 1 Axes>"
      ]
     },
     "metadata": {
      "needs_background": "light"
     },
     "output_type": "display_data"
    }
   ],
   "source": [
    "df.plot(\n",
    "    title = 'Распределение площади кухни к жилой площади', \n",
    "    x = 'kitchen_area', \n",
    "    y = 'living_area', \n",
    "    kind = 'scatter', \n",
    "    alpha = 0.005\n",
    ")"
   ]
  },
  {
   "cell_type": "markdown",
   "metadata": {},
   "source": [
    "Похоже на то, что большие кухни находятся в больших квартирах  :) <br>\n",
    "наибольшее скопление размера кухонь в диапазоне 15 метров.<br>\n",
    "Надо заполнять так же медианой."
   ]
  },
  {
   "cell_type": "code",
   "execution_count": 14,
   "metadata": {},
   "outputs": [],
   "source": [
    "# Заполнение площади кухни\n",
    "def fill_kitchen_area(row):  \n",
    "    if row['kitchen_area'] > 0:\n",
    "         result = row['kitchen_area']\n",
    "            \n",
    "    else:\n",
    "        if kitchen_median > (row['total_area'] - row['living_area']):\n",
    "            result = row['total_area'] - row['living_area']\n",
    "        else: \n",
    "            result = kitchen_median\n",
    "        \n",
    "    return result\n",
    "\n",
    "\n",
    "df['kitchen_area'] = df.apply(fill_kitchen_area, axis = 1)"
   ]
  },
  {
   "cell_type": "code",
   "execution_count": 15,
   "metadata": {
    "scrolled": true
   },
   "outputs": [
    {
     "data": {
      "text/plain": [
       "Text(0, 0.5, 'Количество')"
      ]
     },
     "execution_count": 15,
     "metadata": {},
     "output_type": "execute_result"
    },
    {
     "data": {
      "image/png": "[encoded data removed]",
      "text/plain": [
       "<Figure size 432x288 with 1 Axes>"
      ]
     },
     "metadata": {
      "needs_background": "light"
     },
     "output_type": "display_data"
    }
   ],
   "source": [
    "# Распределение размера кухни по количеству\n",
    "df.plot(\n",
    "    y = 'kitchen_area',\n",
    "    kind = 'hist',\n",
    "    bins = 20,\n",
    "    range = (0, 40),\n",
    "    grid = True,\n",
    "    linewidth = 2\n",
    ")\n",
    "plt.title('Распределение площади кухни')\n",
    "plt.xlabel('Площадь кухни, м2')\n",
    "plt.ylabel(\"Количество\")"
   ]
  },
  {
   "cell_type": "markdown",
   "metadata": {},
   "source": [
    "<div style=\"border:solid green 2px; padding: 20px\" > <font size=\"6\" face=\"Arial\" style=\"color:green; margin-bottom:20px\">Комментарий ревьювера #2<font size=\"3\" color='green'> \n",
    "<div class=\"alert alert-block alert-success\">\n",
    "<b>Все ОК:</b> \n",
    "    \n",
    "1. Как прописывать единицы измерения в оси при использовании plot()? Пробовал ylabel, xlabel - постоянно ошибки выдает\n",
    "    \n",
    "    - способ который ты пробовал, работает только для pandas версии выше 1.2.XX, тут версия 0.25.ХХ поэтому подписывать необходимо с помощью комманд plt.xlabel(), plt.ylabel()\n",
    "    \n",
    "    \n",
    "2. в .boxplot() нужно ли такое делать? Или boxplot() надо делать через plot(kind = 'box')? Но все равно ошибки выдает при xlabel, ylabel.  \n",
    "    \n",
    "    - делать можно как считаешь нужным, это все равно вызывает один и тот же метод только через разные интерфейсы. Чтобы небыло ошибки нужно использовать методы как в предыдущем ответе.\n",
    "    \n",
    "    \n",
    "3. Считается ли график living_area / kitchen_area как несколько переменных? \n",
    "    \n",
    "    - нет, я имел ввиду несколько категорий переменных, ли распределения двух переменнхы\n",
    "</div>"
   ]
  },
  {
   "cell_type": "markdown",
   "metadata": {},
   "source": [
    "### Заполняем очевидные пропуски"
   ]
  },
  {
   "cell_type": "code",
   "execution_count": 16,
   "metadata": {},
   "outputs": [],
   "source": [
    "# Заполннеие нулями пустых значений в балконах и ближайших парков, водоемов\n",
    "df.loc[df['balcony'].isna(), 'balcony'] = 0\n",
    "df.loc[df['is_apartment'].isna(), 'is_apartment'] = False\n",
    "df.loc[df['parks_around3000'].isna(), 'parks_around3000'] = 0\n",
    "df.loc[df['ponds_around3000'].isna(), 'ponds_around3000'] = 0\n",
    "\n",
    "\n",
    "# Заполнение значением max() этажа, чтобы сконвертировать тип столбца в int\n",
    "df.loc[df['floors_total'].isna(), 'floors_total'] = df['floors_total'].max()\n",
    "\n",
    "\n",
    "# Заполнение 1 (единицей) объявлений, где указано студия\n",
    "df.loc[(df['rooms'] == 0) & (df['studio'] == True)] = 1\n",
    "# Заполнение 1 (единицей) объявлений, где указано студия и отсутствует кухня\n",
    "df.loc[(df['rooms'] == 0) & (df['kitchen_area'].isna())] = 1\n",
    "\n",
    "\n",
    "# Заполнение общей площадью жилой и кухни в студиях\n",
    "df.loc[(df['studio'] == True) & (df['kitchen_area'].isna()), 'kitchen_area'] = df['total_area']\n",
    "df.loc[(df['studio'] == True) & (df['living_area'].isna()), 'living_area']   = df['total_area']"
   ]
  },
  {
   "cell_type": "code",
   "execution_count": 17,
   "metadata": {},
   "outputs": [
    {
     "data": {
      "text/html": [
       "<div>\n",
       "<style scoped>\n",
       "    .dataframe tbody tr th:only-of-type {\n",
       "        vertical-align: middle;\n",
       "    }\n",
       "\n",
       "    .dataframe tbody tr th {\n",
       "        vertical-align: top;\n",
       "    }\n",
       "\n",
       "    .dataframe thead th {\n",
       "        text-align: right;\n",
       "    }\n",
       "</style>\n",
       "<table border=\"1\" class=\"dataframe\">\n",
       "  <thead>\n",
       "    <tr style=\"text-align: right;\">\n",
       "      <th></th>\n",
       "      <th>rooms</th>\n",
       "      <th>last_price</th>\n",
       "      <th>total_area</th>\n",
       "      <th>living_area</th>\n",
       "      <th>kitchen_area</th>\n",
       "      <th>is_apartment</th>\n",
       "      <th>studio</th>\n",
       "      <th>open_plan</th>\n",
       "    </tr>\n",
       "  </thead>\n",
       "  <tbody>\n",
       "    <tr>\n",
       "      <td>349</td>\n",
       "      <td>0</td>\n",
       "      <td>2320000.0</td>\n",
       "      <td>25.00</td>\n",
       "      <td>17.0</td>\n",
       "      <td>8.00</td>\n",
       "      <td>False</td>\n",
       "      <td>False</td>\n",
       "      <td>True</td>\n",
       "    </tr>\n",
       "    <tr>\n",
       "      <td>508</td>\n",
       "      <td>0</td>\n",
       "      <td>3375000.0</td>\n",
       "      <td>34.40</td>\n",
       "      <td>24.3</td>\n",
       "      <td>9.10</td>\n",
       "      <td>False</td>\n",
       "      <td>False</td>\n",
       "      <td>True</td>\n",
       "    </tr>\n",
       "    <tr>\n",
       "      <td>780</td>\n",
       "      <td>0</td>\n",
       "      <td>2600000.0</td>\n",
       "      <td>26.10</td>\n",
       "      <td>17.0</td>\n",
       "      <td>9.10</td>\n",
       "      <td>False</td>\n",
       "      <td>False</td>\n",
       "      <td>True</td>\n",
       "    </tr>\n",
       "    <tr>\n",
       "      <td>839</td>\n",
       "      <td>0</td>\n",
       "      <td>1900000.0</td>\n",
       "      <td>35.00</td>\n",
       "      <td>15.0</td>\n",
       "      <td>9.10</td>\n",
       "      <td>False</td>\n",
       "      <td>False</td>\n",
       "      <td>True</td>\n",
       "    </tr>\n",
       "    <tr>\n",
       "      <td>946</td>\n",
       "      <td>0</td>\n",
       "      <td>2200000.0</td>\n",
       "      <td>23.00</td>\n",
       "      <td>18.0</td>\n",
       "      <td>5.00</td>\n",
       "      <td>False</td>\n",
       "      <td>False</td>\n",
       "      <td>True</td>\n",
       "    </tr>\n",
       "    <tr>\n",
       "      <td>1574</td>\n",
       "      <td>0</td>\n",
       "      <td>2200000.0</td>\n",
       "      <td>22.00</td>\n",
       "      <td>15.0</td>\n",
       "      <td>7.00</td>\n",
       "      <td>False</td>\n",
       "      <td>False</td>\n",
       "      <td>True</td>\n",
       "    </tr>\n",
       "    <tr>\n",
       "      <td>1625</td>\n",
       "      <td>0</td>\n",
       "      <td>1980000.0</td>\n",
       "      <td>23.98</td>\n",
       "      <td>10.5</td>\n",
       "      <td>9.10</td>\n",
       "      <td>False</td>\n",
       "      <td>False</td>\n",
       "      <td>True</td>\n",
       "    </tr>\n",
       "    <tr>\n",
       "      <td>2532</td>\n",
       "      <td>0</td>\n",
       "      <td>3500000.0</td>\n",
       "      <td>27.10</td>\n",
       "      <td>18.7</td>\n",
       "      <td>8.40</td>\n",
       "      <td>False</td>\n",
       "      <td>False</td>\n",
       "      <td>True</td>\n",
       "    </tr>\n",
       "    <tr>\n",
       "      <td>3019</td>\n",
       "      <td>0</td>\n",
       "      <td>2100000.0</td>\n",
       "      <td>24.00</td>\n",
       "      <td>18.0</td>\n",
       "      <td>6.00</td>\n",
       "      <td>False</td>\n",
       "      <td>False</td>\n",
       "      <td>True</td>\n",
       "    </tr>\n",
       "    <tr>\n",
       "      <td>4115</td>\n",
       "      <td>0</td>\n",
       "      <td>2600000.0</td>\n",
       "      <td>24.00</td>\n",
       "      <td>18.0</td>\n",
       "      <td>6.00</td>\n",
       "      <td>False</td>\n",
       "      <td>False</td>\n",
       "      <td>True</td>\n",
       "    </tr>\n",
       "    <tr>\n",
       "      <td>4437</td>\n",
       "      <td>0</td>\n",
       "      <td>3200000.0</td>\n",
       "      <td>25.00</td>\n",
       "      <td>18.6</td>\n",
       "      <td>6.40</td>\n",
       "      <td>False</td>\n",
       "      <td>False</td>\n",
       "      <td>True</td>\n",
       "    </tr>\n",
       "    <tr>\n",
       "      <td>4683</td>\n",
       "      <td>0</td>\n",
       "      <td>3650000.0</td>\n",
       "      <td>35.00</td>\n",
       "      <td>23.4</td>\n",
       "      <td>9.10</td>\n",
       "      <td>False</td>\n",
       "      <td>False</td>\n",
       "      <td>True</td>\n",
       "    </tr>\n",
       "    <tr>\n",
       "      <td>4876</td>\n",
       "      <td>0</td>\n",
       "      <td>3000000.0</td>\n",
       "      <td>25.00</td>\n",
       "      <td>17.0</td>\n",
       "      <td>8.00</td>\n",
       "      <td>False</td>\n",
       "      <td>False</td>\n",
       "      <td>True</td>\n",
       "    </tr>\n",
       "    <tr>\n",
       "      <td>5749</td>\n",
       "      <td>0</td>\n",
       "      <td>3590000.0</td>\n",
       "      <td>25.00</td>\n",
       "      <td>15.9</td>\n",
       "      <td>9.10</td>\n",
       "      <td>False</td>\n",
       "      <td>False</td>\n",
       "      <td>True</td>\n",
       "    </tr>\n",
       "    <tr>\n",
       "      <td>6472</td>\n",
       "      <td>0</td>\n",
       "      <td>3620000.0</td>\n",
       "      <td>28.00</td>\n",
       "      <td>18.0</td>\n",
       "      <td>9.10</td>\n",
       "      <td>False</td>\n",
       "      <td>False</td>\n",
       "      <td>True</td>\n",
       "    </tr>\n",
       "    <tr>\n",
       "      <td>6612</td>\n",
       "      <td>0</td>\n",
       "      <td>3590000.0</td>\n",
       "      <td>26.80</td>\n",
       "      <td>19.0</td>\n",
       "      <td>7.80</td>\n",
       "      <td>False</td>\n",
       "      <td>False</td>\n",
       "      <td>True</td>\n",
       "    </tr>\n",
       "    <tr>\n",
       "      <td>6805</td>\n",
       "      <td>0</td>\n",
       "      <td>1850000.0</td>\n",
       "      <td>31.00</td>\n",
       "      <td>18.0</td>\n",
       "      <td>9.10</td>\n",
       "      <td>False</td>\n",
       "      <td>False</td>\n",
       "      <td>True</td>\n",
       "    </tr>\n",
       "    <tr>\n",
       "      <td>7008</td>\n",
       "      <td>0</td>\n",
       "      <td>5200000.0</td>\n",
       "      <td>32.30</td>\n",
       "      <td>25.5</td>\n",
       "      <td>6.80</td>\n",
       "      <td>False</td>\n",
       "      <td>False</td>\n",
       "      <td>True</td>\n",
       "    </tr>\n",
       "    <tr>\n",
       "      <td>7237</td>\n",
       "      <td>0</td>\n",
       "      <td>2999000.0</td>\n",
       "      <td>42.63</td>\n",
       "      <td>25.7</td>\n",
       "      <td>9.10</td>\n",
       "      <td>False</td>\n",
       "      <td>False</td>\n",
       "      <td>True</td>\n",
       "    </tr>\n",
       "    <tr>\n",
       "      <td>7286</td>\n",
       "      <td>0</td>\n",
       "      <td>2580000.0</td>\n",
       "      <td>30.00</td>\n",
       "      <td>19.0</td>\n",
       "      <td>9.10</td>\n",
       "      <td>False</td>\n",
       "      <td>False</td>\n",
       "      <td>True</td>\n",
       "    </tr>\n",
       "    <tr>\n",
       "      <td>7818</td>\n",
       "      <td>0</td>\n",
       "      <td>3300000.0</td>\n",
       "      <td>27.30</td>\n",
       "      <td>18.2</td>\n",
       "      <td>9.10</td>\n",
       "      <td>False</td>\n",
       "      <td>False</td>\n",
       "      <td>True</td>\n",
       "    </tr>\n",
       "    <tr>\n",
       "      <td>9412</td>\n",
       "      <td>0</td>\n",
       "      <td>2100000.0</td>\n",
       "      <td>16.00</td>\n",
       "      <td>13.0</td>\n",
       "      <td>3.00</td>\n",
       "      <td>False</td>\n",
       "      <td>False</td>\n",
       "      <td>True</td>\n",
       "    </tr>\n",
       "    <tr>\n",
       "      <td>9586</td>\n",
       "      <td>0</td>\n",
       "      <td>1670000.0</td>\n",
       "      <td>28.30</td>\n",
       "      <td>18.2</td>\n",
       "      <td>9.10</td>\n",
       "      <td>False</td>\n",
       "      <td>False</td>\n",
       "      <td>True</td>\n",
       "    </tr>\n",
       "    <tr>\n",
       "      <td>9861</td>\n",
       "      <td>0</td>\n",
       "      <td>2350000.0</td>\n",
       "      <td>25.00</td>\n",
       "      <td>25.0</td>\n",
       "      <td>0.00</td>\n",
       "      <td>False</td>\n",
       "      <td>False</td>\n",
       "      <td>True</td>\n",
       "    </tr>\n",
       "    <tr>\n",
       "      <td>10284</td>\n",
       "      <td>0</td>\n",
       "      <td>2700000.0</td>\n",
       "      <td>24.00</td>\n",
       "      <td>15.5</td>\n",
       "      <td>8.50</td>\n",
       "      <td>False</td>\n",
       "      <td>False</td>\n",
       "      <td>True</td>\n",
       "    </tr>\n",
       "    <tr>\n",
       "      <td>10606</td>\n",
       "      <td>0</td>\n",
       "      <td>2950000.0</td>\n",
       "      <td>25.27</td>\n",
       "      <td>25.0</td>\n",
       "      <td>0.27</td>\n",
       "      <td>False</td>\n",
       "      <td>False</td>\n",
       "      <td>True</td>\n",
       "    </tr>\n",
       "    <tr>\n",
       "      <td>11035</td>\n",
       "      <td>0</td>\n",
       "      <td>2500000.0</td>\n",
       "      <td>26.00</td>\n",
       "      <td>14.0</td>\n",
       "      <td>9.10</td>\n",
       "      <td>False</td>\n",
       "      <td>False</td>\n",
       "      <td>True</td>\n",
       "    </tr>\n",
       "    <tr>\n",
       "      <td>11051</td>\n",
       "      <td>0</td>\n",
       "      <td>2200000.0</td>\n",
       "      <td>26.00</td>\n",
       "      <td>12.0</td>\n",
       "      <td>9.10</td>\n",
       "      <td>False</td>\n",
       "      <td>False</td>\n",
       "      <td>True</td>\n",
       "    </tr>\n",
       "    <tr>\n",
       "      <td>11157</td>\n",
       "      <td>0</td>\n",
       "      <td>2900000.0</td>\n",
       "      <td>27.30</td>\n",
       "      <td>20.0</td>\n",
       "      <td>7.30</td>\n",
       "      <td>False</td>\n",
       "      <td>False</td>\n",
       "      <td>True</td>\n",
       "    </tr>\n",
       "    <tr>\n",
       "      <td>11331</td>\n",
       "      <td>0</td>\n",
       "      <td>1315000.0</td>\n",
       "      <td>27.32</td>\n",
       "      <td>18.7</td>\n",
       "      <td>8.62</td>\n",
       "      <td>False</td>\n",
       "      <td>False</td>\n",
       "      <td>True</td>\n",
       "    </tr>\n",
       "    <tr>\n",
       "      <td>11692</td>\n",
       "      <td>0</td>\n",
       "      <td>2550000.0</td>\n",
       "      <td>23.06</td>\n",
       "      <td>18.0</td>\n",
       "      <td>5.06</td>\n",
       "      <td>False</td>\n",
       "      <td>False</td>\n",
       "      <td>True</td>\n",
       "    </tr>\n",
       "    <tr>\n",
       "      <td>11705</td>\n",
       "      <td>0</td>\n",
       "      <td>3380000.0</td>\n",
       "      <td>26.00</td>\n",
       "      <td>17.0</td>\n",
       "      <td>9.00</td>\n",
       "      <td>False</td>\n",
       "      <td>False</td>\n",
       "      <td>True</td>\n",
       "    </tr>\n",
       "    <tr>\n",
       "      <td>12412</td>\n",
       "      <td>0</td>\n",
       "      <td>3300000.0</td>\n",
       "      <td>27.00</td>\n",
       "      <td>25.0</td>\n",
       "      <td>2.00</td>\n",
       "      <td>False</td>\n",
       "      <td>False</td>\n",
       "      <td>True</td>\n",
       "    </tr>\n",
       "    <tr>\n",
       "      <td>12691</td>\n",
       "      <td>0</td>\n",
       "      <td>3700000.0</td>\n",
       "      <td>24.20</td>\n",
       "      <td>24.2</td>\n",
       "      <td>0.00</td>\n",
       "      <td>False</td>\n",
       "      <td>False</td>\n",
       "      <td>True</td>\n",
       "    </tr>\n",
       "    <tr>\n",
       "      <td>13953</td>\n",
       "      <td>0</td>\n",
       "      <td>3255000.0</td>\n",
       "      <td>28.20</td>\n",
       "      <td>20.0</td>\n",
       "      <td>8.20</td>\n",
       "      <td>False</td>\n",
       "      <td>False</td>\n",
       "      <td>True</td>\n",
       "    </tr>\n",
       "    <tr>\n",
       "      <td>15105</td>\n",
       "      <td>0</td>\n",
       "      <td>2500000.0</td>\n",
       "      <td>26.10</td>\n",
       "      <td>18.0</td>\n",
       "      <td>8.10</td>\n",
       "      <td>False</td>\n",
       "      <td>False</td>\n",
       "      <td>True</td>\n",
       "    </tr>\n",
       "    <tr>\n",
       "      <td>15273</td>\n",
       "      <td>0</td>\n",
       "      <td>2700000.0</td>\n",
       "      <td>25.20</td>\n",
       "      <td>15.2</td>\n",
       "      <td>9.10</td>\n",
       "      <td>False</td>\n",
       "      <td>False</td>\n",
       "      <td>True</td>\n",
       "    </tr>\n",
       "    <tr>\n",
       "      <td>15434</td>\n",
       "      <td>0</td>\n",
       "      <td>2200000.0</td>\n",
       "      <td>27.00</td>\n",
       "      <td>15.0</td>\n",
       "      <td>9.10</td>\n",
       "      <td>False</td>\n",
       "      <td>False</td>\n",
       "      <td>True</td>\n",
       "    </tr>\n",
       "    <tr>\n",
       "      <td>16429</td>\n",
       "      <td>0</td>\n",
       "      <td>2460000.0</td>\n",
       "      <td>28.01</td>\n",
       "      <td>18.1</td>\n",
       "      <td>9.10</td>\n",
       "      <td>False</td>\n",
       "      <td>False</td>\n",
       "      <td>True</td>\n",
       "    </tr>\n",
       "    <tr>\n",
       "      <td>17695</td>\n",
       "      <td>0</td>\n",
       "      <td>2550000.0</td>\n",
       "      <td>24.00</td>\n",
       "      <td>17.0</td>\n",
       "      <td>7.00</td>\n",
       "      <td>False</td>\n",
       "      <td>False</td>\n",
       "      <td>True</td>\n",
       "    </tr>\n",
       "    <tr>\n",
       "      <td>17729</td>\n",
       "      <td>0</td>\n",
       "      <td>2948000.0</td>\n",
       "      <td>28.05</td>\n",
       "      <td>21.8</td>\n",
       "      <td>6.25</td>\n",
       "      <td>False</td>\n",
       "      <td>False</td>\n",
       "      <td>True</td>\n",
       "    </tr>\n",
       "    <tr>\n",
       "      <td>17805</td>\n",
       "      <td>0</td>\n",
       "      <td>2600000.0</td>\n",
       "      <td>31.10</td>\n",
       "      <td>21.4</td>\n",
       "      <td>9.10</td>\n",
       "      <td>False</td>\n",
       "      <td>False</td>\n",
       "      <td>True</td>\n",
       "    </tr>\n",
       "    <tr>\n",
       "      <td>17824</td>\n",
       "      <td>0</td>\n",
       "      <td>2300000.0</td>\n",
       "      <td>22.50</td>\n",
       "      <td>20.0</td>\n",
       "      <td>2.50</td>\n",
       "      <td>False</td>\n",
       "      <td>False</td>\n",
       "      <td>True</td>\n",
       "    </tr>\n",
       "    <tr>\n",
       "      <td>18042</td>\n",
       "      <td>0</td>\n",
       "      <td>2950000.0</td>\n",
       "      <td>25.90</td>\n",
       "      <td>16.9</td>\n",
       "      <td>9.00</td>\n",
       "      <td>False</td>\n",
       "      <td>False</td>\n",
       "      <td>True</td>\n",
       "    </tr>\n",
       "    <tr>\n",
       "      <td>18549</td>\n",
       "      <td>0</td>\n",
       "      <td>3699000.0</td>\n",
       "      <td>29.00</td>\n",
       "      <td>19.0</td>\n",
       "      <td>9.10</td>\n",
       "      <td>False</td>\n",
       "      <td>False</td>\n",
       "      <td>True</td>\n",
       "    </tr>\n",
       "    <tr>\n",
       "      <td>18782</td>\n",
       "      <td>0</td>\n",
       "      <td>2500000.0</td>\n",
       "      <td>25.00</td>\n",
       "      <td>17.0</td>\n",
       "      <td>8.00</td>\n",
       "      <td>False</td>\n",
       "      <td>False</td>\n",
       "      <td>True</td>\n",
       "    </tr>\n",
       "    <tr>\n",
       "      <td>19392</td>\n",
       "      <td>0</td>\n",
       "      <td>71000000.0</td>\n",
       "      <td>371.00</td>\n",
       "      <td>20.9</td>\n",
       "      <td>9.10</td>\n",
       "      <td>False</td>\n",
       "      <td>False</td>\n",
       "      <td>True</td>\n",
       "    </tr>\n",
       "    <tr>\n",
       "      <td>19477</td>\n",
       "      <td>0</td>\n",
       "      <td>2300000.0</td>\n",
       "      <td>20.00</td>\n",
       "      <td>16.0</td>\n",
       "      <td>4.00</td>\n",
       "      <td>False</td>\n",
       "      <td>False</td>\n",
       "      <td>True</td>\n",
       "    </tr>\n",
       "    <tr>\n",
       "      <td>19735</td>\n",
       "      <td>0</td>\n",
       "      <td>2800000.0</td>\n",
       "      <td>30.50</td>\n",
       "      <td>20.0</td>\n",
       "      <td>9.10</td>\n",
       "      <td>False</td>\n",
       "      <td>False</td>\n",
       "      <td>True</td>\n",
       "    </tr>\n",
       "    <tr>\n",
       "      <td>19917</td>\n",
       "      <td>0</td>\n",
       "      <td>2340000.0</td>\n",
       "      <td>25.41</td>\n",
       "      <td>18.5</td>\n",
       "      <td>6.91</td>\n",
       "      <td>False</td>\n",
       "      <td>False</td>\n",
       "      <td>True</td>\n",
       "    </tr>\n",
       "    <tr>\n",
       "      <td>20002</td>\n",
       "      <td>0</td>\n",
       "      <td>2700000.0</td>\n",
       "      <td>28.00</td>\n",
       "      <td>20.0</td>\n",
       "      <td>8.00</td>\n",
       "      <td>False</td>\n",
       "      <td>False</td>\n",
       "      <td>True</td>\n",
       "    </tr>\n",
       "    <tr>\n",
       "      <td>20045</td>\n",
       "      <td>0</td>\n",
       "      <td>3100000.0</td>\n",
       "      <td>25.00</td>\n",
       "      <td>18.0</td>\n",
       "      <td>7.00</td>\n",
       "      <td>False</td>\n",
       "      <td>False</td>\n",
       "      <td>True</td>\n",
       "    </tr>\n",
       "    <tr>\n",
       "      <td>20054</td>\n",
       "      <td>0</td>\n",
       "      <td>2730000.0</td>\n",
       "      <td>21.00</td>\n",
       "      <td>14.0</td>\n",
       "      <td>7.00</td>\n",
       "      <td>False</td>\n",
       "      <td>False</td>\n",
       "      <td>True</td>\n",
       "    </tr>\n",
       "    <tr>\n",
       "      <td>20793</td>\n",
       "      <td>0</td>\n",
       "      <td>3600000.0</td>\n",
       "      <td>27.50</td>\n",
       "      <td>19.0</td>\n",
       "      <td>8.50</td>\n",
       "      <td>False</td>\n",
       "      <td>False</td>\n",
       "      <td>True</td>\n",
       "    </tr>\n",
       "    <tr>\n",
       "      <td>21299</td>\n",
       "      <td>0</td>\n",
       "      <td>2450000.0</td>\n",
       "      <td>28.50</td>\n",
       "      <td>18.0</td>\n",
       "      <td>9.10</td>\n",
       "      <td>False</td>\n",
       "      <td>False</td>\n",
       "      <td>True</td>\n",
       "    </tr>\n",
       "    <tr>\n",
       "      <td>21628</td>\n",
       "      <td>0</td>\n",
       "      <td>3900000.0</td>\n",
       "      <td>34.00</td>\n",
       "      <td>24.0</td>\n",
       "      <td>9.10</td>\n",
       "      <td>False</td>\n",
       "      <td>False</td>\n",
       "      <td>True</td>\n",
       "    </tr>\n",
       "    <tr>\n",
       "      <td>22573</td>\n",
       "      <td>0</td>\n",
       "      <td>2250000.0</td>\n",
       "      <td>24.00</td>\n",
       "      <td>15.0</td>\n",
       "      <td>9.00</td>\n",
       "      <td>False</td>\n",
       "      <td>False</td>\n",
       "      <td>True</td>\n",
       "    </tr>\n",
       "    <tr>\n",
       "      <td>23442</td>\n",
       "      <td>0</td>\n",
       "      <td>2500000.0</td>\n",
       "      <td>27.70</td>\n",
       "      <td>18.0</td>\n",
       "      <td>9.10</td>\n",
       "      <td>False</td>\n",
       "      <td>False</td>\n",
       "      <td>True</td>\n",
       "    </tr>\n",
       "    <tr>\n",
       "      <td>23592</td>\n",
       "      <td>0</td>\n",
       "      <td>1450000.0</td>\n",
       "      <td>29.00</td>\n",
       "      <td>18.0</td>\n",
       "      <td>9.10</td>\n",
       "      <td>False</td>\n",
       "      <td>False</td>\n",
       "      <td>True</td>\n",
       "    </tr>\n",
       "  </tbody>\n",
       "</table>\n",
       "</div>"
      ],
      "text/plain": [
       "       rooms  last_price  total_area  living_area  kitchen_area is_apartment  \\\n",
       "349        0   2320000.0       25.00         17.0          8.00        False   \n",
       "508        0   3375000.0       34.40         24.3          9.10        False   \n",
       "780        0   2600000.0       26.10         17.0          9.10        False   \n",
       "839        0   1900000.0       35.00         15.0          9.10        False   \n",
       "946        0   2200000.0       23.00         18.0          5.00        False   \n",
       "1574       0   2200000.0       22.00         15.0          7.00        False   \n",
       "1625       0   1980000.0       23.98         10.5          9.10        False   \n",
       "2532       0   3500000.0       27.10         18.7          8.40        False   \n",
       "3019       0   2100000.0       24.00         18.0          6.00        False   \n",
       "4115       0   2600000.0       24.00         18.0          6.00        False   \n",
       "4437       0   3200000.0       25.00         18.6          6.40        False   \n",
       "4683       0   3650000.0       35.00         23.4          9.10        False   \n",
       "4876       0   3000000.0       25.00         17.0          8.00        False   \n",
       "5749       0   3590000.0       25.00         15.9          9.10        False   \n",
       "6472       0   3620000.0       28.00         18.0          9.10        False   \n",
       "6612       0   3590000.0       26.80         19.0          7.80        False   \n",
       "6805       0   1850000.0       31.00         18.0          9.10        False   \n",
       "7008       0   5200000.0       32.30         25.5          6.80        False   \n",
       "7237       0   2999000.0       42.63         25.7          9.10        False   \n",
       "7286       0   2580000.0       30.00         19.0          9.10        False   \n",
       "7818       0   3300000.0       27.30         18.2          9.10        False   \n",
       "9412       0   2100000.0       16.00         13.0          3.00        False   \n",
       "9586       0   1670000.0       28.30         18.2          9.10        False   \n",
       "9861       0   2350000.0       25.00         25.0          0.00        False   \n",
       "10284      0   2700000.0       24.00         15.5          8.50        False   \n",
       "10606      0   2950000.0       25.27         25.0          0.27        False   \n",
       "11035      0   2500000.0       26.00         14.0          9.10        False   \n",
       "11051      0   2200000.0       26.00         12.0          9.10        False   \n",
       "11157      0   2900000.0       27.30         20.0          7.30        False   \n",
       "11331      0   1315000.0       27.32         18.7          8.62        False   \n",
       "11692      0   2550000.0       23.06         18.0          5.06        False   \n",
       "11705      0   3380000.0       26.00         17.0          9.00        False   \n",
       "12412      0   3300000.0       27.00         25.0          2.00        False   \n",
       "12691      0   3700000.0       24.20         24.2          0.00        False   \n",
       "13953      0   3255000.0       28.20         20.0          8.20        False   \n",
       "15105      0   2500000.0       26.10         18.0          8.10        False   \n",
       "15273      0   2700000.0       25.20         15.2          9.10        False   \n",
       "15434      0   2200000.0       27.00         15.0          9.10        False   \n",
       "16429      0   2460000.0       28.01         18.1          9.10        False   \n",
       "17695      0   2550000.0       24.00         17.0          7.00        False   \n",
       "17729      0   2948000.0       28.05         21.8          6.25        False   \n",
       "17805      0   2600000.0       31.10         21.4          9.10        False   \n",
       "17824      0   2300000.0       22.50         20.0          2.50        False   \n",
       "18042      0   2950000.0       25.90         16.9          9.00        False   \n",
       "18549      0   3699000.0       29.00         19.0          9.10        False   \n",
       "18782      0   2500000.0       25.00         17.0          8.00        False   \n",
       "19392      0  71000000.0      371.00         20.9          9.10        False   \n",
       "19477      0   2300000.0       20.00         16.0          4.00        False   \n",
       "19735      0   2800000.0       30.50         20.0          9.10        False   \n",
       "19917      0   2340000.0       25.41         18.5          6.91        False   \n",
       "20002      0   2700000.0       28.00         20.0          8.00        False   \n",
       "20045      0   3100000.0       25.00         18.0          7.00        False   \n",
       "20054      0   2730000.0       21.00         14.0          7.00        False   \n",
       "20793      0   3600000.0       27.50         19.0          8.50        False   \n",
       "21299      0   2450000.0       28.50         18.0          9.10        False   \n",
       "21628      0   3900000.0       34.00         24.0          9.10        False   \n",
       "22573      0   2250000.0       24.00         15.0          9.00        False   \n",
       "23442      0   2500000.0       27.70         18.0          9.10        False   \n",
       "23592      0   1450000.0       29.00         18.0          9.10        False   \n",
       "\n",
       "      studio open_plan  \n",
       "349    False      True  \n",
       "508    False      True  \n",
       "780    False      True  \n",
       "839    False      True  \n",
       "946    False      True  \n",
       "1574   False      True  \n",
       "1625   False      True  \n",
       "2532   False      True  \n",
       "3019   False      True  \n",
       "4115   False      True  \n",
       "4437   False      True  \n",
       "4683   False      True  \n",
       "4876   False      True  \n",
       "5749   False      True  \n",
       "6472   False      True  \n",
       "6612   False      True  \n",
       "6805   False      True  \n",
       "7008   False      True  \n",
       "7237   False      True  \n",
       "7286   False      True  \n",
       "7818   False      True  \n",
       "9412   False      True  \n",
       "9586   False      True  \n",
       "9861   False      True  \n",
       "10284  False      True  \n",
       "10606  False      True  \n",
       "11035  False      True  \n",
       "11051  False      True  \n",
       "11157  False      True  \n",
       "11331  False      True  \n",
       "11692  False      True  \n",
       "11705  False      True  \n",
       "12412  False      True  \n",
       "12691  False      True  \n",
       "13953  False      True  \n",
       "15105  False      True  \n",
       "15273  False      True  \n",
       "15434  False      True  \n",
       "16429  False      True  \n",
       "17695  False      True  \n",
       "17729  False      True  \n",
       "17805  False      True  \n",
       "17824  False      True  \n",
       "18042  False      True  \n",
       "18549  False      True  \n",
       "18782  False      True  \n",
       "19392  False      True  \n",
       "19477  False      True  \n",
       "19735  False      True  \n",
       "19917  False      True  \n",
       "20002  False      True  \n",
       "20045  False      True  \n",
       "20054  False      True  \n",
       "20793  False      True  \n",
       "21299  False      True  \n",
       "21628  False      True  \n",
       "22573  False      True  \n",
       "23442  False      True  \n",
       "23592  False      True  "
      ]
     },
     "execution_count": 17,
     "metadata": {},
     "output_type": "execute_result"
    }
   ],
   "source": [
    "df.query('rooms == 0').loc[:, ['rooms', 'last_price', 'total_area', 'living_area', 'kitchen_area','is_apartment', 'studio', 'open_plan']]"
   ]
  },
  {
   "cell_type": "markdown",
   "metadata": {},
   "source": [
    "Нулями заполнил значения:\n",
    "- balcony - отсутствие балконов проставилось как Nan.\n",
    "- is_apartment - булев тип и где стояло Nan, видимо, должно быть False.\n",
    "- parks_around3000 - скорее всего что парки, что пруды можно заменить на 0, Если Nan\n",
    "- ponds_around3000\n",
    "\n",
    "\n",
    "\n",
    "Оставил без изменений:\n",
    "- airports_nearest\n",
    "- cityCenters_nearest\n",
    "- parks_nearest\n",
    "- ponds_nearest\n",
    "\n",
    "Поскольку не ясно чем заполнять отсутствующие значения. Эти данные берутся автоматически из акртографического сервиса.\n",
    "Возможно, сломана интеграция или есть условия выгрузки данных.\n",
    "\n",
    "Заполнил медианой:\n",
    "- ceiling_height\n",
    "- kitchen_area\n",
    "- living_area\n",
    "\n",
    "Заполнил 1:\n",
    "- rooms - там, где 0 комнат и studio = 1.\n",
    "\n",
    "\n",
    "В объявлениях с открытой планировокой указано 0 комнат. Их оставил без изменений."
   ]
  },
  {
   "cell_type": "code",
   "execution_count": 18,
   "metadata": {
    "scrolled": false
   },
   "outputs": [
    {
     "name": "stdout",
     "output_type": "stream",
     "text": [
      "airports_nearest: 5491; 23.2% \n",
      "\n",
      "cityCenters_nearest: 5468; 23.1% \n",
      "\n",
      "parks_nearest: 15502; 65.4% \n",
      "\n",
      "ponds_nearest: 14499; 61.2% \n",
      "\n",
      "days_exposition: 3167; 13.4% \n",
      "\n"
     ]
    },
    {
     "data": {
      "text/plain": [
       "total_images            None\n",
       "last_price              None\n",
       "total_area              None\n",
       "first_day_exposition    None\n",
       "rooms                   None\n",
       "ceiling_height          None\n",
       "floors_total            None\n",
       "living_area             None\n",
       "floor                   None\n",
       "is_apartment            None\n",
       "studio                  None\n",
       "open_plan               None\n",
       "kitchen_area            None\n",
       "balcony                 None\n",
       "locality_name           None\n",
       "airports_nearest        None\n",
       "cityCenters_nearest     None\n",
       "parks_around3000        None\n",
       "parks_nearest           None\n",
       "ponds_around3000        None\n",
       "ponds_nearest           None\n",
       "days_exposition         None\n",
       "dtype: object"
      ]
     },
     "execution_count": 18,
     "metadata": {},
     "output_type": "execute_result"
    }
   ],
   "source": [
    "df.apply(print_nan, axis = 0)"
   ]
  },
  {
   "cell_type": "markdown",
   "metadata": {},
   "source": [
    "#### Вывод"
   ]
  },
  {
   "cell_type": "markdown",
   "metadata": {},
   "source": [
    "После замены пропусков остались столбцы, данные в которые попадают из интеграции.<br>\n",
    "Так же есть 13,4% пропусков в столбце days_exposition. Это количество дней, пока объявление размещено. \n",
    "Если в этом столбце встречается Nan, значит объявление все еще актуально. Можно было бы заполнить расчетом \"Сегодня - Дата публикации\"."
   ]
  },
  {
   "cell_type": "markdown",
   "metadata": {},
   "source": [
    "### Приведение типов столбцов таблицы \n",
    "<a id=\"step2-2\"></a>"
   ]
  },
  {
   "cell_type": "code",
   "execution_count": 19,
   "metadata": {
    "scrolled": false
   },
   "outputs": [
    {
     "name": "stdout",
     "output_type": "stream",
     "text": [
      "<class 'pandas.core.frame.DataFrame'>\n",
      "RangeIndex: 23699 entries, 0 to 23698\n",
      "Data columns (total 22 columns):\n",
      "total_images            23699 non-null int64\n",
      "last_price              23699 non-null int64\n",
      "total_area              23699 non-null float64\n",
      "first_day_exposition    23699 non-null datetime64[ns]\n",
      "rooms                   23699 non-null int64\n",
      "ceiling_height          23699 non-null float64\n",
      "floors_total            23699 non-null int64\n",
      "living_area             23699 non-null float64\n",
      "floor                   23699 non-null int64\n",
      "is_apartment            23699 non-null object\n",
      "studio                  23699 non-null object\n",
      "open_plan               23699 non-null object\n",
      "kitchen_area            23699 non-null float64\n",
      "balcony                 23699 non-null int64\n",
      "locality_name           23650 non-null object\n",
      "airports_nearest        18208 non-null float64\n",
      "cityCenters_nearest     18231 non-null float64\n",
      "parks_around3000        23699 non-null int64\n",
      "parks_nearest           8197 non-null float64\n",
      "ponds_around3000        23699 non-null int64\n",
      "ponds_nearest           9200 non-null float64\n",
      "days_exposition         20532 non-null float64\n",
      "dtypes: datetime64[ns](1), float64(9), int64(8), object(4)\n",
      "memory usage: 4.0+ MB\n"
     ]
    },
    {
     "data": {
      "text/html": [
       "<div>\n",
       "<style scoped>\n",
       "    .dataframe tbody tr th:only-of-type {\n",
       "        vertical-align: middle;\n",
       "    }\n",
       "\n",
       "    .dataframe tbody tr th {\n",
       "        vertical-align: top;\n",
       "    }\n",
       "\n",
       "    .dataframe thead th {\n",
       "        text-align: right;\n",
       "    }\n",
       "</style>\n",
       "<table border=\"1\" class=\"dataframe\">\n",
       "  <thead>\n",
       "    <tr style=\"text-align: right;\">\n",
       "      <th></th>\n",
       "      <th>total_images</th>\n",
       "      <th>last_price</th>\n",
       "      <th>total_area</th>\n",
       "      <th>first_day_exposition</th>\n",
       "      <th>rooms</th>\n",
       "      <th>ceiling_height</th>\n",
       "      <th>floors_total</th>\n",
       "      <th>living_area</th>\n",
       "      <th>floor</th>\n",
       "      <th>is_apartment</th>\n",
       "      <th>...</th>\n",
       "      <th>kitchen_area</th>\n",
       "      <th>balcony</th>\n",
       "      <th>locality_name</th>\n",
       "      <th>airports_nearest</th>\n",
       "      <th>cityCenters_nearest</th>\n",
       "      <th>parks_around3000</th>\n",
       "      <th>parks_nearest</th>\n",
       "      <th>ponds_around3000</th>\n",
       "      <th>ponds_nearest</th>\n",
       "      <th>days_exposition</th>\n",
       "    </tr>\n",
       "  </thead>\n",
       "  <tbody>\n",
       "    <tr>\n",
       "      <td>0</td>\n",
       "      <td>20</td>\n",
       "      <td>13000000</td>\n",
       "      <td>108.0</td>\n",
       "      <td>2019-03-07</td>\n",
       "      <td>3</td>\n",
       "      <td>2.70</td>\n",
       "      <td>16</td>\n",
       "      <td>51.0</td>\n",
       "      <td>8</td>\n",
       "      <td>False</td>\n",
       "      <td>...</td>\n",
       "      <td>25.0</td>\n",
       "      <td>0</td>\n",
       "      <td>Санкт-Петербург</td>\n",
       "      <td>18863.0</td>\n",
       "      <td>16028.0</td>\n",
       "      <td>1</td>\n",
       "      <td>482.0</td>\n",
       "      <td>2</td>\n",
       "      <td>755.0</td>\n",
       "      <td>NaN</td>\n",
       "    </tr>\n",
       "    <tr>\n",
       "      <td>1</td>\n",
       "      <td>7</td>\n",
       "      <td>3350000</td>\n",
       "      <td>40.4</td>\n",
       "      <td>2018-12-04</td>\n",
       "      <td>1</td>\n",
       "      <td>2.65</td>\n",
       "      <td>11</td>\n",
       "      <td>18.6</td>\n",
       "      <td>1</td>\n",
       "      <td>False</td>\n",
       "      <td>...</td>\n",
       "      <td>11.0</td>\n",
       "      <td>2</td>\n",
       "      <td>посёлок Шушары</td>\n",
       "      <td>12817.0</td>\n",
       "      <td>18603.0</td>\n",
       "      <td>0</td>\n",
       "      <td>NaN</td>\n",
       "      <td>0</td>\n",
       "      <td>NaN</td>\n",
       "      <td>81.0</td>\n",
       "    </tr>\n",
       "    <tr>\n",
       "      <td>2</td>\n",
       "      <td>10</td>\n",
       "      <td>5196000</td>\n",
       "      <td>56.0</td>\n",
       "      <td>2015-08-20</td>\n",
       "      <td>2</td>\n",
       "      <td>2.65</td>\n",
       "      <td>5</td>\n",
       "      <td>34.3</td>\n",
       "      <td>4</td>\n",
       "      <td>False</td>\n",
       "      <td>...</td>\n",
       "      <td>8.3</td>\n",
       "      <td>0</td>\n",
       "      <td>Санкт-Петербург</td>\n",
       "      <td>21741.0</td>\n",
       "      <td>13933.0</td>\n",
       "      <td>1</td>\n",
       "      <td>90.0</td>\n",
       "      <td>2</td>\n",
       "      <td>574.0</td>\n",
       "      <td>558.0</td>\n",
       "    </tr>\n",
       "    <tr>\n",
       "      <td>3</td>\n",
       "      <td>0</td>\n",
       "      <td>64900000</td>\n",
       "      <td>159.0</td>\n",
       "      <td>2015-07-24</td>\n",
       "      <td>3</td>\n",
       "      <td>2.65</td>\n",
       "      <td>14</td>\n",
       "      <td>20.9</td>\n",
       "      <td>9</td>\n",
       "      <td>False</td>\n",
       "      <td>...</td>\n",
       "      <td>9.1</td>\n",
       "      <td>0</td>\n",
       "      <td>Санкт-Петербург</td>\n",
       "      <td>28098.0</td>\n",
       "      <td>6800.0</td>\n",
       "      <td>2</td>\n",
       "      <td>84.0</td>\n",
       "      <td>3</td>\n",
       "      <td>234.0</td>\n",
       "      <td>424.0</td>\n",
       "    </tr>\n",
       "    <tr>\n",
       "      <td>4</td>\n",
       "      <td>2</td>\n",
       "      <td>10000000</td>\n",
       "      <td>100.0</td>\n",
       "      <td>2018-06-19</td>\n",
       "      <td>2</td>\n",
       "      <td>3.03</td>\n",
       "      <td>14</td>\n",
       "      <td>32.0</td>\n",
       "      <td>13</td>\n",
       "      <td>False</td>\n",
       "      <td>...</td>\n",
       "      <td>41.0</td>\n",
       "      <td>0</td>\n",
       "      <td>Санкт-Петербург</td>\n",
       "      <td>31856.0</td>\n",
       "      <td>8098.0</td>\n",
       "      <td>2</td>\n",
       "      <td>112.0</td>\n",
       "      <td>1</td>\n",
       "      <td>48.0</td>\n",
       "      <td>121.0</td>\n",
       "    </tr>\n",
       "  </tbody>\n",
       "</table>\n",
       "<p>5 rows × 22 columns</p>\n",
       "</div>"
      ],
      "text/plain": [
       "   total_images  last_price  total_area first_day_exposition  rooms  \\\n",
       "0            20    13000000       108.0           2019-03-07      3   \n",
       "1             7     3350000        40.4           2018-12-04      1   \n",
       "2            10     5196000        56.0           2015-08-20      2   \n",
       "3             0    64900000       159.0           2015-07-24      3   \n",
       "4             2    10000000       100.0           2018-06-19      2   \n",
       "\n",
       "   ceiling_height  floors_total  living_area  floor is_apartment  ...  \\\n",
       "0            2.70            16         51.0      8        False  ...   \n",
       "1            2.65            11         18.6      1        False  ...   \n",
       "2            2.65             5         34.3      4        False  ...   \n",
       "3            2.65            14         20.9      9        False  ...   \n",
       "4            3.03            14         32.0     13        False  ...   \n",
       "\n",
       "  kitchen_area balcony    locality_name  airports_nearest cityCenters_nearest  \\\n",
       "0         25.0       0  Санкт-Петербург           18863.0             16028.0   \n",
       "1         11.0       2   посёлок Шушары           12817.0             18603.0   \n",
       "2          8.3       0  Санкт-Петербург           21741.0             13933.0   \n",
       "3          9.1       0  Санкт-Петербург           28098.0              6800.0   \n",
       "4         41.0       0  Санкт-Петербург           31856.0              8098.0   \n",
       "\n",
       "   parks_around3000  parks_nearest  ponds_around3000  ponds_nearest  \\\n",
       "0                 1          482.0                 2          755.0   \n",
       "1                 0            NaN                 0            NaN   \n",
       "2                 1           90.0                 2          574.0   \n",
       "3                 2           84.0                 3          234.0   \n",
       "4                 2          112.0                 1           48.0   \n",
       "\n",
       "   days_exposition  \n",
       "0              NaN  \n",
       "1             81.0  \n",
       "2            558.0  \n",
       "3            424.0  \n",
       "4            121.0  \n",
       "\n",
       "[5 rows x 22 columns]"
      ]
     },
     "execution_count": 19,
     "metadata": {},
     "output_type": "execute_result"
    }
   ],
   "source": [
    "#first_day_exposition    23699 non-null object - дата публикации -> date\n",
    "#floors_total            23613 non-null float64 - всего этажей -> int -> некоторые значения пропущены, заполню максом из floors.\n",
    "#balcony                 12180 non-null float64 -> int\n",
    "#parks_around3000        18181 non-null float64 -> int\n",
    "#ponds_around3000        18181 non-null float64 -> int\n",
    "#days_exposition         20518 non-null float64 -> int\n",
    "\n",
    "df['first_day_exposition'] = pd.to_datetime(df['first_day_exposition'], format = '%Y-%m-%d')\n",
    "df['last_price']       = df['last_price'].astype('int')\n",
    "df['floors_total']     = df['floors_total'].astype('int')\n",
    "df['balcony']          = df['balcony'].astype('int')\n",
    "df['parks_around3000'] = df['parks_around3000'].astype('int')\n",
    "df['ponds_around3000'] = df['ponds_around3000'].astype('int')\n",
    "\n",
    "df.info()\n",
    "df.head()"
   ]
  },
  {
   "cell_type": "markdown",
   "metadata": {},
   "source": [
    "#### Вывод"
   ]
  },
  {
   "cell_type": "markdown",
   "metadata": {},
   "source": [
    "Заменил типы полей, где это было возможно.\n",
    "\n",
    "Поля, где остались пропуски, остались без изменения.\n",
    "\n",
    "Заменил тип поля first_day_exposition с object на datetime. С ним потом можно будет работать как с датой и строить графики. Со строкой так делать нельзя."
   ]
  },
  {
   "cell_type": "markdown",
   "metadata": {},
   "source": [
    "# Шаг 3. Посчитайте и добавьте в таблицу \n",
    "<a id=\"step3\"></a>"
   ]
  },
  {
   "cell_type": "markdown",
   "metadata": {},
   "source": [
    "## Цена квадратного метра \n",
    "<a id=\"step3-1\"></a>"
   ]
  },
  {
   "cell_type": "code",
   "execution_count": 20,
   "metadata": {},
   "outputs": [
    {
     "data": {
      "text/html": [
       "<div>\n",
       "<style scoped>\n",
       "    .dataframe tbody tr th:only-of-type {\n",
       "        vertical-align: middle;\n",
       "    }\n",
       "\n",
       "    .dataframe tbody tr th {\n",
       "        vertical-align: top;\n",
       "    }\n",
       "\n",
       "    .dataframe thead th {\n",
       "        text-align: right;\n",
       "    }\n",
       "</style>\n",
       "<table border=\"1\" class=\"dataframe\">\n",
       "  <thead>\n",
       "    <tr style=\"text-align: right;\">\n",
       "      <th></th>\n",
       "      <th>total_images</th>\n",
       "      <th>last_price</th>\n",
       "      <th>total_area</th>\n",
       "      <th>first_day_exposition</th>\n",
       "      <th>rooms</th>\n",
       "      <th>ceiling_height</th>\n",
       "      <th>floors_total</th>\n",
       "      <th>living_area</th>\n",
       "      <th>floor</th>\n",
       "      <th>is_apartment</th>\n",
       "      <th>...</th>\n",
       "      <th>balcony</th>\n",
       "      <th>locality_name</th>\n",
       "      <th>airports_nearest</th>\n",
       "      <th>cityCenters_nearest</th>\n",
       "      <th>parks_around3000</th>\n",
       "      <th>parks_nearest</th>\n",
       "      <th>ponds_around3000</th>\n",
       "      <th>ponds_nearest</th>\n",
       "      <th>days_exposition</th>\n",
       "      <th>square_price</th>\n",
       "    </tr>\n",
       "  </thead>\n",
       "  <tbody>\n",
       "    <tr>\n",
       "      <td>0</td>\n",
       "      <td>20</td>\n",
       "      <td>13000000</td>\n",
       "      <td>108.0</td>\n",
       "      <td>2019-03-07</td>\n",
       "      <td>3</td>\n",
       "      <td>2.70</td>\n",
       "      <td>16</td>\n",
       "      <td>51.0</td>\n",
       "      <td>8</td>\n",
       "      <td>False</td>\n",
       "      <td>...</td>\n",
       "      <td>0</td>\n",
       "      <td>Санкт-Петербург</td>\n",
       "      <td>18863.0</td>\n",
       "      <td>16028.0</td>\n",
       "      <td>1</td>\n",
       "      <td>482.0</td>\n",
       "      <td>2</td>\n",
       "      <td>755.0</td>\n",
       "      <td>NaN</td>\n",
       "      <td>120370</td>\n",
       "    </tr>\n",
       "    <tr>\n",
       "      <td>1</td>\n",
       "      <td>7</td>\n",
       "      <td>3350000</td>\n",
       "      <td>40.4</td>\n",
       "      <td>2018-12-04</td>\n",
       "      <td>1</td>\n",
       "      <td>2.65</td>\n",
       "      <td>11</td>\n",
       "      <td>18.6</td>\n",
       "      <td>1</td>\n",
       "      <td>False</td>\n",
       "      <td>...</td>\n",
       "      <td>2</td>\n",
       "      <td>посёлок Шушары</td>\n",
       "      <td>12817.0</td>\n",
       "      <td>18603.0</td>\n",
       "      <td>0</td>\n",
       "      <td>NaN</td>\n",
       "      <td>0</td>\n",
       "      <td>NaN</td>\n",
       "      <td>81.0</td>\n",
       "      <td>82920</td>\n",
       "    </tr>\n",
       "    <tr>\n",
       "      <td>2</td>\n",
       "      <td>10</td>\n",
       "      <td>5196000</td>\n",
       "      <td>56.0</td>\n",
       "      <td>2015-08-20</td>\n",
       "      <td>2</td>\n",
       "      <td>2.65</td>\n",
       "      <td>5</td>\n",
       "      <td>34.3</td>\n",
       "      <td>4</td>\n",
       "      <td>False</td>\n",
       "      <td>...</td>\n",
       "      <td>0</td>\n",
       "      <td>Санкт-Петербург</td>\n",
       "      <td>21741.0</td>\n",
       "      <td>13933.0</td>\n",
       "      <td>1</td>\n",
       "      <td>90.0</td>\n",
       "      <td>2</td>\n",
       "      <td>574.0</td>\n",
       "      <td>558.0</td>\n",
       "      <td>92785</td>\n",
       "    </tr>\n",
       "    <tr>\n",
       "      <td>3</td>\n",
       "      <td>0</td>\n",
       "      <td>64900000</td>\n",
       "      <td>159.0</td>\n",
       "      <td>2015-07-24</td>\n",
       "      <td>3</td>\n",
       "      <td>2.65</td>\n",
       "      <td>14</td>\n",
       "      <td>20.9</td>\n",
       "      <td>9</td>\n",
       "      <td>False</td>\n",
       "      <td>...</td>\n",
       "      <td>0</td>\n",
       "      <td>Санкт-Петербург</td>\n",
       "      <td>28098.0</td>\n",
       "      <td>6800.0</td>\n",
       "      <td>2</td>\n",
       "      <td>84.0</td>\n",
       "      <td>3</td>\n",
       "      <td>234.0</td>\n",
       "      <td>424.0</td>\n",
       "      <td>408176</td>\n",
       "    </tr>\n",
       "    <tr>\n",
       "      <td>4</td>\n",
       "      <td>2</td>\n",
       "      <td>10000000</td>\n",
       "      <td>100.0</td>\n",
       "      <td>2018-06-19</td>\n",
       "      <td>2</td>\n",
       "      <td>3.03</td>\n",
       "      <td>14</td>\n",
       "      <td>32.0</td>\n",
       "      <td>13</td>\n",
       "      <td>False</td>\n",
       "      <td>...</td>\n",
       "      <td>0</td>\n",
       "      <td>Санкт-Петербург</td>\n",
       "      <td>31856.0</td>\n",
       "      <td>8098.0</td>\n",
       "      <td>2</td>\n",
       "      <td>112.0</td>\n",
       "      <td>1</td>\n",
       "      <td>48.0</td>\n",
       "      <td>121.0</td>\n",
       "      <td>100000</td>\n",
       "    </tr>\n",
       "  </tbody>\n",
       "</table>\n",
       "<p>5 rows × 23 columns</p>\n",
       "</div>"
      ],
      "text/plain": [
       "   total_images  last_price  total_area first_day_exposition  rooms  \\\n",
       "0            20    13000000       108.0           2019-03-07      3   \n",
       "1             7     3350000        40.4           2018-12-04      1   \n",
       "2            10     5196000        56.0           2015-08-20      2   \n",
       "3             0    64900000       159.0           2015-07-24      3   \n",
       "4             2    10000000       100.0           2018-06-19      2   \n",
       "\n",
       "   ceiling_height  floors_total  living_area  floor is_apartment  ... balcony  \\\n",
       "0            2.70            16         51.0      8        False  ...       0   \n",
       "1            2.65            11         18.6      1        False  ...       2   \n",
       "2            2.65             5         34.3      4        False  ...       0   \n",
       "3            2.65            14         20.9      9        False  ...       0   \n",
       "4            3.03            14         32.0     13        False  ...       0   \n",
       "\n",
       "     locality_name  airports_nearest  cityCenters_nearest parks_around3000  \\\n",
       "0  Санкт-Петербург           18863.0              16028.0                1   \n",
       "1   посёлок Шушары           12817.0              18603.0                0   \n",
       "2  Санкт-Петербург           21741.0              13933.0                1   \n",
       "3  Санкт-Петербург           28098.0               6800.0                2   \n",
       "4  Санкт-Петербург           31856.0               8098.0                2   \n",
       "\n",
       "   parks_nearest  ponds_around3000  ponds_nearest  days_exposition  \\\n",
       "0          482.0                 2          755.0              NaN   \n",
       "1            NaN                 0            NaN             81.0   \n",
       "2           90.0                 2          574.0            558.0   \n",
       "3           84.0                 3          234.0            424.0   \n",
       "4          112.0                 1           48.0            121.0   \n",
       "\n",
       "   square_price  \n",
       "0        120370  \n",
       "1         82920  \n",
       "2         92785  \n",
       "3        408176  \n",
       "4        100000  \n",
       "\n",
       "[5 rows x 23 columns]"
      ]
     },
     "execution_count": 20,
     "metadata": {},
     "output_type": "execute_result"
    }
   ],
   "source": [
    "df['square_price'] = (df['last_price'] / df['total_area']).astype('int')\n",
    "df.head()"
   ]
  },
  {
   "cell_type": "markdown",
   "metadata": {},
   "source": [
    "## День недели, месяц и год публикации \n",
    "<a id=\"step3-2\"></a>"
   ]
  },
  {
   "cell_type": "code",
   "execution_count": 21,
   "metadata": {},
   "outputs": [
    {
     "data": {
      "text/html": [
       "<div>\n",
       "<style scoped>\n",
       "    .dataframe tbody tr th:only-of-type {\n",
       "        vertical-align: middle;\n",
       "    }\n",
       "\n",
       "    .dataframe tbody tr th {\n",
       "        vertical-align: top;\n",
       "    }\n",
       "\n",
       "    .dataframe thead th {\n",
       "        text-align: right;\n",
       "    }\n",
       "</style>\n",
       "<table border=\"1\" class=\"dataframe\">\n",
       "  <thead>\n",
       "    <tr style=\"text-align: right;\">\n",
       "      <th></th>\n",
       "      <th>total_images</th>\n",
       "      <th>last_price</th>\n",
       "      <th>total_area</th>\n",
       "      <th>first_day_exposition</th>\n",
       "      <th>rooms</th>\n",
       "      <th>ceiling_height</th>\n",
       "      <th>floors_total</th>\n",
       "      <th>living_area</th>\n",
       "      <th>floor</th>\n",
       "      <th>is_apartment</th>\n",
       "      <th>...</th>\n",
       "      <th>parks_around3000</th>\n",
       "      <th>parks_nearest</th>\n",
       "      <th>ponds_around3000</th>\n",
       "      <th>ponds_nearest</th>\n",
       "      <th>days_exposition</th>\n",
       "      <th>square_price</th>\n",
       "      <th>exposition_day</th>\n",
       "      <th>exposition_month</th>\n",
       "      <th>exposition_year</th>\n",
       "      <th>weekday</th>\n",
       "    </tr>\n",
       "  </thead>\n",
       "  <tbody>\n",
       "    <tr>\n",
       "      <td>0</td>\n",
       "      <td>20</td>\n",
       "      <td>13000000</td>\n",
       "      <td>108.0</td>\n",
       "      <td>2019-03-07</td>\n",
       "      <td>3</td>\n",
       "      <td>2.70</td>\n",
       "      <td>16</td>\n",
       "      <td>51.0</td>\n",
       "      <td>8</td>\n",
       "      <td>False</td>\n",
       "      <td>...</td>\n",
       "      <td>1</td>\n",
       "      <td>482.0</td>\n",
       "      <td>2</td>\n",
       "      <td>755.0</td>\n",
       "      <td>NaN</td>\n",
       "      <td>120370</td>\n",
       "      <td>7</td>\n",
       "      <td>3</td>\n",
       "      <td>2019</td>\n",
       "      <td>Thursday</td>\n",
       "    </tr>\n",
       "    <tr>\n",
       "      <td>1</td>\n",
       "      <td>7</td>\n",
       "      <td>3350000</td>\n",
       "      <td>40.4</td>\n",
       "      <td>2018-12-04</td>\n",
       "      <td>1</td>\n",
       "      <td>2.65</td>\n",
       "      <td>11</td>\n",
       "      <td>18.6</td>\n",
       "      <td>1</td>\n",
       "      <td>False</td>\n",
       "      <td>...</td>\n",
       "      <td>0</td>\n",
       "      <td>NaN</td>\n",
       "      <td>0</td>\n",
       "      <td>NaN</td>\n",
       "      <td>81.0</td>\n",
       "      <td>82920</td>\n",
       "      <td>4</td>\n",
       "      <td>12</td>\n",
       "      <td>2018</td>\n",
       "      <td>Tuesday</td>\n",
       "    </tr>\n",
       "    <tr>\n",
       "      <td>2</td>\n",
       "      <td>10</td>\n",
       "      <td>5196000</td>\n",
       "      <td>56.0</td>\n",
       "      <td>2015-08-20</td>\n",
       "      <td>2</td>\n",
       "      <td>2.65</td>\n",
       "      <td>5</td>\n",
       "      <td>34.3</td>\n",
       "      <td>4</td>\n",
       "      <td>False</td>\n",
       "      <td>...</td>\n",
       "      <td>1</td>\n",
       "      <td>90.0</td>\n",
       "      <td>2</td>\n",
       "      <td>574.0</td>\n",
       "      <td>558.0</td>\n",
       "      <td>92785</td>\n",
       "      <td>20</td>\n",
       "      <td>8</td>\n",
       "      <td>2015</td>\n",
       "      <td>Thursday</td>\n",
       "    </tr>\n",
       "    <tr>\n",
       "      <td>3</td>\n",
       "      <td>0</td>\n",
       "      <td>64900000</td>\n",
       "      <td>159.0</td>\n",
       "      <td>2015-07-24</td>\n",
       "      <td>3</td>\n",
       "      <td>2.65</td>\n",
       "      <td>14</td>\n",
       "      <td>20.9</td>\n",
       "      <td>9</td>\n",
       "      <td>False</td>\n",
       "      <td>...</td>\n",
       "      <td>2</td>\n",
       "      <td>84.0</td>\n",
       "      <td>3</td>\n",
       "      <td>234.0</td>\n",
       "      <td>424.0</td>\n",
       "      <td>408176</td>\n",
       "      <td>24</td>\n",
       "      <td>7</td>\n",
       "      <td>2015</td>\n",
       "      <td>Friday</td>\n",
       "    </tr>\n",
       "    <tr>\n",
       "      <td>4</td>\n",
       "      <td>2</td>\n",
       "      <td>10000000</td>\n",
       "      <td>100.0</td>\n",
       "      <td>2018-06-19</td>\n",
       "      <td>2</td>\n",
       "      <td>3.03</td>\n",
       "      <td>14</td>\n",
       "      <td>32.0</td>\n",
       "      <td>13</td>\n",
       "      <td>False</td>\n",
       "      <td>...</td>\n",
       "      <td>2</td>\n",
       "      <td>112.0</td>\n",
       "      <td>1</td>\n",
       "      <td>48.0</td>\n",
       "      <td>121.0</td>\n",
       "      <td>100000</td>\n",
       "      <td>19</td>\n",
       "      <td>6</td>\n",
       "      <td>2018</td>\n",
       "      <td>Tuesday</td>\n",
       "    </tr>\n",
       "  </tbody>\n",
       "</table>\n",
       "<p>5 rows × 27 columns</p>\n",
       "</div>"
      ],
      "text/plain": [
       "   total_images  last_price  total_area first_day_exposition  rooms  \\\n",
       "0            20    13000000       108.0           2019-03-07      3   \n",
       "1             7     3350000        40.4           2018-12-04      1   \n",
       "2            10     5196000        56.0           2015-08-20      2   \n",
       "3             0    64900000       159.0           2015-07-24      3   \n",
       "4             2    10000000       100.0           2018-06-19      2   \n",
       "\n",
       "   ceiling_height  floors_total  living_area  floor is_apartment  ...  \\\n",
       "0            2.70            16         51.0      8        False  ...   \n",
       "1            2.65            11         18.6      1        False  ...   \n",
       "2            2.65             5         34.3      4        False  ...   \n",
       "3            2.65            14         20.9      9        False  ...   \n",
       "4            3.03            14         32.0     13        False  ...   \n",
       "\n",
       "  parks_around3000 parks_nearest  ponds_around3000  ponds_nearest  \\\n",
       "0                1         482.0                 2          755.0   \n",
       "1                0           NaN                 0            NaN   \n",
       "2                1          90.0                 2          574.0   \n",
       "3                2          84.0                 3          234.0   \n",
       "4                2         112.0                 1           48.0   \n",
       "\n",
       "  days_exposition  square_price  exposition_day  exposition_month  \\\n",
       "0             NaN        120370               7                 3   \n",
       "1            81.0         82920               4                12   \n",
       "2           558.0         92785              20                 8   \n",
       "3           424.0        408176              24                 7   \n",
       "4           121.0        100000              19                 6   \n",
       "\n",
       "   exposition_year   weekday  \n",
       "0             2019  Thursday  \n",
       "1             2018   Tuesday  \n",
       "2             2015  Thursday  \n",
       "3             2015    Friday  \n",
       "4             2018   Tuesday  \n",
       "\n",
       "[5 rows x 27 columns]"
      ]
     },
     "execution_count": 21,
     "metadata": {},
     "output_type": "execute_result"
    }
   ],
   "source": [
    "df['exposition_day'] = df['first_day_exposition'].dt.day\n",
    "df['exposition_month'] = df['first_day_exposition'].dt.month\n",
    "df['exposition_year'] = df['first_day_exposition'].dt.year\n",
    "\n",
    "df['weekday'] = df['first_day_exposition'].dt.day_name()\n",
    "\n",
    "df.head()"
   ]
  },
  {
   "cell_type": "markdown",
   "metadata": {},
   "source": [
    "## Соотношение жилой и кухни к общей площади \n",
    "<a id=\"step3-3\"></a>"
   ]
  },
  {
   "cell_type": "code",
   "execution_count": 22,
   "metadata": {},
   "outputs": [
    {
     "data": {
      "text/html": [
       "<div>\n",
       "<style scoped>\n",
       "    .dataframe tbody tr th:only-of-type {\n",
       "        vertical-align: middle;\n",
       "    }\n",
       "\n",
       "    .dataframe tbody tr th {\n",
       "        vertical-align: top;\n",
       "    }\n",
       "\n",
       "    .dataframe thead th {\n",
       "        text-align: right;\n",
       "    }\n",
       "</style>\n",
       "<table border=\"1\" class=\"dataframe\">\n",
       "  <thead>\n",
       "    <tr style=\"text-align: right;\">\n",
       "      <th></th>\n",
       "      <th>total_images</th>\n",
       "      <th>last_price</th>\n",
       "      <th>total_area</th>\n",
       "      <th>first_day_exposition</th>\n",
       "      <th>rooms</th>\n",
       "      <th>ceiling_height</th>\n",
       "      <th>floors_total</th>\n",
       "      <th>living_area</th>\n",
       "      <th>floor</th>\n",
       "      <th>is_apartment</th>\n",
       "      <th>...</th>\n",
       "      <th>ponds_around3000</th>\n",
       "      <th>ponds_nearest</th>\n",
       "      <th>days_exposition</th>\n",
       "      <th>square_price</th>\n",
       "      <th>exposition_day</th>\n",
       "      <th>exposition_month</th>\n",
       "      <th>exposition_year</th>\n",
       "      <th>weekday</th>\n",
       "      <th>living_ratio</th>\n",
       "      <th>kitchen_ratio</th>\n",
       "    </tr>\n",
       "  </thead>\n",
       "  <tbody>\n",
       "    <tr>\n",
       "      <td>0</td>\n",
       "      <td>20</td>\n",
       "      <td>13000000</td>\n",
       "      <td>108.0</td>\n",
       "      <td>2019-03-07</td>\n",
       "      <td>3</td>\n",
       "      <td>2.70</td>\n",
       "      <td>16</td>\n",
       "      <td>51.0</td>\n",
       "      <td>8</td>\n",
       "      <td>False</td>\n",
       "      <td>...</td>\n",
       "      <td>2</td>\n",
       "      <td>755.0</td>\n",
       "      <td>NaN</td>\n",
       "      <td>120370</td>\n",
       "      <td>7</td>\n",
       "      <td>3</td>\n",
       "      <td>2019</td>\n",
       "      <td>Thursday</td>\n",
       "      <td>0.472222</td>\n",
       "      <td>0.231481</td>\n",
       "    </tr>\n",
       "    <tr>\n",
       "      <td>1</td>\n",
       "      <td>7</td>\n",
       "      <td>3350000</td>\n",
       "      <td>40.4</td>\n",
       "      <td>2018-12-04</td>\n",
       "      <td>1</td>\n",
       "      <td>2.65</td>\n",
       "      <td>11</td>\n",
       "      <td>18.6</td>\n",
       "      <td>1</td>\n",
       "      <td>False</td>\n",
       "      <td>...</td>\n",
       "      <td>0</td>\n",
       "      <td>NaN</td>\n",
       "      <td>81.0</td>\n",
       "      <td>82920</td>\n",
       "      <td>4</td>\n",
       "      <td>12</td>\n",
       "      <td>2018</td>\n",
       "      <td>Tuesday</td>\n",
       "      <td>0.460396</td>\n",
       "      <td>0.272277</td>\n",
       "    </tr>\n",
       "    <tr>\n",
       "      <td>2</td>\n",
       "      <td>10</td>\n",
       "      <td>5196000</td>\n",
       "      <td>56.0</td>\n",
       "      <td>2015-08-20</td>\n",
       "      <td>2</td>\n",
       "      <td>2.65</td>\n",
       "      <td>5</td>\n",
       "      <td>34.3</td>\n",
       "      <td>4</td>\n",
       "      <td>False</td>\n",
       "      <td>...</td>\n",
       "      <td>2</td>\n",
       "      <td>574.0</td>\n",
       "      <td>558.0</td>\n",
       "      <td>92785</td>\n",
       "      <td>20</td>\n",
       "      <td>8</td>\n",
       "      <td>2015</td>\n",
       "      <td>Thursday</td>\n",
       "      <td>0.612500</td>\n",
       "      <td>0.148214</td>\n",
       "    </tr>\n",
       "    <tr>\n",
       "      <td>3</td>\n",
       "      <td>0</td>\n",
       "      <td>64900000</td>\n",
       "      <td>159.0</td>\n",
       "      <td>2015-07-24</td>\n",
       "      <td>3</td>\n",
       "      <td>2.65</td>\n",
       "      <td>14</td>\n",
       "      <td>20.9</td>\n",
       "      <td>9</td>\n",
       "      <td>False</td>\n",
       "      <td>...</td>\n",
       "      <td>3</td>\n",
       "      <td>234.0</td>\n",
       "      <td>424.0</td>\n",
       "      <td>408176</td>\n",
       "      <td>24</td>\n",
       "      <td>7</td>\n",
       "      <td>2015</td>\n",
       "      <td>Friday</td>\n",
       "      <td>0.131447</td>\n",
       "      <td>0.057233</td>\n",
       "    </tr>\n",
       "    <tr>\n",
       "      <td>4</td>\n",
       "      <td>2</td>\n",
       "      <td>10000000</td>\n",
       "      <td>100.0</td>\n",
       "      <td>2018-06-19</td>\n",
       "      <td>2</td>\n",
       "      <td>3.03</td>\n",
       "      <td>14</td>\n",
       "      <td>32.0</td>\n",
       "      <td>13</td>\n",
       "      <td>False</td>\n",
       "      <td>...</td>\n",
       "      <td>1</td>\n",
       "      <td>48.0</td>\n",
       "      <td>121.0</td>\n",
       "      <td>100000</td>\n",
       "      <td>19</td>\n",
       "      <td>6</td>\n",
       "      <td>2018</td>\n",
       "      <td>Tuesday</td>\n",
       "      <td>0.320000</td>\n",
       "      <td>0.410000</td>\n",
       "    </tr>\n",
       "  </tbody>\n",
       "</table>\n",
       "<p>5 rows × 29 columns</p>\n",
       "</div>"
      ],
      "text/plain": [
       "   total_images  last_price  total_area first_day_exposition  rooms  \\\n",
       "0            20    13000000       108.0           2019-03-07      3   \n",
       "1             7     3350000        40.4           2018-12-04      1   \n",
       "2            10     5196000        56.0           2015-08-20      2   \n",
       "3             0    64900000       159.0           2015-07-24      3   \n",
       "4             2    10000000       100.0           2018-06-19      2   \n",
       "\n",
       "   ceiling_height  floors_total  living_area  floor is_apartment  ...  \\\n",
       "0            2.70            16         51.0      8        False  ...   \n",
       "1            2.65            11         18.6      1        False  ...   \n",
       "2            2.65             5         34.3      4        False  ...   \n",
       "3            2.65            14         20.9      9        False  ...   \n",
       "4            3.03            14         32.0     13        False  ...   \n",
       "\n",
       "  ponds_around3000 ponds_nearest  days_exposition  square_price  \\\n",
       "0                2         755.0              NaN        120370   \n",
       "1                0           NaN             81.0         82920   \n",
       "2                2         574.0            558.0         92785   \n",
       "3                3         234.0            424.0        408176   \n",
       "4                1          48.0            121.0        100000   \n",
       "\n",
       "  exposition_day  exposition_month  exposition_year   weekday  living_ratio  \\\n",
       "0              7                 3             2019  Thursday      0.472222   \n",
       "1              4                12             2018   Tuesday      0.460396   \n",
       "2             20                 8             2015  Thursday      0.612500   \n",
       "3             24                 7             2015    Friday      0.131447   \n",
       "4             19                 6             2018   Tuesday      0.320000   \n",
       "\n",
       "   kitchen_ratio  \n",
       "0       0.231481  \n",
       "1       0.272277  \n",
       "2       0.148214  \n",
       "3       0.057233  \n",
       "4       0.410000  \n",
       "\n",
       "[5 rows x 29 columns]"
      ]
     },
     "execution_count": 22,
     "metadata": {},
     "output_type": "execute_result"
    }
   ],
   "source": [
    "df['living_ratio'] = df['living_area'] / df['total_area']\n",
    "df['kitchen_ratio'] = df['kitchen_area'] / df['total_area']\n",
    "\n",
    "df.head()"
   ]
  },
  {
   "cell_type": "markdown",
   "metadata": {},
   "source": [
    "## Этаж квартиры; варианты — первый, последний, другой \n",
    "<a id=\"step3-4\"></a>"
   ]
  },
  {
   "cell_type": "code",
   "execution_count": 23,
   "metadata": {},
   "outputs": [
    {
     "data": {
      "text/html": [
       "<div>\n",
       "<style scoped>\n",
       "    .dataframe tbody tr th:only-of-type {\n",
       "        vertical-align: middle;\n",
       "    }\n",
       "\n",
       "    .dataframe tbody tr th {\n",
       "        vertical-align: top;\n",
       "    }\n",
       "\n",
       "    .dataframe thead th {\n",
       "        text-align: right;\n",
       "    }\n",
       "</style>\n",
       "<table border=\"1\" class=\"dataframe\">\n",
       "  <thead>\n",
       "    <tr style=\"text-align: right;\">\n",
       "      <th></th>\n",
       "      <th>total_images</th>\n",
       "      <th>last_price</th>\n",
       "      <th>total_area</th>\n",
       "      <th>first_day_exposition</th>\n",
       "      <th>rooms</th>\n",
       "      <th>ceiling_height</th>\n",
       "      <th>floors_total</th>\n",
       "      <th>living_area</th>\n",
       "      <th>floor</th>\n",
       "      <th>is_apartment</th>\n",
       "      <th>...</th>\n",
       "      <th>ponds_nearest</th>\n",
       "      <th>days_exposition</th>\n",
       "      <th>square_price</th>\n",
       "      <th>exposition_day</th>\n",
       "      <th>exposition_month</th>\n",
       "      <th>exposition_year</th>\n",
       "      <th>weekday</th>\n",
       "      <th>living_ratio</th>\n",
       "      <th>kitchen_ratio</th>\n",
       "      <th>floor_category</th>\n",
       "    </tr>\n",
       "  </thead>\n",
       "  <tbody>\n",
       "    <tr>\n",
       "      <td>0</td>\n",
       "      <td>20</td>\n",
       "      <td>13000000</td>\n",
       "      <td>108.0</td>\n",
       "      <td>2019-03-07</td>\n",
       "      <td>3</td>\n",
       "      <td>2.70</td>\n",
       "      <td>16</td>\n",
       "      <td>51.0</td>\n",
       "      <td>8</td>\n",
       "      <td>False</td>\n",
       "      <td>...</td>\n",
       "      <td>755.0</td>\n",
       "      <td>NaN</td>\n",
       "      <td>120370</td>\n",
       "      <td>7</td>\n",
       "      <td>3</td>\n",
       "      <td>2019</td>\n",
       "      <td>Thursday</td>\n",
       "      <td>0.472222</td>\n",
       "      <td>0.231481</td>\n",
       "      <td>другой</td>\n",
       "    </tr>\n",
       "    <tr>\n",
       "      <td>1</td>\n",
       "      <td>7</td>\n",
       "      <td>3350000</td>\n",
       "      <td>40.4</td>\n",
       "      <td>2018-12-04</td>\n",
       "      <td>1</td>\n",
       "      <td>2.65</td>\n",
       "      <td>11</td>\n",
       "      <td>18.6</td>\n",
       "      <td>1</td>\n",
       "      <td>False</td>\n",
       "      <td>...</td>\n",
       "      <td>NaN</td>\n",
       "      <td>81.0</td>\n",
       "      <td>82920</td>\n",
       "      <td>4</td>\n",
       "      <td>12</td>\n",
       "      <td>2018</td>\n",
       "      <td>Tuesday</td>\n",
       "      <td>0.460396</td>\n",
       "      <td>0.272277</td>\n",
       "      <td>первый</td>\n",
       "    </tr>\n",
       "    <tr>\n",
       "      <td>2</td>\n",
       "      <td>10</td>\n",
       "      <td>5196000</td>\n",
       "      <td>56.0</td>\n",
       "      <td>2015-08-20</td>\n",
       "      <td>2</td>\n",
       "      <td>2.65</td>\n",
       "      <td>5</td>\n",
       "      <td>34.3</td>\n",
       "      <td>4</td>\n",
       "      <td>False</td>\n",
       "      <td>...</td>\n",
       "      <td>574.0</td>\n",
       "      <td>558.0</td>\n",
       "      <td>92785</td>\n",
       "      <td>20</td>\n",
       "      <td>8</td>\n",
       "      <td>2015</td>\n",
       "      <td>Thursday</td>\n",
       "      <td>0.612500</td>\n",
       "      <td>0.148214</td>\n",
       "      <td>другой</td>\n",
       "    </tr>\n",
       "    <tr>\n",
       "      <td>3</td>\n",
       "      <td>0</td>\n",
       "      <td>64900000</td>\n",
       "      <td>159.0</td>\n",
       "      <td>2015-07-24</td>\n",
       "      <td>3</td>\n",
       "      <td>2.65</td>\n",
       "      <td>14</td>\n",
       "      <td>20.9</td>\n",
       "      <td>9</td>\n",
       "      <td>False</td>\n",
       "      <td>...</td>\n",
       "      <td>234.0</td>\n",
       "      <td>424.0</td>\n",
       "      <td>408176</td>\n",
       "      <td>24</td>\n",
       "      <td>7</td>\n",
       "      <td>2015</td>\n",
       "      <td>Friday</td>\n",
       "      <td>0.131447</td>\n",
       "      <td>0.057233</td>\n",
       "      <td>другой</td>\n",
       "    </tr>\n",
       "    <tr>\n",
       "      <td>4</td>\n",
       "      <td>2</td>\n",
       "      <td>10000000</td>\n",
       "      <td>100.0</td>\n",
       "      <td>2018-06-19</td>\n",
       "      <td>2</td>\n",
       "      <td>3.03</td>\n",
       "      <td>14</td>\n",
       "      <td>32.0</td>\n",
       "      <td>13</td>\n",
       "      <td>False</td>\n",
       "      <td>...</td>\n",
       "      <td>48.0</td>\n",
       "      <td>121.0</td>\n",
       "      <td>100000</td>\n",
       "      <td>19</td>\n",
       "      <td>6</td>\n",
       "      <td>2018</td>\n",
       "      <td>Tuesday</td>\n",
       "      <td>0.320000</td>\n",
       "      <td>0.410000</td>\n",
       "      <td>другой</td>\n",
       "    </tr>\n",
       "  </tbody>\n",
       "</table>\n",
       "<p>5 rows × 30 columns</p>\n",
       "</div>"
      ],
      "text/plain": [
       "   total_images  last_price  total_area first_day_exposition  rooms  \\\n",
       "0            20    13000000       108.0           2019-03-07      3   \n",
       "1             7     3350000        40.4           2018-12-04      1   \n",
       "2            10     5196000        56.0           2015-08-20      2   \n",
       "3             0    64900000       159.0           2015-07-24      3   \n",
       "4             2    10000000       100.0           2018-06-19      2   \n",
       "\n",
       "   ceiling_height  floors_total  living_area  floor is_apartment  ...  \\\n",
       "0            2.70            16         51.0      8        False  ...   \n",
       "1            2.65            11         18.6      1        False  ...   \n",
       "2            2.65             5         34.3      4        False  ...   \n",
       "3            2.65            14         20.9      9        False  ...   \n",
       "4            3.03            14         32.0     13        False  ...   \n",
       "\n",
       "  ponds_nearest days_exposition  square_price  exposition_day  \\\n",
       "0         755.0             NaN        120370               7   \n",
       "1           NaN            81.0         82920               4   \n",
       "2         574.0           558.0         92785              20   \n",
       "3         234.0           424.0        408176              24   \n",
       "4          48.0           121.0        100000              19   \n",
       "\n",
       "  exposition_month  exposition_year   weekday  living_ratio  kitchen_ratio  \\\n",
       "0                3             2019  Thursday      0.472222       0.231481   \n",
       "1               12             2018   Tuesday      0.460396       0.272277   \n",
       "2                8             2015  Thursday      0.612500       0.148214   \n",
       "3                7             2015    Friday      0.131447       0.057233   \n",
       "4                6             2018   Tuesday      0.320000       0.410000   \n",
       "\n",
       "   floor_category  \n",
       "0          другой  \n",
       "1          первый  \n",
       "2          другой  \n",
       "3          другой  \n",
       "4          другой  \n",
       "\n",
       "[5 rows x 30 columns]"
      ]
     },
     "execution_count": 23,
     "metadata": {},
     "output_type": "execute_result"
    }
   ],
   "source": [
    "def floor_category(row):\n",
    "    if row['floor'] == 1:\n",
    "        result = 'первый'\n",
    "    elif row['floor'] == row['floors_total']:\n",
    "        result = 'последний'\n",
    "    else:\n",
    "        result = 'другой'\n",
    "    \n",
    "    return result\n",
    "\n",
    "df['floor_category'] = df.apply(floor_category, axis = 1)\n",
    "df.head()"
   ]
  },
  {
   "cell_type": "markdown",
   "metadata": {},
   "source": [
    "# Шаг 4. Исследовательский анализ данных \n",
    "<a id=\"step4\"></a>"
   ]
  },
  {
   "cell_type": "markdown",
   "metadata": {},
   "source": [
    "## Изучение площадь, цена, число комнат, высота потолков\n",
    "<a id=\"step4-1\"></a>"
   ]
  },
  {
   "cell_type": "markdown",
   "metadata": {},
   "source": [
    "### Площадь"
   ]
  },
  {
   "cell_type": "code",
   "execution_count": 24,
   "metadata": {
    "scrolled": false
   },
   "outputs": [
    {
     "data": {
      "text/plain": [
       "count    23699.00000\n",
       "mean        60.19251\n",
       "std         35.84693\n",
       "min          1.00000\n",
       "25%         40.00000\n",
       "50%         52.00000\n",
       "75%         69.80000\n",
       "max        900.00000\n",
       "Name: total_area, dtype: float64"
      ]
     },
     "execution_count": 24,
     "metadata": {},
     "output_type": "execute_result"
    }
   ],
   "source": [
    "df['total_area'].describe()"
   ]
  },
  {
   "cell_type": "code",
   "execution_count": 25,
   "metadata": {},
   "outputs": [
    {
     "data": {
      "text/plain": [
       "count    23561.000000\n",
       "mean        60.539209\n",
       "std         35.663513\n",
       "min         12.000000\n",
       "25%         40.000000\n",
       "50%         52.000000\n",
       "75%         70.000000\n",
       "max        900.000000\n",
       "Name: total_area, dtype: float64"
      ]
     },
     "execution_count": 25,
     "metadata": {},
     "output_type": "execute_result"
    }
   ],
   "source": [
    "df = df.drop(df.loc[df['total_area'] == 1].index)\n",
    "df['total_area'].describe()"
   ]
  },
  {
   "cell_type": "markdown",
   "metadata": {},
   "source": [
    "#### Вывод"
   ]
  },
  {
   "cell_type": "markdown",
   "metadata": {},
   "source": [
    "В процессе исследования площади объектов, были обнаружены объявления с площадью 1. <br>\n",
    "При их изучении оказалось, что это скорее всего тестовые данные. Они не релевантные. Удалил."
   ]
  },
  {
   "cell_type": "markdown",
   "metadata": {},
   "source": [
    "### Цена"
   ]
  },
  {
   "cell_type": "code",
   "execution_count": 26,
   "metadata": {
    "scrolled": false
   },
   "outputs": [
    {
     "data": {
      "text/plain": [
       "count        23561\n",
       "mean       6561750\n",
       "std       10914946\n",
       "min          12190\n",
       "25%        3450000\n",
       "50%        4650000\n",
       "75%        6800000\n",
       "max      763000000\n",
       "Name: last_price, dtype: object"
      ]
     },
     "execution_count": 26,
     "metadata": {},
     "output_type": "execute_result"
    }
   ],
   "source": [
    "df['last_price'].describe().map('{:.0f}'.format)"
   ]
  },
  {
   "cell_type": "markdown",
   "metadata": {},
   "source": [
    "Есть очень маленькие и очень большие значения. Надо посмотреть, что за они и, по возможности, избавиться."
   ]
  },
  {
   "cell_type": "code",
   "execution_count": 27,
   "metadata": {},
   "outputs": [
    {
     "data": {
      "text/plain": [
       "<matplotlib.axes._subplots.AxesSubplot at 0x7f9c34be1390>"
      ]
     },
     "execution_count": 27,
     "metadata": {},
     "output_type": "execute_result"
    },
    {
     "data": {
      "image/png": "[encoded data removed]",
      "text/plain": [
       "<Figure size 432x288 with 1 Axes>"
      ]
     },
     "metadata": {
      "needs_background": "light"
     },
     "output_type": "display_data"
    }
   ],
   "source": [
    "# График с усами посмотреть на выбросы\n",
    "df.plot(\n",
    "    title = 'Выбросы цены квартиры, руб.',\n",
    "    y = 'last_price',\n",
    "    kind = 'box',\n",
    "    grid = True\n",
    ")"
   ]
  },
  {
   "cell_type": "code",
   "execution_count": 28,
   "metadata": {},
   "outputs": [
    {
     "data": {
      "text/plain": [
       "Text(0, 0.5, 'Общая площадь, м2')"
      ]
     },
     "execution_count": 28,
     "metadata": {},
     "output_type": "execute_result"
    },
    {
     "data": {
      "image/png": "[encoded data removed]",
      "text/plain": [
       "<Figure size 432x288 with 1 Axes>"
      ]
     },
     "metadata": {
      "needs_background": "light"
     },
     "output_type": "display_data"
    }
   ],
   "source": [
    "# График распределения, посмотреть на сосредоточенность объектов\n",
    "df.plot(\n",
    "    title = 'Распределение цены по метражу квартиры',\n",
    "    x = 'last_price', \n",
    "    y = 'total_area', \n",
    "    kind = 'scatter', \n",
    "    alpha = 0.05,\n",
    "    grid = True\n",
    ")\n",
    "plt.xlabel('Цена квартиры, 10 млн')\n",
    "plt.ylabel(\"Общая площадь, м2\")"
   ]
  },
  {
   "cell_type": "code",
   "execution_count": 29,
   "metadata": {
    "scrolled": false
   },
   "outputs": [
    {
     "data": {
      "text/html": [
       "<div>\n",
       "<style scoped>\n",
       "    .dataframe tbody tr th:only-of-type {\n",
       "        vertical-align: middle;\n",
       "    }\n",
       "\n",
       "    .dataframe tbody tr th {\n",
       "        vertical-align: top;\n",
       "    }\n",
       "\n",
       "    .dataframe thead th {\n",
       "        text-align: right;\n",
       "    }\n",
       "</style>\n",
       "<table border=\"1\" class=\"dataframe\">\n",
       "  <thead>\n",
       "    <tr style=\"text-align: right;\">\n",
       "      <th></th>\n",
       "      <th>median_last_price</th>\n",
       "      <th>median_square_price</th>\n",
       "      <th>mean_last_price</th>\n",
       "      <th>mean_square_price</th>\n",
       "      <th>max_last_price</th>\n",
       "      <th>max_square_price</th>\n",
       "      <th>last_price</th>\n",
       "    </tr>\n",
       "    <tr>\n",
       "      <th>rooms</th>\n",
       "      <th></th>\n",
       "      <th></th>\n",
       "      <th></th>\n",
       "      <th></th>\n",
       "      <th></th>\n",
       "      <th></th>\n",
       "      <th></th>\n",
       "    </tr>\n",
       "  </thead>\n",
       "  <tbody>\n",
       "    <tr>\n",
       "      <td>12</td>\n",
       "      <td>420000000</td>\n",
       "      <td>466666.0</td>\n",
       "      <td>4.200000e+08</td>\n",
       "      <td>466666.000000</td>\n",
       "      <td>420000000</td>\n",
       "      <td>466666</td>\n",
       "      <td>1</td>\n",
       "    </tr>\n",
       "    <tr>\n",
       "      <td>15</td>\n",
       "      <td>65000000</td>\n",
       "      <td>110169.0</td>\n",
       "      <td>6.500000e+07</td>\n",
       "      <td>110169.000000</td>\n",
       "      <td>65000000</td>\n",
       "      <td>110169</td>\n",
       "      <td>1</td>\n",
       "    </tr>\n",
       "    <tr>\n",
       "      <td>19</td>\n",
       "      <td>32250000</td>\n",
       "      <td>86091.0</td>\n",
       "      <td>3.225000e+07</td>\n",
       "      <td>86091.000000</td>\n",
       "      <td>32250000</td>\n",
       "      <td>86091</td>\n",
       "      <td>1</td>\n",
       "    </tr>\n",
       "    <tr>\n",
       "      <td>16</td>\n",
       "      <td>28500000</td>\n",
       "      <td>105555.0</td>\n",
       "      <td>2.850000e+07</td>\n",
       "      <td>105555.000000</td>\n",
       "      <td>28500000</td>\n",
       "      <td>105555</td>\n",
       "      <td>1</td>\n",
       "    </tr>\n",
       "    <tr>\n",
       "      <td>14</td>\n",
       "      <td>26829500</td>\n",
       "      <td>92827.0</td>\n",
       "      <td>2.682950e+07</td>\n",
       "      <td>92827.000000</td>\n",
       "      <td>28659000</td>\n",
       "      <td>116784</td>\n",
       "      <td>2</td>\n",
       "    </tr>\n",
       "    <tr>\n",
       "      <td>11</td>\n",
       "      <td>25250000</td>\n",
       "      <td>132639.5</td>\n",
       "      <td>2.525000e+07</td>\n",
       "      <td>132639.500000</td>\n",
       "      <td>33000000</td>\n",
       "      <td>170015</td>\n",
       "      <td>2</td>\n",
       "    </tr>\n",
       "    <tr>\n",
       "      <td>7</td>\n",
       "      <td>24900000</td>\n",
       "      <td>108827.0</td>\n",
       "      <td>5.147007e+07</td>\n",
       "      <td>163569.491525</td>\n",
       "      <td>763000000</td>\n",
       "      <td>1907500</td>\n",
       "      <td>59</td>\n",
       "    </tr>\n",
       "    <tr>\n",
       "      <td>9</td>\n",
       "      <td>23750000</td>\n",
       "      <td>92517.5</td>\n",
       "      <td>3.415236e+07</td>\n",
       "      <td>105026.875000</td>\n",
       "      <td>88000000</td>\n",
       "      <td>220000</td>\n",
       "      <td>8</td>\n",
       "    </tr>\n",
       "    <tr>\n",
       "      <td>8</td>\n",
       "      <td>23095000</td>\n",
       "      <td>106760.0</td>\n",
       "      <td>5.022417e+07</td>\n",
       "      <td>184650.583333</td>\n",
       "      <td>180000000</td>\n",
       "      <td>652173</td>\n",
       "      <td>12</td>\n",
       "    </tr>\n",
       "    <tr>\n",
       "      <td>10</td>\n",
       "      <td>23000000</td>\n",
       "      <td>84372.0</td>\n",
       "      <td>2.616667e+07</td>\n",
       "      <td>98009.666667</td>\n",
       "      <td>40000000</td>\n",
       "      <td>137931</td>\n",
       "      <td>3</td>\n",
       "    </tr>\n",
       "    <tr>\n",
       "      <td>6</td>\n",
       "      <td>19000000</td>\n",
       "      <td>99411.0</td>\n",
       "      <td>3.170975e+07</td>\n",
       "      <td>140718.342857</td>\n",
       "      <td>245000000</td>\n",
       "      <td>857542</td>\n",
       "      <td>105</td>\n",
       "    </tr>\n",
       "    <tr>\n",
       "      <td>5</td>\n",
       "      <td>14000000</td>\n",
       "      <td>96516.5</td>\n",
       "      <td>2.376208e+07</td>\n",
       "      <td>126749.889571</td>\n",
       "      <td>401300000</td>\n",
       "      <td>1000748</td>\n",
       "      <td>326</td>\n",
       "    </tr>\n",
       "    <tr>\n",
       "      <td>4</td>\n",
       "      <td>9000000</td>\n",
       "      <td>92666.0</td>\n",
       "      <td>1.342350e+07</td>\n",
       "      <td>110331.160169</td>\n",
       "      <td>159984000</td>\n",
       "      <td>995983</td>\n",
       "      <td>1180</td>\n",
       "    </tr>\n",
       "    <tr>\n",
       "      <td>3</td>\n",
       "      <td>6200000</td>\n",
       "      <td>88983.0</td>\n",
       "      <td>8.179119e+06</td>\n",
       "      <td>97150.694358</td>\n",
       "      <td>330000000</td>\n",
       "      <td>1736842</td>\n",
       "      <td>5814</td>\n",
       "    </tr>\n",
       "    <tr>\n",
       "      <td>2</td>\n",
       "      <td>4770169</td>\n",
       "      <td>92796.0</td>\n",
       "      <td>5.591605e+06</td>\n",
       "      <td>95489.207557</td>\n",
       "      <td>289238400</td>\n",
       "      <td>1542604</td>\n",
       "      <td>7940</td>\n",
       "    </tr>\n",
       "    <tr>\n",
       "      <td>1</td>\n",
       "      <td>3600000</td>\n",
       "      <td>100000.0</td>\n",
       "      <td>3.835362e+06</td>\n",
       "      <td>100817.830993</td>\n",
       "      <td>43511000</td>\n",
       "      <td>848484</td>\n",
       "      <td>8047</td>\n",
       "    </tr>\n",
       "    <tr>\n",
       "      <td>0</td>\n",
       "      <td>2600000</td>\n",
       "      <td>104285.0</td>\n",
       "      <td>3.911034e+06</td>\n",
       "      <td>105117.118644</td>\n",
       "      <td>71000000</td>\n",
       "      <td>191374</td>\n",
       "      <td>59</td>\n",
       "    </tr>\n",
       "  </tbody>\n",
       "</table>\n",
       "</div>"
      ],
      "text/plain": [
       "       median_last_price  median_square_price  mean_last_price  \\\n",
       "rooms                                                            \n",
       "12             420000000             466666.0     4.200000e+08   \n",
       "15              65000000             110169.0     6.500000e+07   \n",
       "19              32250000              86091.0     3.225000e+07   \n",
       "16              28500000             105555.0     2.850000e+07   \n",
       "14              26829500              92827.0     2.682950e+07   \n",
       "11              25250000             132639.5     2.525000e+07   \n",
       "7               24900000             108827.0     5.147007e+07   \n",
       "9               23750000              92517.5     3.415236e+07   \n",
       "8               23095000             106760.0     5.022417e+07   \n",
       "10              23000000              84372.0     2.616667e+07   \n",
       "6               19000000              99411.0     3.170975e+07   \n",
       "5               14000000              96516.5     2.376208e+07   \n",
       "4                9000000              92666.0     1.342350e+07   \n",
       "3                6200000              88983.0     8.179119e+06   \n",
       "2                4770169              92796.0     5.591605e+06   \n",
       "1                3600000             100000.0     3.835362e+06   \n",
       "0                2600000             104285.0     3.911034e+06   \n",
       "\n",
       "       mean_square_price  max_last_price  max_square_price  last_price  \n",
       "rooms                                                                   \n",
       "12         466666.000000       420000000            466666           1  \n",
       "15         110169.000000        65000000            110169           1  \n",
       "19          86091.000000        32250000             86091           1  \n",
       "16         105555.000000        28500000            105555           1  \n",
       "14          92827.000000        28659000            116784           2  \n",
       "11         132639.500000        33000000            170015           2  \n",
       "7          163569.491525       763000000           1907500          59  \n",
       "9          105026.875000        88000000            220000           8  \n",
       "8          184650.583333       180000000            652173          12  \n",
       "10          98009.666667        40000000            137931           3  \n",
       "6          140718.342857       245000000            857542         105  \n",
       "5          126749.889571       401300000           1000748         326  \n",
       "4          110331.160169       159984000            995983        1180  \n",
       "3           97150.694358       330000000           1736842        5814  \n",
       "2           95489.207557       289238400           1542604        7940  \n",
       "1          100817.830993        43511000            848484        8047  \n",
       "0          105117.118644        71000000            191374          59  "
      ]
     },
     "execution_count": 29,
     "metadata": {},
     "output_type": "execute_result"
    }
   ],
   "source": [
    "# сбор сводной таблицы для наглядности цены и цены квадратного метра\n",
    "agg_price_data = df.pivot_table(index = 'rooms', values = ['last_price', 'square_price'], aggfunc = ['median', 'mean', 'max'])\n",
    "\n",
    "agg_price_data.columns = ([\n",
    "    'median_last_price', \n",
    "    'median_square_price', \n",
    "    'mean_last_price', \n",
    "    'mean_square_price', \n",
    "    'max_last_price', \n",
    "    'max_square_price'])\n",
    "\n",
    "apartments_count = df.pivot_table(index = 'rooms', values = 'last_price', aggfunc = 'count')\n",
    "\n",
    "# Объединение двух таблиц, чтобы посмотреть каких квартир сколько\n",
    "agg_price_data = (agg_price_data\n",
    "                  .join(apartments_count, on = 'rooms')\n",
    "                  .sort_values(by = 'median_last_price', ascending = False)\n",
    ")\n",
    "agg_price_data"
   ]
  },
  {
   "cell_type": "markdown",
   "metadata": {},
   "source": [
    "Наибольшее количество квартир до 10 млн."
   ]
  },
  {
   "cell_type": "code",
   "execution_count": 30,
   "metadata": {},
   "outputs": [
    {
     "data": {
      "text/plain": [
       "<matplotlib.axes._subplots.AxesSubplot at 0x7f9c34c01c10>"
      ]
     },
     "execution_count": 30,
     "metadata": {},
     "output_type": "execute_result"
    },
    {
     "data": {
      "image/png": "[encoded data removed]",
      "text/plain": [
       "<Figure size 432x288 with 1 Axes>"
      ]
     },
     "metadata": {
      "needs_background": "light"
     },
     "output_type": "display_data"
    }
   ],
   "source": [
    "# Посмотрим распределение цены квартиры\n",
    "df.plot(\n",
    "    title = 'Цена квартиры, 10 млн.руб.',\n",
    "    y = 'last_price',\n",
    "    kind = 'hist',\n",
    "    bins = 30,\n",
    "    range = (0, 20000000),\n",
    "    grid = True,\n",
    "    linewidth = 2 \n",
    ")"
   ]
  },
  {
   "cell_type": "markdown",
   "metadata": {},
   "source": [
    "#### Вывод"
   ]
  },
  {
   "cell_type": "markdown",
   "metadata": {},
   "source": [
    "При исследовании получилось, что большинство квартир лежит в диапазоне до 10 млн. руб. Основная часть между 2.5 и 7.5 млн."
   ]
  },
  {
   "cell_type": "markdown",
   "metadata": {},
   "source": [
    "### Комнаты"
   ]
  },
  {
   "cell_type": "code",
   "execution_count": 31,
   "metadata": {
    "scrolled": true
   },
   "outputs": [
    {
     "data": {
      "text/plain": [
       "count    23561.00\n",
       "mean         2.08\n",
       "std          1.07\n",
       "min          0.00\n",
       "25%          1.00\n",
       "50%          2.00\n",
       "75%          3.00\n",
       "max         19.00\n",
       "Name: rooms, dtype: object"
      ]
     },
     "execution_count": 31,
     "metadata": {},
     "output_type": "execute_result"
    }
   ],
   "source": [
    "df['rooms'].describe().map('{:.2f}'.format)"
   ]
  },
  {
   "cell_type": "markdown",
   "metadata": {},
   "source": [
    "#### Вывод"
   ]
  },
  {
   "cell_type": "markdown",
   "metadata": {},
   "source": [
    "С комнатами все в порядке. Большинство 1-4-комнатных квартир.<br>\n",
    "Есть экземпляр с 19.\n",
    "\n",
    "Всего 195 квартир, где больше 5 комнат. Также есть квартиры, где 0 комнат. Это объявления с открытой планировкой. Видимо, только коробка продается, без ремонта."
   ]
  },
  {
   "cell_type": "markdown",
   "metadata": {},
   "source": [
    "### Высота потолка"
   ]
  },
  {
   "cell_type": "code",
   "execution_count": 32,
   "metadata": {
    "scrolled": true
   },
   "outputs": [
    {
     "data": {
      "text/plain": [
       "count    23561.00\n",
       "mean         2.70\n",
       "std          0.24\n",
       "min          1.00\n",
       "25%          2.60\n",
       "50%          2.65\n",
       "75%          2.70\n",
       "max         10.00\n",
       "Name: ceiling_height, dtype: object"
      ]
     },
     "execution_count": 32,
     "metadata": {},
     "output_type": "execute_result"
    }
   ],
   "source": [
    "df['ceiling_height'].describe().map('{:.2f}'.format)"
   ]
  },
  {
   "cell_type": "code",
   "execution_count": 33,
   "metadata": {},
   "outputs": [
    {
     "data": {
      "text/html": [
       "<div>\n",
       "<style scoped>\n",
       "    .dataframe tbody tr th:only-of-type {\n",
       "        vertical-align: middle;\n",
       "    }\n",
       "\n",
       "    .dataframe tbody tr th {\n",
       "        vertical-align: top;\n",
       "    }\n",
       "\n",
       "    .dataframe thead th {\n",
       "        text-align: right;\n",
       "    }\n",
       "</style>\n",
       "<table border=\"1\" class=\"dataframe\">\n",
       "  <thead>\n",
       "    <tr style=\"text-align: right;\">\n",
       "      <th></th>\n",
       "      <th>total_images</th>\n",
       "      <th>last_price</th>\n",
       "      <th>total_area</th>\n",
       "      <th>first_day_exposition</th>\n",
       "      <th>rooms</th>\n",
       "      <th>ceiling_height</th>\n",
       "      <th>floors_total</th>\n",
       "      <th>living_area</th>\n",
       "      <th>floor</th>\n",
       "      <th>is_apartment</th>\n",
       "      <th>...</th>\n",
       "      <th>ponds_nearest</th>\n",
       "      <th>days_exposition</th>\n",
       "      <th>square_price</th>\n",
       "      <th>exposition_day</th>\n",
       "      <th>exposition_month</th>\n",
       "      <th>exposition_year</th>\n",
       "      <th>weekday</th>\n",
       "      <th>living_ratio</th>\n",
       "      <th>kitchen_ratio</th>\n",
       "      <th>floor_category</th>\n",
       "    </tr>\n",
       "  </thead>\n",
       "  <tbody>\n",
       "    <tr>\n",
       "      <td>5712</td>\n",
       "      <td>5</td>\n",
       "      <td>1500000</td>\n",
       "      <td>42.8</td>\n",
       "      <td>2017-08-14</td>\n",
       "      <td>2</td>\n",
       "      <td>1.20</td>\n",
       "      <td>2</td>\n",
       "      <td>27.5</td>\n",
       "      <td>1</td>\n",
       "      <td>False</td>\n",
       "      <td>...</td>\n",
       "      <td>NaN</td>\n",
       "      <td>248.0</td>\n",
       "      <td>35046</td>\n",
       "      <td>14</td>\n",
       "      <td>8</td>\n",
       "      <td>2017</td>\n",
       "      <td>Monday</td>\n",
       "      <td>0.642523</td>\n",
       "      <td>0.121495</td>\n",
       "      <td>первый</td>\n",
       "    </tr>\n",
       "    <tr>\n",
       "      <td>15061</td>\n",
       "      <td>19</td>\n",
       "      <td>5600000</td>\n",
       "      <td>56.4</td>\n",
       "      <td>2018-05-11</td>\n",
       "      <td>2</td>\n",
       "      <td>1.40</td>\n",
       "      <td>14</td>\n",
       "      <td>32.4</td>\n",
       "      <td>5</td>\n",
       "      <td>False</td>\n",
       "      <td>...</td>\n",
       "      <td>NaN</td>\n",
       "      <td>315.0</td>\n",
       "      <td>99290</td>\n",
       "      <td>11</td>\n",
       "      <td>5</td>\n",
       "      <td>2018</td>\n",
       "      <td>Friday</td>\n",
       "      <td>0.574468</td>\n",
       "      <td>0.161348</td>\n",
       "      <td>другой</td>\n",
       "    </tr>\n",
       "    <tr>\n",
       "      <td>16934</td>\n",
       "      <td>5</td>\n",
       "      <td>4100000</td>\n",
       "      <td>40.0</td>\n",
       "      <td>2017-10-17</td>\n",
       "      <td>1</td>\n",
       "      <td>1.75</td>\n",
       "      <td>37</td>\n",
       "      <td>17.4</td>\n",
       "      <td>5</td>\n",
       "      <td>False</td>\n",
       "      <td>...</td>\n",
       "      <td>80.0</td>\n",
       "      <td>71.0</td>\n",
       "      <td>102500</td>\n",
       "      <td>17</td>\n",
       "      <td>10</td>\n",
       "      <td>2017</td>\n",
       "      <td>Tuesday</td>\n",
       "      <td>0.435000</td>\n",
       "      <td>0.208500</td>\n",
       "      <td>другой</td>\n",
       "    </tr>\n",
       "    <tr>\n",
       "      <td>22309</td>\n",
       "      <td>20</td>\n",
       "      <td>5300000</td>\n",
       "      <td>45.0</td>\n",
       "      <td>2017-09-30</td>\n",
       "      <td>1</td>\n",
       "      <td>1.03</td>\n",
       "      <td>16</td>\n",
       "      <td>15.5</td>\n",
       "      <td>15</td>\n",
       "      <td>False</td>\n",
       "      <td>...</td>\n",
       "      <td>450.0</td>\n",
       "      <td>136.0</td>\n",
       "      <td>117777</td>\n",
       "      <td>30</td>\n",
       "      <td>9</td>\n",
       "      <td>2017</td>\n",
       "      <td>Saturday</td>\n",
       "      <td>0.344444</td>\n",
       "      <td>0.202222</td>\n",
       "      <td>другой</td>\n",
       "    </tr>\n",
       "    <tr>\n",
       "      <td>22590</td>\n",
       "      <td>16</td>\n",
       "      <td>6000000</td>\n",
       "      <td>55.0</td>\n",
       "      <td>2018-10-31</td>\n",
       "      <td>2</td>\n",
       "      <td>1.00</td>\n",
       "      <td>12</td>\n",
       "      <td>32.4</td>\n",
       "      <td>7</td>\n",
       "      <td>False</td>\n",
       "      <td>...</td>\n",
       "      <td>289.0</td>\n",
       "      <td>13.0</td>\n",
       "      <td>109090</td>\n",
       "      <td>31</td>\n",
       "      <td>10</td>\n",
       "      <td>2018</td>\n",
       "      <td>Wednesday</td>\n",
       "      <td>0.589091</td>\n",
       "      <td>0.181818</td>\n",
       "      <td>другой</td>\n",
       "    </tr>\n",
       "  </tbody>\n",
       "</table>\n",
       "<p>5 rows × 30 columns</p>\n",
       "</div>"
      ],
      "text/plain": [
       "       total_images  last_price  total_area first_day_exposition  rooms  \\\n",
       "5712              5     1500000        42.8           2017-08-14      2   \n",
       "15061            19     5600000        56.4           2018-05-11      2   \n",
       "16934             5     4100000        40.0           2017-10-17      1   \n",
       "22309            20     5300000        45.0           2017-09-30      1   \n",
       "22590            16     6000000        55.0           2018-10-31      2   \n",
       "\n",
       "       ceiling_height  floors_total  living_area  floor is_apartment  ...  \\\n",
       "5712             1.20             2         27.5      1        False  ...   \n",
       "15061            1.40            14         32.4      5        False  ...   \n",
       "16934            1.75            37         17.4      5        False  ...   \n",
       "22309            1.03            16         15.5     15        False  ...   \n",
       "22590            1.00            12         32.4      7        False  ...   \n",
       "\n",
       "      ponds_nearest days_exposition  square_price  exposition_day  \\\n",
       "5712            NaN           248.0         35046              14   \n",
       "15061           NaN           315.0         99290              11   \n",
       "16934          80.0            71.0        102500              17   \n",
       "22309         450.0           136.0        117777              30   \n",
       "22590         289.0            13.0        109090              31   \n",
       "\n",
       "      exposition_month  exposition_year    weekday  living_ratio  \\\n",
       "5712                 8             2017     Monday      0.642523   \n",
       "15061                5             2018     Friday      0.574468   \n",
       "16934               10             2017    Tuesday      0.435000   \n",
       "22309                9             2017   Saturday      0.344444   \n",
       "22590               10             2018  Wednesday      0.589091   \n",
       "\n",
       "       kitchen_ratio  floor_category  \n",
       "5712        0.121495          первый  \n",
       "15061       0.161348          другой  \n",
       "16934       0.208500          другой  \n",
       "22309       0.202222          другой  \n",
       "22590       0.181818          другой  \n",
       "\n",
       "[5 rows x 30 columns]"
      ]
     },
     "execution_count": 33,
     "metadata": {},
     "output_type": "execute_result"
    }
   ],
   "source": [
    "df.query('ceiling_height < 2')"
   ]
  },
  {
   "cell_type": "markdown",
   "metadata": {},
   "source": [
    "#### Вывод"
   ]
  },
  {
   "cell_type": "markdown",
   "metadata": {},
   "source": [
    "Есть значение всего одно значение с высотой 1 метр и 4 со значением меньше 2 метров. Это 5 строк. Можно удалить."
   ]
  },
  {
   "cell_type": "code",
   "execution_count": 34,
   "metadata": {},
   "outputs": [],
   "source": [
    "df = df.drop(df.loc[df['ceiling_height'] < 2 ].index)"
   ]
  },
  {
   "cell_type": "markdown",
   "metadata": {},
   "source": [
    "## Гистограммы для каждого параметра\n",
    "<a id=\"step4-2\"></a>"
   ]
  },
  {
   "cell_type": "markdown",
   "metadata": {},
   "source": [
    "### Площадь"
   ]
  },
  {
   "cell_type": "code",
   "execution_count": 35,
   "metadata": {
    "scrolled": false
   },
   "outputs": [
    {
     "data": {
      "text/plain": [
       "<matplotlib.axes._subplots.AxesSubplot at 0x7f9c3d3b99d0>"
      ]
     },
     "execution_count": 35,
     "metadata": {},
     "output_type": "execute_result"
    },
    {
     "data": {
      "image/png": "[encoded data removed]",
      "text/plain": [
       "<Figure size 432x288 with 1 Axes>"
      ]
     },
     "metadata": {
      "needs_background": "light"
     },
     "output_type": "display_data"
    }
   ],
   "source": [
    "# Посмотрим распределение общей площади квартиры\n",
    "df.plot(\n",
    "    title = 'Общая площадь квартиры, м2',\n",
    "    y = 'total_area',\n",
    "    kind = 'hist',\n",
    "    bins = 30,\n",
    "    range = (20, 125),\n",
    "    grid = True,\n",
    "    linewidth = 2 \n",
    ")"
   ]
  },
  {
   "cell_type": "markdown",
   "metadata": {},
   "source": [
    "#### Вывод"
   ]
  },
  {
   "cell_type": "markdown",
   "metadata": {},
   "source": [
    "Распределение нормальное. Большое количество квартир от 30 до 60 метров. Все, что выше 125 можно не учитывать - длинный хвост."
   ]
  },
  {
   "cell_type": "markdown",
   "metadata": {},
   "source": [
    "### Цена"
   ]
  },
  {
   "cell_type": "code",
   "execution_count": 36,
   "metadata": {
    "scrolled": true
   },
   "outputs": [
    {
     "data": {
      "text/plain": [
       "<matplotlib.axes._subplots.AxesSubplot at 0x7f9c3d3127d0>"
      ]
     },
     "execution_count": 36,
     "metadata": {},
     "output_type": "execute_result"
    },
    {
     "data": {
      "image/png": "[encoded data removed]",
      "text/plain": [
       "<Figure size 432x288 with 1 Axes>"
      ]
     },
     "metadata": {
      "needs_background": "light"
     },
     "output_type": "display_data"
    }
   ],
   "source": [
    "quantiles = df['last_price'].quantile([0.8])\n",
    "\n",
    "# Посмотрим распределение цены квартиры\n",
    "df.plot(\n",
    "    title = 'Распределение цены квартиры, руб.',\n",
    "    y = 'last_price',\n",
    "    kind = 'hist',\n",
    "    bins = 30,\n",
    "    range = (0, quantiles.iloc[0]), \n",
    "    grid = True,\n",
    "    linewidth = 2,\n",
    "    rot = 45\n",
    ")"
   ]
  },
  {
   "cell_type": "markdown",
   "metadata": {},
   "source": [
    "#### Вывод"
   ]
  },
  {
   "cell_type": "markdown",
   "metadata": {},
   "source": [
    "Распределение нормальное. Есть длинный хвост высоких цен. <br>\n",
    "Большинство квартир лежит в диапазоне до 15 млн. Основная масса цены сосредоточена в диапазоне 2.5 - 7.5 млн."
   ]
  },
  {
   "cell_type": "markdown",
   "metadata": {},
   "source": [
    "### Комнаты"
   ]
  },
  {
   "cell_type": "code",
   "execution_count": 37,
   "metadata": {
    "scrolled": false
   },
   "outputs": [
    {
     "data": {
      "text/plain": [
       "<matplotlib.axes._subplots.AxesSubplot at 0x7f9c3520dbd0>"
      ]
     },
     "execution_count": 37,
     "metadata": {},
     "output_type": "execute_result"
    },
    {
     "data": {
      "image/png": "[encoded data removed]",
      "text/plain": [
       "<Figure size 432x288 with 1 Axes>"
      ]
     },
     "metadata": {
      "needs_background": "light"
     },
     "output_type": "display_data"
    }
   ],
   "source": [
    "# Посмотрим распределение количества комнат\n",
    "df.plot(\n",
    "    title = 'Распределение комнат',\n",
    "    y = 'rooms',\n",
    "    kind = 'hist',\n",
    "    bins = 7,\n",
    "    grid = True,\n",
    "    range = (1, 7),\n",
    "    linewidth = 2\n",
    ")"
   ]
  },
  {
   "cell_type": "markdown",
   "metadata": {},
   "source": [
    "#### Вывод"
   ]
  },
  {
   "cell_type": "markdown",
   "metadata": {},
   "source": [
    "Распределение Пуассона, где отображено наибольшее количество 1-4 комнатных квартир."
   ]
  },
  {
   "cell_type": "markdown",
   "metadata": {},
   "source": [
    "### Высота потолка"
   ]
  },
  {
   "cell_type": "code",
   "execution_count": 38,
   "metadata": {
    "scrolled": true
   },
   "outputs": [
    {
     "data": {
      "text/plain": [
       "<matplotlib.axes._subplots.AxesSubplot at 0x7f9c35113c10>"
      ]
     },
     "execution_count": 38,
     "metadata": {},
     "output_type": "execute_result"
    },
    {
     "data": {
      "image/png": "[encoded data removed]",
      "text/plain": [
       "<Figure size 432x288 with 1 Axes>"
      ]
     },
     "metadata": {
      "needs_background": "light"
     },
     "output_type": "display_data"
    }
   ],
   "source": [
    "# Посмотрим распределение высоты потолка\n",
    "df.plot(\n",
    "    title = 'Распределение высоты потолка',\n",
    "    y = 'ceiling_height',\n",
    "    kind = 'hist',\n",
    "    bins = 10,\n",
    "    grid = True,\n",
    "    range = (2, 4),\n",
    "    linewidth = 2\n",
    ")"
   ]
  },
  {
   "cell_type": "markdown",
   "metadata": {},
   "source": [
    "#### Вывод"
   ]
  },
  {
   "cell_type": "markdown",
   "metadata": {},
   "source": [
    "Нормальное распределение. Больше всего квартир с высотой потолка 2.7 метра, что нормально."
   ]
  },
  {
   "cell_type": "markdown",
   "metadata": {},
   "source": [
    "## Время продажи квартиры \n",
    "<a id=\"step4-3\"></a>\n",
    "\n",
    "Изучите время продажи квартиры. Постройте гистограмму. Посчитайте среднее и медиану. Опишите, сколько обычно занимает продажа. Когда можно считать, что продажи прошли очень быстро, а когда необычно долго?"
   ]
  },
  {
   "cell_type": "code",
   "execution_count": 39,
   "metadata": {
    "scrolled": true
   },
   "outputs": [
    {
     "name": "stdout",
     "output_type": "stream",
     "text": [
      "Среднее количество дней: 181.24\n",
      "Медиана дней: 96\n"
     ]
    }
   ],
   "source": [
    "print('Среднее количество дней: {:.2f}'.format(df['days_exposition'].mean()))\n",
    "print('Медиана дней: {:.0f}'.format(df['days_exposition'].median()))"
   ]
  },
  {
   "cell_type": "code",
   "execution_count": 40,
   "metadata": {},
   "outputs": [
    {
     "data": {
      "text/plain": [
       "<matplotlib.axes._subplots.AxesSubplot at 0x7f9c350b71d0>"
      ]
     },
     "execution_count": 40,
     "metadata": {},
     "output_type": "execute_result"
    },
    {
     "data": {
      "image/png": "[encoded data removed]",
      "text/plain": [
       "<Figure size 432x288 with 1 Axes>"
      ]
     },
     "metadata": {
      "needs_background": "light"
     },
     "output_type": "display_data"
    }
   ],
   "source": [
    "# Посмотрим распределение высоты потолка\n",
    "df.plot(\n",
    "    title = 'Распределение дней до продажи',\n",
    "    y = 'days_exposition',\n",
    "    kind = 'hist',\n",
    "    bins = 100,\n",
    "    grid = True,\n",
    "    range = (0, 300),\n",
    "    linewidth = 2\n",
    ")"
   ]
  },
  {
   "cell_type": "markdown",
   "metadata": {},
   "source": [
    "#### Вывод"
   ]
  },
  {
   "cell_type": "markdown",
   "metadata": {},
   "source": [
    "- До 50 дней - очень быстрые.\n",
    "- От 50 до 100 - быстрые.\n",
    "- Более 400 дней - необычно долго.\n",
    "\n",
    "- Среднее число дней до продажи - 96."
   ]
  },
  {
   "cell_type": "markdown",
   "metadata": {},
   "source": [
    "## Удаление редких и выбивающихся значений \n",
    "<a id=\"step-4-4\"></a>\n",
    "\n",
    "Уберите редкие и выбивающиеся значения. Опишите, какие особенности обнаружили."
   ]
  },
  {
   "cell_type": "markdown",
   "metadata": {},
   "source": [
    "Будем анализировать основные параметры квартиры: площадь, цена, количество метров, высота потолка, количество комнат.<br>\n",
    "Начнем с площади"
   ]
  },
  {
   "cell_type": "code",
   "execution_count": 41,
   "metadata": {
    "scrolled": false
   },
   "outputs": [
    {
     "data": {
      "image/png": "[encoded data removed]",
      "text/plain": [
       "<Figure size 432x288 with 1 Axes>"
      ]
     },
     "metadata": {
      "needs_background": "light"
     },
     "output_type": "display_data"
    },
    {
     "data": {
      "image/png": "[encoded data removed]",
      "text/plain": [
       "<Figure size 432x288 with 1 Axes>"
      ]
     },
     "metadata": {
      "needs_background": "light"
     },
     "output_type": "display_data"
    },
    {
     "data": {
      "image/png": "[encoded data removed]",
      "text/plain": [
       "<Figure size 432x288 with 1 Axes>"
      ]
     },
     "metadata": {
      "needs_background": "light"
     },
     "output_type": "display_data"
    }
   ],
   "source": [
    "df.plot(\n",
    "    title = 'Выбросы метража кв-ры, м2',\n",
    "    y = 'total_area',\n",
    "    kind = 'box',\n",
    "    grid = True\n",
    ")\n",
    "plt.show()\n",
    "\n",
    "\n",
    "df.plot(\n",
    "    title = 'Выбросы цены квартиры, руб.',\n",
    "    y = 'last_price',\n",
    "    kind = 'box',\n",
    "    grid = True\n",
    ")\n",
    "plt.show()\n",
    "\n",
    "\n",
    "df.plot(\n",
    "    title = 'Выбросы кол-ва комнат',\n",
    "    y = 'rooms',\n",
    "    kind = 'box',\n",
    "    grid = True\n",
    ")\n",
    "plt.show()"
   ]
  },
  {
   "cell_type": "markdown",
   "metadata": {},
   "source": [
    "Получается много выбросов выше основной массы значений, что сказывается на среднем и графиках.<br>\n",
    "\n",
    "Изучите, зависит ли цена от площади, числа комнат, удалённости от центра. Изучите зависимость цены от того, на каком этаже расположена квартира: первом, последнем или другом. Также изучите зависимость от даты размещения: дня недели, месяца и года."
   ]
  },
  {
   "cell_type": "code",
   "execution_count": 42,
   "metadata": {
    "scrolled": false
   },
   "outputs": [
    {
     "data": {
      "text/html": [
       "<div>\n",
       "<style scoped>\n",
       "    .dataframe tbody tr th:only-of-type {\n",
       "        vertical-align: middle;\n",
       "    }\n",
       "\n",
       "    .dataframe tbody tr th {\n",
       "        vertical-align: top;\n",
       "    }\n",
       "\n",
       "    .dataframe thead th {\n",
       "        text-align: right;\n",
       "    }\n",
       "</style>\n",
       "<table border=\"1\" class=\"dataframe\">\n",
       "  <thead>\n",
       "    <tr style=\"text-align: right;\">\n",
       "      <th></th>\n",
       "      <th>total_images</th>\n",
       "      <th>last_price</th>\n",
       "      <th>total_area</th>\n",
       "      <th>first_day_exposition</th>\n",
       "      <th>rooms</th>\n",
       "      <th>ceiling_height</th>\n",
       "      <th>floors_total</th>\n",
       "      <th>living_area</th>\n",
       "      <th>floor</th>\n",
       "      <th>is_apartment</th>\n",
       "      <th>...</th>\n",
       "      <th>ponds_nearest</th>\n",
       "      <th>days_exposition</th>\n",
       "      <th>square_price</th>\n",
       "      <th>exposition_day</th>\n",
       "      <th>exposition_month</th>\n",
       "      <th>exposition_year</th>\n",
       "      <th>weekday</th>\n",
       "      <th>living_ratio</th>\n",
       "      <th>kitchen_ratio</th>\n",
       "      <th>floor_category</th>\n",
       "    </tr>\n",
       "  </thead>\n",
       "  <tbody>\n",
       "    <tr>\n",
       "      <td>0</td>\n",
       "      <td>20</td>\n",
       "      <td>13000000</td>\n",
       "      <td>108.00</td>\n",
       "      <td>2019-03-07</td>\n",
       "      <td>3</td>\n",
       "      <td>2.70</td>\n",
       "      <td>16</td>\n",
       "      <td>51.0</td>\n",
       "      <td>8</td>\n",
       "      <td>False</td>\n",
       "      <td>...</td>\n",
       "      <td>755.0</td>\n",
       "      <td>NaN</td>\n",
       "      <td>120370</td>\n",
       "      <td>7</td>\n",
       "      <td>3</td>\n",
       "      <td>2019</td>\n",
       "      <td>Thursday</td>\n",
       "      <td>0.472222</td>\n",
       "      <td>0.231481</td>\n",
       "      <td>другой</td>\n",
       "    </tr>\n",
       "    <tr>\n",
       "      <td>1</td>\n",
       "      <td>7</td>\n",
       "      <td>3350000</td>\n",
       "      <td>40.40</td>\n",
       "      <td>2018-12-04</td>\n",
       "      <td>1</td>\n",
       "      <td>2.65</td>\n",
       "      <td>11</td>\n",
       "      <td>18.6</td>\n",
       "      <td>1</td>\n",
       "      <td>False</td>\n",
       "      <td>...</td>\n",
       "      <td>NaN</td>\n",
       "      <td>81.0</td>\n",
       "      <td>82920</td>\n",
       "      <td>4</td>\n",
       "      <td>12</td>\n",
       "      <td>2018</td>\n",
       "      <td>Tuesday</td>\n",
       "      <td>0.460396</td>\n",
       "      <td>0.272277</td>\n",
       "      <td>первый</td>\n",
       "    </tr>\n",
       "    <tr>\n",
       "      <td>2</td>\n",
       "      <td>10</td>\n",
       "      <td>5196000</td>\n",
       "      <td>56.00</td>\n",
       "      <td>2015-08-20</td>\n",
       "      <td>2</td>\n",
       "      <td>2.65</td>\n",
       "      <td>5</td>\n",
       "      <td>34.3</td>\n",
       "      <td>4</td>\n",
       "      <td>False</td>\n",
       "      <td>...</td>\n",
       "      <td>574.0</td>\n",
       "      <td>558.0</td>\n",
       "      <td>92785</td>\n",
       "      <td>20</td>\n",
       "      <td>8</td>\n",
       "      <td>2015</td>\n",
       "      <td>Thursday</td>\n",
       "      <td>0.612500</td>\n",
       "      <td>0.148214</td>\n",
       "      <td>другой</td>\n",
       "    </tr>\n",
       "    <tr>\n",
       "      <td>4</td>\n",
       "      <td>2</td>\n",
       "      <td>10000000</td>\n",
       "      <td>100.00</td>\n",
       "      <td>2018-06-19</td>\n",
       "      <td>2</td>\n",
       "      <td>3.03</td>\n",
       "      <td>14</td>\n",
       "      <td>32.0</td>\n",
       "      <td>13</td>\n",
       "      <td>False</td>\n",
       "      <td>...</td>\n",
       "      <td>48.0</td>\n",
       "      <td>121.0</td>\n",
       "      <td>100000</td>\n",
       "      <td>19</td>\n",
       "      <td>6</td>\n",
       "      <td>2018</td>\n",
       "      <td>Tuesday</td>\n",
       "      <td>0.320000</td>\n",
       "      <td>0.410000</td>\n",
       "      <td>другой</td>\n",
       "    </tr>\n",
       "    <tr>\n",
       "      <td>5</td>\n",
       "      <td>10</td>\n",
       "      <td>2890000</td>\n",
       "      <td>30.40</td>\n",
       "      <td>2018-09-10</td>\n",
       "      <td>1</td>\n",
       "      <td>2.65</td>\n",
       "      <td>12</td>\n",
       "      <td>14.4</td>\n",
       "      <td>5</td>\n",
       "      <td>False</td>\n",
       "      <td>...</td>\n",
       "      <td>NaN</td>\n",
       "      <td>55.0</td>\n",
       "      <td>95065</td>\n",
       "      <td>10</td>\n",
       "      <td>9</td>\n",
       "      <td>2018</td>\n",
       "      <td>Monday</td>\n",
       "      <td>0.473684</td>\n",
       "      <td>0.299342</td>\n",
       "      <td>другой</td>\n",
       "    </tr>\n",
       "    <tr>\n",
       "      <td>...</td>\n",
       "      <td>...</td>\n",
       "      <td>...</td>\n",
       "      <td>...</td>\n",
       "      <td>...</td>\n",
       "      <td>...</td>\n",
       "      <td>...</td>\n",
       "      <td>...</td>\n",
       "      <td>...</td>\n",
       "      <td>...</td>\n",
       "      <td>...</td>\n",
       "      <td>...</td>\n",
       "      <td>...</td>\n",
       "      <td>...</td>\n",
       "      <td>...</td>\n",
       "      <td>...</td>\n",
       "      <td>...</td>\n",
       "      <td>...</td>\n",
       "      <td>...</td>\n",
       "      <td>...</td>\n",
       "      <td>...</td>\n",
       "      <td>...</td>\n",
       "    </tr>\n",
       "    <tr>\n",
       "      <td>23693</td>\n",
       "      <td>9</td>\n",
       "      <td>4600000</td>\n",
       "      <td>62.40</td>\n",
       "      <td>2016-08-05</td>\n",
       "      <td>3</td>\n",
       "      <td>2.60</td>\n",
       "      <td>9</td>\n",
       "      <td>40.0</td>\n",
       "      <td>8</td>\n",
       "      <td>False</td>\n",
       "      <td>...</td>\n",
       "      <td>675.0</td>\n",
       "      <td>239.0</td>\n",
       "      <td>73717</td>\n",
       "      <td>5</td>\n",
       "      <td>8</td>\n",
       "      <td>2016</td>\n",
       "      <td>Friday</td>\n",
       "      <td>0.641026</td>\n",
       "      <td>0.128205</td>\n",
       "      <td>другой</td>\n",
       "    </tr>\n",
       "    <tr>\n",
       "      <td>23695</td>\n",
       "      <td>14</td>\n",
       "      <td>3100000</td>\n",
       "      <td>59.00</td>\n",
       "      <td>2018-01-15</td>\n",
       "      <td>3</td>\n",
       "      <td>2.65</td>\n",
       "      <td>5</td>\n",
       "      <td>38.0</td>\n",
       "      <td>4</td>\n",
       "      <td>False</td>\n",
       "      <td>...</td>\n",
       "      <td>NaN</td>\n",
       "      <td>45.0</td>\n",
       "      <td>52542</td>\n",
       "      <td>15</td>\n",
       "      <td>1</td>\n",
       "      <td>2018</td>\n",
       "      <td>Monday</td>\n",
       "      <td>0.644068</td>\n",
       "      <td>0.144068</td>\n",
       "      <td>другой</td>\n",
       "    </tr>\n",
       "    <tr>\n",
       "      <td>23696</td>\n",
       "      <td>18</td>\n",
       "      <td>2500000</td>\n",
       "      <td>56.70</td>\n",
       "      <td>2018-02-11</td>\n",
       "      <td>2</td>\n",
       "      <td>2.65</td>\n",
       "      <td>3</td>\n",
       "      <td>29.7</td>\n",
       "      <td>1</td>\n",
       "      <td>False</td>\n",
       "      <td>...</td>\n",
       "      <td>NaN</td>\n",
       "      <td>NaN</td>\n",
       "      <td>44091</td>\n",
       "      <td>11</td>\n",
       "      <td>2</td>\n",
       "      <td>2018</td>\n",
       "      <td>Sunday</td>\n",
       "      <td>0.523810</td>\n",
       "      <td>0.160494</td>\n",
       "      <td>первый</td>\n",
       "    </tr>\n",
       "    <tr>\n",
       "      <td>23697</td>\n",
       "      <td>13</td>\n",
       "      <td>11475000</td>\n",
       "      <td>76.75</td>\n",
       "      <td>2017-03-28</td>\n",
       "      <td>2</td>\n",
       "      <td>3.00</td>\n",
       "      <td>17</td>\n",
       "      <td>20.9</td>\n",
       "      <td>12</td>\n",
       "      <td>False</td>\n",
       "      <td>...</td>\n",
       "      <td>196.0</td>\n",
       "      <td>602.0</td>\n",
       "      <td>149511</td>\n",
       "      <td>28</td>\n",
       "      <td>3</td>\n",
       "      <td>2017</td>\n",
       "      <td>Tuesday</td>\n",
       "      <td>0.272313</td>\n",
       "      <td>0.303583</td>\n",
       "      <td>другой</td>\n",
       "    </tr>\n",
       "    <tr>\n",
       "      <td>23698</td>\n",
       "      <td>4</td>\n",
       "      <td>1350000</td>\n",
       "      <td>32.30</td>\n",
       "      <td>2017-07-21</td>\n",
       "      <td>1</td>\n",
       "      <td>2.50</td>\n",
       "      <td>5</td>\n",
       "      <td>12.3</td>\n",
       "      <td>1</td>\n",
       "      <td>False</td>\n",
       "      <td>...</td>\n",
       "      <td>NaN</td>\n",
       "      <td>NaN</td>\n",
       "      <td>41795</td>\n",
       "      <td>21</td>\n",
       "      <td>7</td>\n",
       "      <td>2017</td>\n",
       "      <td>Friday</td>\n",
       "      <td>0.380805</td>\n",
       "      <td>0.278638</td>\n",
       "      <td>первый</td>\n",
       "    </tr>\n",
       "  </tbody>\n",
       "</table>\n",
       "<p>21784 rows × 30 columns</p>\n",
       "</div>"
      ],
      "text/plain": [
       "       total_images  last_price  total_area first_day_exposition  rooms  \\\n",
       "0                20    13000000      108.00           2019-03-07      3   \n",
       "1                 7     3350000       40.40           2018-12-04      1   \n",
       "2                10     5196000       56.00           2015-08-20      2   \n",
       "4                 2    10000000      100.00           2018-06-19      2   \n",
       "5                10     2890000       30.40           2018-09-10      1   \n",
       "...             ...         ...         ...                  ...    ...   \n",
       "23693             9     4600000       62.40           2016-08-05      3   \n",
       "23695            14     3100000       59.00           2018-01-15      3   \n",
       "23696            18     2500000       56.70           2018-02-11      2   \n",
       "23697            13    11475000       76.75           2017-03-28      2   \n",
       "23698             4     1350000       32.30           2017-07-21      1   \n",
       "\n",
       "       ceiling_height  floors_total  living_area  floor is_apartment  ...  \\\n",
       "0                2.70            16         51.0      8        False  ...   \n",
       "1                2.65            11         18.6      1        False  ...   \n",
       "2                2.65             5         34.3      4        False  ...   \n",
       "4                3.03            14         32.0     13        False  ...   \n",
       "5                2.65            12         14.4      5        False  ...   \n",
       "...               ...           ...          ...    ...          ...  ...   \n",
       "23693            2.60             9         40.0      8        False  ...   \n",
       "23695            2.65             5         38.0      4        False  ...   \n",
       "23696            2.65             3         29.7      1        False  ...   \n",
       "23697            3.00            17         20.9     12        False  ...   \n",
       "23698            2.50             5         12.3      1        False  ...   \n",
       "\n",
       "      ponds_nearest days_exposition  square_price  exposition_day  \\\n",
       "0             755.0             NaN        120370               7   \n",
       "1               NaN            81.0         82920               4   \n",
       "2             574.0           558.0         92785              20   \n",
       "4              48.0           121.0        100000              19   \n",
       "5               NaN            55.0         95065              10   \n",
       "...             ...             ...           ...             ...   \n",
       "23693         675.0           239.0         73717               5   \n",
       "23695           NaN            45.0         52542              15   \n",
       "23696           NaN             NaN         44091              11   \n",
       "23697         196.0           602.0        149511              28   \n",
       "23698           NaN             NaN         41795              21   \n",
       "\n",
       "      exposition_month  exposition_year   weekday  living_ratio  \\\n",
       "0                    3             2019  Thursday      0.472222   \n",
       "1                   12             2018   Tuesday      0.460396   \n",
       "2                    8             2015  Thursday      0.612500   \n",
       "4                    6             2018   Tuesday      0.320000   \n",
       "5                    9             2018    Monday      0.473684   \n",
       "...                ...              ...       ...           ...   \n",
       "23693                8             2016    Friday      0.641026   \n",
       "23695                1             2018    Monday      0.644068   \n",
       "23696                2             2018    Sunday      0.523810   \n",
       "23697                3             2017   Tuesday      0.272313   \n",
       "23698                7             2017    Friday      0.380805   \n",
       "\n",
       "       kitchen_ratio  floor_category  \n",
       "0           0.231481          другой  \n",
       "1           0.272277          первый  \n",
       "2           0.148214          другой  \n",
       "4           0.410000          другой  \n",
       "5           0.299342          другой  \n",
       "...              ...             ...  \n",
       "23693       0.128205          другой  \n",
       "23695       0.144068          другой  \n",
       "23696       0.160494          первый  \n",
       "23697       0.303583          другой  \n",
       "23698       0.278638          первый  \n",
       "\n",
       "[21784 rows x 30 columns]"
      ]
     },
     "execution_count": 42,
     "metadata": {},
     "output_type": "execute_result"
    }
   ],
   "source": [
    "quantiles_last_price = df['last_price'].quantile([0.2, 0.8])\n",
    "iqr_last_price = quantiles_last_price.iloc[1] - quantiles_last_price.iloc[0]\n",
    "q1_1 = quantiles_last_price.iloc[1] - 1.5 * iqr_last_price\n",
    "q3_1 = quantiles_last_price.iloc[1] + 1.5 * iqr_last_price\n",
    "\n",
    "quantiles_rooms = df['rooms'].quantile([0.2, 0.8])\n",
    "iqr_rooms = quantiles_rooms.iloc[1] - quantiles_rooms.iloc[0]\n",
    "q1_2 = quantiles_rooms.iloc[1] - 1.5 * iqr_rooms\n",
    "q3_2 = quantiles_rooms.iloc[1] + 1.5 * iqr_rooms\n",
    "\n",
    "quantiles_total_area = df['total_area'].quantile([0.2, 0.8])\n",
    "iqr_total_area = quantiles_total_area.iloc[1] - quantiles_total_area.iloc[0]\n",
    "q1_3 = quantiles_total_area.iloc[1] - 1.5 * iqr_total_area\n",
    "q3_3 = quantiles_total_area.iloc[1] + 1.5 * iqr_total_area\n",
    "\n",
    "\n",
    "# Фильтруем таблицу по выбросам и собираем новый df\n",
    "f_df = (df.query(\n",
    "    '(@q1_1 <= last_price <= @q3_1) and '\n",
    "    '(@q1_2 <= rooms <= @q3_2) and '\n",
    "    '(@q1_3 <= total_area <= @q3_3)'\n",
    "    )\n",
    ")\n",
    "f_df"
   ]
  },
  {
   "cell_type": "code",
   "execution_count": 43,
   "metadata": {
    "scrolled": false
   },
   "outputs": [
    {
     "data": {
      "image/png": "[encoded data removed]",
      "text/plain": [
       "<Figure size 432x288 with 1 Axes>"
      ]
     },
     "metadata": {
      "needs_background": "light"
     },
     "output_type": "display_data"
    },
    {
     "data": {
      "image/png": "[encoded data removed]",
      "text/plain": [
       "<Figure size 432x288 with 1 Axes>"
      ]
     },
     "metadata": {
      "needs_background": "light"
     },
     "output_type": "display_data"
    }
   ],
   "source": [
    "f_df.plot(\n",
    "    title = 'Выбросы цены кв-ры. 10 млн. руб.',\n",
    "    y = 'last_price',\n",
    "    kind = 'box',\n",
    "    grid = True\n",
    ")\n",
    "plt.show()\n",
    "\n",
    "f_df.plot(\n",
    "    title = 'Распределение цены кв-ры, 10 млн. руб.',\n",
    "    y = 'last_price',\n",
    "    kind = 'hist',\n",
    "    bins = 30,\n",
    "    grid = True,\n",
    "    linewidth = 2\n",
    ")\n",
    "plt.xlabel('Цена квартиры, 10 млн. руб')\n",
    "plt.ylabel('Количество квартир')\n",
    "plt.show()\n"
   ]
  },
  {
   "cell_type": "code",
   "execution_count": 44,
   "metadata": {
    "scrolled": false
   },
   "outputs": [
    {
     "data": {
      "text/plain": [
       "count       21784\n",
       "mean      5101731\n",
       "std       2510837\n",
       "min       1000000\n",
       "25%       3400000\n",
       "50%       4500000\n",
       "75%       6200000\n",
       "max      14200000\n",
       "Name: last_price, dtype: object"
      ]
     },
     "execution_count": 44,
     "metadata": {},
     "output_type": "execute_result"
    }
   ],
   "source": [
    "f_df['last_price'].describe().map('{:.0f}'.format)"
   ]
  },
  {
   "cell_type": "markdown",
   "metadata": {},
   "source": [
    "#### Вывод"
   ]
  },
  {
   "cell_type": "markdown",
   "metadata": {},
   "source": [
    "Большие выбросы были по цене и жилплощади. Их убрал. Графики с усами стали ровнее.<br>\n",
    "Остается проблема с ценой - слишком большой диапазон разброса. Но если ограничить гистограмму квартилями, то в целом получается нормальное распределение."
   ]
  },
  {
   "cell_type": "markdown",
   "metadata": {},
   "source": [
    "## Факторы стоимости квартиры\n",
    "<a id=\"step4-5\"></a>"
   ]
  },
  {
   "cell_type": "markdown",
   "metadata": {},
   "source": [
    "Какие факторы больше всего влияют на стоимость квартиры? <br>\n",
    "### Зависимость цены от квадратного метра, числа комнат, этажа (первого или последнего), удалённости от центра."
   ]
  },
  {
   "cell_type": "code",
   "execution_count": 45,
   "metadata": {
    "scrolled": true
   },
   "outputs": [
    {
     "name": "stdout",
     "output_type": "stream",
     "text": [
      "Коэффициенты корреляции к цене\n",
      "Квадратного метра: 0.63\n",
      "Количество комнат: 0.47\n",
      "Этаж квартиры: 0.12\n",
      "Удаленность от центра: -0.36\n"
     ]
    }
   ],
   "source": [
    "filter_columns = {\n",
    "    'Квадратного метра':'square_price', \n",
    "    'Количество комнат':'rooms', \n",
    "    'Этаж квартиры':'floor', \n",
    "    'Удаленность от центра': 'cityCenters_nearest'\n",
    "}\n",
    "\n",
    "print('Коэффициенты корреляции к цене')\n",
    "\n",
    "for column in filter_columns.items():\n",
    "    print('{}: {:.2f}'.format(column[0], f_df[column[1]].corr(f_df['last_price'])))"
   ]
  },
  {
   "cell_type": "code",
   "execution_count": 46,
   "metadata": {
    "scrolled": true
   },
   "outputs": [
    {
     "data": {
      "text/plain": [
       "<matplotlib.axes._subplots.AxesSubplot at 0x7f9c34c11510>"
      ]
     },
     "execution_count": 46,
     "metadata": {},
     "output_type": "execute_result"
    },
    {
     "data": {
      "image/png": "[encoded data removed]",
      "text/plain": [
       "<Figure size 432x288 with 1 Axes>"
      ]
     },
     "metadata": {
      "needs_background": "light"
     },
     "output_type": "display_data"
    }
   ],
   "source": [
    "(f_df\n",
    " .pivot_table(index = 'floor_category', values = 'last_price', aggfunc = 'median')\n",
    " .sort_values(by = 'last_price')\n",
    " .plot(title = 'Зависимость цены от категории этажа', y = 'last_price', kind = 'bar', rot = 45)\n",
    ")"
   ]
  },
  {
   "cell_type": "markdown",
   "metadata": {},
   "source": [
    "#### Вывод"
   ]
  },
  {
   "cell_type": "markdown",
   "metadata": {},
   "source": [
    "Удаленность от центра негативно сказывается на цене квартиры.<br>\n",
    "Цена квадратного метра практически связана с ценой квартиры, что логично. Не понятно, почему 0.6, а не 1.<br>\n",
    "Меньше всего на цену влияет этаж.<br>\n",
    "Дороже всего квартиры между первым и последним этажами. Дешевле всего на первом."
   ]
  },
  {
   "cell_type": "markdown",
   "metadata": {},
   "source": [
    "### Зависимость от даты размещения: дня недели, месяца и года."
   ]
  },
  {
   "cell_type": "code",
   "execution_count": 47,
   "metadata": {
    "scrolled": true
   },
   "outputs": [
    {
     "data": {
      "image/png": "[encoded data removed]",
      "text/plain": [
       "<Figure size 432x288 with 1 Axes>"
      ]
     },
     "metadata": {
      "needs_background": "light"
     },
     "output_type": "display_data"
    }
   ],
   "source": [
    "# График дня недели\n",
    "(f_df\n",
    " .pivot_table(index = 'weekday', values = 'last_price', aggfunc = 'median')\n",
    " .sort_values('last_price')\n",
    " .plot(rot = 45, grid = True)\n",
    ")\n",
    "plt.title('График изменения медианы цены по дням недели')\n",
    "plt.xlabel('День недели')\n",
    "plt.ylabel('Цена квартиры, медиана')\n",
    "plt.show()"
   ]
  },
  {
   "cell_type": "code",
   "execution_count": 48,
   "metadata": {
    "scrolled": false
   },
   "outputs": [
    {
     "data": {
      "text/plain": [
       "<matplotlib.axes._subplots.AxesSubplot at 0x7f9c34afcf90>"
      ]
     },
     "execution_count": 48,
     "metadata": {},
     "output_type": "execute_result"
    },
    {
     "data": {
      "image/png": "[encoded data removed]",
      "text/plain": [
       "<Figure size 432x288 with 1 Axes>"
      ]
     },
     "metadata": {
      "needs_background": "light"
     },
     "output_type": "display_data"
    }
   ],
   "source": [
    "# График месяц\n",
    "(f_df\n",
    " .pivot_table(index = 'exposition_month', values = 'last_price', aggfunc = 'median')\n",
    " .sort_values('exposition_month')\n",
    " .plot(\n",
    "     title = 'График изменения цены по месяцам',\n",
    "     grid = True\n",
    " )\n",
    ")"
   ]
  },
  {
   "cell_type": "code",
   "execution_count": 49,
   "metadata": {
    "scrolled": true
   },
   "outputs": [
    {
     "data": {
      "text/plain": [
       "<matplotlib.axes._subplots.AxesSubplot at 0x7f9c34a5ffd0>"
      ]
     },
     "execution_count": 49,
     "metadata": {},
     "output_type": "execute_result"
    },
    {
     "data": {
      "image/png": "[encoded data removed]",
      "text/plain": [
       "<Figure size 432x288 with 1 Axes>"
      ]
     },
     "metadata": {
      "needs_background": "light"
     },
     "output_type": "display_data"
    }
   ],
   "source": [
    "# График года\n",
    "(f_df\n",
    " .pivot_table(index = 'exposition_year', values = 'last_price', aggfunc = 'median')\n",
    " .sort_values('exposition_year')\n",
    " .plot(\n",
    "     title = 'График изменения цены по годам'\n",
    " )\n",
    ")"
   ]
  },
  {
   "cell_type": "code",
   "execution_count": 50,
   "metadata": {},
   "outputs": [
    {
     "data": {
      "text/plain": [
       "<seaborn.axisgrid.FacetGrid at 0x7f9c34ab9c50>"
      ]
     },
     "execution_count": 50,
     "metadata": {},
     "output_type": "execute_result"
    },
    {
     "data": {
      "image/png": "[encoded data removed]",
      "text/plain": [
       "<Figure size 1080x360 with 1 Axes>"
      ]
     },
     "metadata": {
      "needs_background": "light"
     },
     "output_type": "display_data"
    }
   ],
   "source": [
    "sns.catplot(data = f_df, x = 'exposition_year', y = 'last_price', kind = 'violin', aspect = 3)"
   ]
  },
  {
   "cell_type": "markdown",
   "metadata": {},
   "source": [
    "#### Вывод"
   ]
  },
  {
   "cell_type": "markdown",
   "metadata": {},
   "source": [
    "- Во вторник размещают самые дорогие объявления.\n",
    "- В апреле пик цены, а к лету квартиры дешевеют. К сентябрю снова выходят на среднюю стоимость.\n",
    "- В период с 14 по 19 год цена просела в 16. После начала постепенно восстанавливаться."
   ]
  },
  {
   "cell_type": "markdown",
   "metadata": {},
   "source": [
    "### Выберите 10 населённых пунктов с наибольшим числом объявлений. Посчитайте среднюю цену квадратного метра в этих населённых пунктах."
   ]
  },
  {
   "cell_type": "code",
   "execution_count": 51,
   "metadata": {},
   "outputs": [
    {
     "data": {
      "text/html": [
       "<div>\n",
       "<style scoped>\n",
       "    .dataframe tbody tr th:only-of-type {\n",
       "        vertical-align: middle;\n",
       "    }\n",
       "\n",
       "    .dataframe tbody tr th {\n",
       "        vertical-align: top;\n",
       "    }\n",
       "\n",
       "    .dataframe thead tr th {\n",
       "        text-align: left;\n",
       "    }\n",
       "\n",
       "    .dataframe thead tr:last-of-type th {\n",
       "        text-align: right;\n",
       "    }\n",
       "</style>\n",
       "<table border=\"1\" class=\"dataframe\">\n",
       "  <thead>\n",
       "    <tr>\n",
       "      <th></th>\n",
       "      <th>count</th>\n",
       "      <th>mean</th>\n",
       "    </tr>\n",
       "    <tr>\n",
       "      <th></th>\n",
       "      <th>square_price</th>\n",
       "      <th>square_price</th>\n",
       "    </tr>\n",
       "    <tr>\n",
       "      <th>locality_name</th>\n",
       "      <th></th>\n",
       "      <th></th>\n",
       "    </tr>\n",
       "  </thead>\n",
       "  <tbody>\n",
       "    <tr>\n",
       "      <td>Санкт-Петербург</td>\n",
       "      <td>14165</td>\n",
       "      <td>106861.654995</td>\n",
       "    </tr>\n",
       "    <tr>\n",
       "      <td>посёлок Мурино</td>\n",
       "      <td>502</td>\n",
       "      <td>85235.117530</td>\n",
       "    </tr>\n",
       "    <tr>\n",
       "      <td>посёлок Шушары</td>\n",
       "      <td>436</td>\n",
       "      <td>78405.277523</td>\n",
       "    </tr>\n",
       "    <tr>\n",
       "      <td>Всеволожск</td>\n",
       "      <td>389</td>\n",
       "      <td>67263.218509</td>\n",
       "    </tr>\n",
       "    <tr>\n",
       "      <td>Пушкин</td>\n",
       "      <td>343</td>\n",
       "      <td>100786.297376</td>\n",
       "    </tr>\n",
       "    <tr>\n",
       "      <td>Колпино</td>\n",
       "      <td>337</td>\n",
       "      <td>75332.866469</td>\n",
       "    </tr>\n",
       "    <tr>\n",
       "      <td>посёлок Парголово</td>\n",
       "      <td>325</td>\n",
       "      <td>90430.298462</td>\n",
       "    </tr>\n",
       "    <tr>\n",
       "      <td>Гатчина</td>\n",
       "      <td>303</td>\n",
       "      <td>69110.508251</td>\n",
       "    </tr>\n",
       "    <tr>\n",
       "      <td>деревня Кудрово</td>\n",
       "      <td>295</td>\n",
       "      <td>92460.793220</td>\n",
       "    </tr>\n",
       "    <tr>\n",
       "      <td>Выборг</td>\n",
       "      <td>229</td>\n",
       "      <td>58712.061135</td>\n",
       "    </tr>\n",
       "  </tbody>\n",
       "</table>\n",
       "</div>"
      ],
      "text/plain": [
       "                         count           mean\n",
       "                  square_price   square_price\n",
       "locality_name                                \n",
       "Санкт-Петербург          14165  106861.654995\n",
       "посёлок Мурино             502   85235.117530\n",
       "посёлок Шушары             436   78405.277523\n",
       "Всеволожск                 389   67263.218509\n",
       "Пушкин                     343  100786.297376\n",
       "Колпино                    337   75332.866469\n",
       "посёлок Парголово          325   90430.298462\n",
       "Гатчина                    303   69110.508251\n",
       "деревня Кудрово            295   92460.793220\n",
       "Выборг                     229   58712.061135"
      ]
     },
     "execution_count": 51,
     "metadata": {},
     "output_type": "execute_result"
    }
   ],
   "source": [
    "(f_df\n",
    " .pivot_table(index = 'locality_name', values ='square_price', aggfunc = ['count', 'mean'])\n",
    " .sort_values(by = ('count', 'square_price'), ascending = False)\n",
    " .head(10)\n",
    ")"
   ]
  },
  {
   "cell_type": "markdown",
   "metadata": {},
   "source": [
    "### Выделите населённые пункты с самой высокой и низкой стоимостью жилья. Эти данные можно найти по имени в столбце 'locality_name'."
   ]
  },
  {
   "cell_type": "code",
   "execution_count": 52,
   "metadata": {
    "scrolled": false
   },
   "outputs": [
    {
     "data": {
      "text/html": [
       "<div>\n",
       "<style scoped>\n",
       "    .dataframe tbody tr th:only-of-type {\n",
       "        vertical-align: middle;\n",
       "    }\n",
       "\n",
       "    .dataframe tbody tr th {\n",
       "        vertical-align: top;\n",
       "    }\n",
       "\n",
       "    .dataframe thead tr th {\n",
       "        text-align: left;\n",
       "    }\n",
       "\n",
       "    .dataframe thead tr:last-of-type th {\n",
       "        text-align: right;\n",
       "    }\n",
       "</style>\n",
       "<table border=\"1\" class=\"dataframe\">\n",
       "  <thead>\n",
       "    <tr>\n",
       "      <th></th>\n",
       "      <th>min</th>\n",
       "      <th>max</th>\n",
       "    </tr>\n",
       "    <tr>\n",
       "      <th></th>\n",
       "      <th>last_price</th>\n",
       "      <th>last_price</th>\n",
       "    </tr>\n",
       "    <tr>\n",
       "      <th>locality_name</th>\n",
       "      <th></th>\n",
       "      <th></th>\n",
       "    </tr>\n",
       "  </thead>\n",
       "  <tbody>\n",
       "    <tr>\n",
       "      <td>Санкт-Петербург</td>\n",
       "      <td>1200000</td>\n",
       "      <td>14200000</td>\n",
       "    </tr>\n",
       "    <tr>\n",
       "      <td>Сестрорецк</td>\n",
       "      <td>2800000</td>\n",
       "      <td>13999000</td>\n",
       "    </tr>\n",
       "    <tr>\n",
       "      <td>Гатчина</td>\n",
       "      <td>1050000</td>\n",
       "      <td>13900000</td>\n",
       "    </tr>\n",
       "    <tr>\n",
       "      <td>Пушкин</td>\n",
       "      <td>1990000</td>\n",
       "      <td>13300000</td>\n",
       "    </tr>\n",
       "    <tr>\n",
       "      <td>деревня Кудрово</td>\n",
       "      <td>2100000</td>\n",
       "      <td>13000000</td>\n",
       "    </tr>\n",
       "    <tr>\n",
       "      <td>посёлок Стрельна</td>\n",
       "      <td>2550000</td>\n",
       "      <td>12990000</td>\n",
       "    </tr>\n",
       "    <tr>\n",
       "      <td>Кудрово</td>\n",
       "      <td>2350000</td>\n",
       "      <td>12800000</td>\n",
       "    </tr>\n",
       "    <tr>\n",
       "      <td>Петергоф</td>\n",
       "      <td>2100000</td>\n",
       "      <td>12790000</td>\n",
       "    </tr>\n",
       "    <tr>\n",
       "      <td>Колпино</td>\n",
       "      <td>2100000</td>\n",
       "      <td>12750000</td>\n",
       "    </tr>\n",
       "    <tr>\n",
       "      <td>Кронштадт</td>\n",
       "      <td>2290000</td>\n",
       "      <td>11500000</td>\n",
       "    </tr>\n",
       "  </tbody>\n",
       "</table>\n",
       "</div>"
      ],
      "text/plain": [
       "                        min        max\n",
       "                 last_price last_price\n",
       "locality_name                         \n",
       "Санкт-Петербург     1200000   14200000\n",
       "Сестрорецк          2800000   13999000\n",
       "Гатчина             1050000   13900000\n",
       "Пушкин              1990000   13300000\n",
       "деревня Кудрово     2100000   13000000\n",
       "посёлок Стрельна    2550000   12990000\n",
       "Кудрово             2350000   12800000\n",
       "Петергоф            2100000   12790000\n",
       "Колпино             2100000   12750000\n",
       "Кронштадт           2290000   11500000"
      ]
     },
     "execution_count": 52,
     "metadata": {},
     "output_type": "execute_result"
    }
   ],
   "source": [
    "(f_df\n",
    " .pivot_table(index = 'locality_name', values = 'last_price', aggfunc = ['min', 'max'])\n",
    " .sort_values(by = ('max', 'last_price'), ascending = False)\n",
    " .head(10)\n",
    ")"
   ]
  },
  {
   "cell_type": "markdown",
   "metadata": {},
   "source": [
    "### Изучение предложения квартир по расстоянию до центра"
   ]
  },
  {
   "cell_type": "markdown",
   "metadata": {},
   "source": [
    "Изучите предложения квартир: для каждой квартиры есть информация о расстоянии до центра. \n",
    "- [x] Выделите квартиры в Санкт-Петербурге ('locality_name'). \n",
    "- [x] Ваша задача — выяснить, какая область входит в центр. Создайте столбец с расстоянием до центра в километрах: округлите до целых значений. \n",
    "- [x] После этого посчитайте среднюю цену для каждого километра. \n",
    "- [x] Постройте график: он должен показывать, как цена зависит от удалённости от центра. \n",
    "- [x] Определите границу, где график сильно меняется — это и будет центральная зона."
   ]
  },
  {
   "cell_type": "code",
   "execution_count": 59,
   "metadata": {
    "scrolled": true
   },
   "outputs": [
    {
     "name": "stderr",
     "output_type": "stream",
     "text": [
      "/opt/conda/lib/python3.7/site-packages/ipykernel_launcher.py:14: SettingWithCopyWarning: \n",
      "A value is trying to be set on a copy of a slice from a DataFrame.\n",
      "Try using .loc[row_indexer,col_indexer] = value instead\n",
      "\n",
      "See the caveats in the documentation: http://pandas.pydata.org/pandas-docs/stable/user_guide/indexing.html#returning-a-view-versus-a-copy\n",
      "  \n"
     ]
    }
   ],
   "source": [
    "def fill_cityCentre_km(row):\n",
    "    if row['cityCenters_nearest'] > 0:\n",
    "        result = row['cityCenters_nearest'] / 1000\n",
    "    else:\n",
    "        result = -1\n",
    "    \n",
    "    return result\n",
    "\n",
    "\n",
    "spb_df = f_df\n",
    "spb_df['cityCentres_km'] = (f_df\n",
    "                          .query('locality_name == \"Санкт-Петербург\"')\n",
    "                          .apply(fill_cityCentre_km, axis = 1)\n",
    "                          .astype('int')\n",
    "                         )\n",
    "\n",
    "spb_df = f_df.query('cityCentres_km > 0')"
   ]
  },
  {
   "cell_type": "code",
   "execution_count": null,
   "metadata": {
    "scrolled": false
   },
   "outputs": [],
   "source": [
    "(spb_df\n",
    " .pivot_table(index = 'cityCentres_km', values = 'square_price')\n",
    " .plot(\n",
    "     title = 'Распределение цены кв. метра пир удалении от центра \"{locality_name}\"',\n",
    "     kind = 'bar', \n",
    "     figsize = (20, 10)\n",
    " )\n",
    ")"
   ]
  },
  {
   "cell_type": "code",
   "execution_count": null,
   "metadata": {
    "scrolled": false
   },
   "outputs": [],
   "source": [
    "(spb_df\n",
    " .pivot_table(index = 'cityCentres_km', values = ['square_price', 'last_price'])\n",
    " .plot(\n",
    "     title = ('Распределение цены кв. метра от центра города', 'Распределение цены от центра города'),\n",
    "     kind = 'bar', \n",
    "     figsize = (20, 10), \n",
    "     subplots = True\n",
    " )\n",
    ")"
   ]
  },
  {
   "cell_type": "markdown",
   "metadata": {},
   "source": [
    "#### Вывод"
   ]
  },
  {
   "cell_type": "markdown",
   "metadata": {},
   "source": [
    "Выглядит так, что центральная зона это 0-3 км."
   ]
  },
  {
   "cell_type": "markdown",
   "metadata": {},
   "source": [
    "### Сегмент квартир в центре\n",
    "\n",
    "- [x] Выделите сегмент квартир в центре. \n",
    "- [x] Проанализируйте эту территорию и изучите следующие параметры: площадь, цена, число комнат, высота потолков. \n",
    "- [x] Также выделите факторы, которые влияют на стоимость квартиры (число комнат, этаж, удалённость от центра, дата размещения объявления). \n",
    "- [ ] Сделайте выводы. Отличаются ли они от общих выводов по всему городу?"
   ]
  },
  {
   "cell_type": "code",
   "execution_count": null,
   "metadata": {
    "scrolled": false
   },
   "outputs": [],
   "source": [
    "filter_columns = ['total_area', 'last_price', 'rooms', 'ceiling_height']\n",
    "\n",
    "for column in filter_columns:\n",
    "    spb_df.hist(column)\n",
    "    plt.show()"
   ]
  },
  {
   "cell_type": "markdown",
   "metadata": {},
   "source": [
    "#### Вывод"
   ]
  },
  {
   "cell_type": "markdown",
   "metadata": {},
   "source": [
    "Нормальное распределение, нет выбросов или смещения. Высота потолка имеет распределение Пирсона, что тоже ок."
   ]
  },
  {
   "cell_type": "code",
   "execution_count": null,
   "metadata": {
    "scrolled": false
   },
   "outputs": [],
   "source": [
    "columns = [\n",
    "    'square_price',\n",
    "    'total_area', \n",
    "    'last_price', \n",
    "    'rooms', \n",
    "    'ceiling_height',\n",
    "    'floor', \n",
    "    'cityCentres_km'\n",
    "]\n",
    "data = spb_df.corr()\n",
    "\n",
    "spb_corr_df = pd.DataFrame(data = data, columns = columns)\n",
    "#pd.plotting.scatter_matrix(spb_corr_df, figsize = (20, 20))"
   ]
  },
  {
   "cell_type": "code",
   "execution_count": null,
   "metadata": {},
   "outputs": [],
   "source": [
    "filter_columns = {\n",
    "    'Общая площадь' : 'total_area',\n",
    "    'Цена квартиры' : 'last_price',\n",
    "    'Цена кв. метра' : 'square_price',\n",
    "    'Количество комнат':'rooms',\n",
    "    'Высота потолка':'ceiling_height',\n",
    "    'Этаж квартиры':'floor',\n",
    "    'Удаленность от центра': 'cityCentres_km'\n",
    "}\n",
    "\n",
    "\n",
    "spb_center = spb_df.query('cityCentres_km <= 3')\n",
    "spb_not_center = spb_df.query('cityCentres_km > 3')\n",
    "\n",
    "\n",
    "print('Коэффициенты корреляции к цене кв метра')\n",
    "for column in filter_columns.items():\n",
    "    print('В центре -- {}: {:.2f}'.format(column[0], spb_center[column[1]].corr(spb_center['square_price'])))\n",
    "    print('НЕ в центре -- {}: {:.2f}'.format(column[0], spb_not_center[column[1]].corr(spb_not_center['square_price'])))\n",
    "    print()"
   ]
  },
  {
   "cell_type": "markdown",
   "metadata": {},
   "source": [
    "В центре отрицательная корреляция к общей площади. Что это значит? Чем меньше площадь, тем дороже квартира чтоли?<br>\n",
    "Вне центра растет корреляция общей цены. <br>\n",
    "Вне центра больше корреляция высоты потолка и этажа квартиры. Возможно, дело в типе застройки в центре - она однотипная и нет разбежки в цене поэтому."
   ]
  },
  {
   "cell_type": "code",
   "execution_count": null,
   "metadata": {
    "scrolled": false
   },
   "outputs": [],
   "source": [
    "def categorize_distance(value):\n",
    "    if value >= 4 and value <= 10:\n",
    "        return '4-10 км'\n",
    "    elif value >= 11 and value <= 20:\n",
    "        return '11-20 км'\n",
    "    else:\n",
    "        return '21-30 км'\n",
    "\n",
    "\n",
    "spb_df.loc[:, 'distance_category'] = spb_df['cityCentres_km'].apply(categorize_distance)\n",
    "\n",
    "\n",
    "for column in filter_columns.items():\n",
    "    if column[1] not in ('cityCentres_km'):\n",
    "        sns.catplot(\n",
    "            data = spb_df.query('cityCentres_km > 3'),\n",
    "            x = 'distance_category',\n",
    "            y = column[1],\n",
    "            kind = 'violin',\n",
    "            aspect = 3\n",
    "        )"
   ]
  },
  {
   "cell_type": "code",
   "execution_count": null,
   "metadata": {
    "scrolled": false
   },
   "outputs": [],
   "source": [
    "for column in filter_columns.items():\n",
    "    if column[1] not in ('cityCentres_km'):\n",
    "        sns.catplot(\n",
    "            data = spb_df.query('cityCentres_km <= 3'),\n",
    "            x = 'cityCentres_km',\n",
    "            y = column[1],\n",
    "            kind = 'violin',\n",
    "            aspect = 3\n",
    "        )"
   ]
  },
  {
   "cell_type": "markdown",
   "metadata": {},
   "source": [
    "### Шаг 5. Общий вывод"
   ]
  },
  {
   "cell_type": "markdown",
   "metadata": {},
   "source": [
    "1. Этаж: в центре преимущественно квартиры на 2 - 4 этаже. Возможно, дело в этажности застройки.\n",
    "2. Высота потолка: 2.7 метра.\n",
    "3. Кол-во комнат: в центре преимущественно 2-3 комнатные квартиры, по всему городу добавляются однушки.\n",
    "4. Цена кв. метра: в центре от 75 до 125 тыс. руб. Большинство в районе 110 тыс.; не в центре от 80 до 120 тыс. руб. Большинство сосредоточено в районе 100 тыс.\n",
    "5. Общая цена: в центре от 6 до 12 млн. руб.; не в центре от 3 до 8 млн. руб.\n",
    "6. Общая площадь: в центре 60-80 м2.; не в центре 35-60 м2. Это связано с тем, что не в центре появляются однокомнатные квартиры, у окторых общая площадь маленькая."
   ]
  },
  {
   "cell_type": "markdown",
   "metadata": {},
   "source": [
    "### Чек-лист готовности проекта\n",
    "\n",
    "Поставьте 'x' в выполненных пунктах. Далее нажмите Shift+Enter."
   ]
  },
  {
   "cell_type": "markdown",
   "metadata": {},
   "source": [
    "- [x]  открыт файл\n",
    "- [x]  файлы изучены (выведены первые строки, метод info())\n",
    "- [x]  определены пропущенные значения\n",
    "- [x]  заполнены пропущенные значения\n",
    "- [x]  есть пояснение, какие пропущенные значения обнаружены\n",
    "- [x]  изменены типы данных\n",
    "- [x]  есть пояснение, в каких столбцах изменены типы и почему\n",
    "- [x]  посчитано и добавлено в таблицу: цена квадратного метра\n",
    "- [x]  посчитано и добавлено в таблицу: день недели, месяц и год публикации объявления\n",
    "- [x]  посчитано и добавлено в таблицу: этаж квартиры; варианты — первый, последний, другой\n",
    "- [x]  посчитано и добавлено в таблицу: соотношение жилой и общей площади, а также отношение площади кухни к общей\n",
    "- [x]  изучены следующие параметры: площадь, цена, число комнат, высота потолков\n",
    "- [x]  построены гистограммы для каждого параметра\n",
    "- [x]  выполнено задание: \"Изучите время продажи квартиры. Постройте гистограмму. Посчитайте среднее и медиану. Опишите, сколько обычно занимает продажа. Когда можно считать, что продажи прошли очень быстро, а когда необычно долго?\"\n",
    "- [x]  выполнено задание: \"Уберите редкие и выбивающиеся значения. Опишите, какие особенности обнаружили.\"\n",
    "- [x]  выполнено задание: \"Какие факторы больше всего влияют на стоимость квартиры? Изучите, зависит ли цена от квадратного метра, числа комнат, этажа (первого или последнего), удалённости от центра. Также изучите зависимость от даты размещения: дня недели, месяца и года. \"Выберите 10 населённых пунктов с наибольшим числом объявлений. Посчитайте среднюю цену квадратного метра в этих населённых пунктах. Выделите населённые пункты с самой высокой и низкой стоимостью жилья. Эти данные можно найти по имени в столбце '*locality_name'*. \"\n",
    "- [x]  выполнено задание: \"Изучите предложения квартир: для каждой квартиры есть информация о расстоянии до центра. Выделите квартиры в Санкт-Петербурге (*'locality_name'*). Ваша задача — выяснить, какая область входит в центр. Создайте столбец с расстоянием до центра в километрах: округлите до целых значений. После этого посчитайте среднюю цену для каждого километра. Постройте график: он должен показывать, как цена зависит от удалённости от центра. Определите границу, где график сильно меняется — это и будет центральная зона. \"\n",
    "- [x]  выполнено задание: \"Выделите сегмент квартир в центре. Проанализируйте эту территорию и изучите следующие параметры: площадь, цена, число комнат, высота потолков. Также выделите факторы, которые влияют на стоимость квартиры (число комнат, этаж, удалённость от центра, дата размещения объявления). Сделайте выводы. Отличаются ли они от общих выводов по всему городу?\"\n",
    "- [x]  в каждом этапе есть выводы\n",
    "- [x]  есть общий вывод"
   ]
  }
 ],
 "metadata": {
  "kernelspec": {
   "display_name": "Python 3",
   "language": "python",
   "name": "python3"
  },
  "language_info": {
   "codemirror_mode": {
    "name": "ipython",
    "version": 3
   },
   "file_extension": ".py",
   "mimetype": "text/x-python",
   "name": "python",
   "nbconvert_exporter": "python",
   "pygments_lexer": "ipython3",
   "version": "3.8.5"
  },
  "toc": {
   "base_numbering": 1,
   "nav_menu": {
    "height": "320px",
    "width": "331px"
   },
   "number_sections": false,
   "sideBar": true,
   "skip_h1_title": false,
   "title_cell": "Table of Contents",
   "title_sidebar": "Contents",
   "toc_cell": false,
   "toc_position": {
    "height": "calc(100% - 180px)",
    "left": "10px",
    "top": "150px",
    "width": "287.391px"
   },
   "toc_section_display": true,
   "toc_window_display": true
  }
 },
 "nbformat": 4,
 "nbformat_minor": 2
}
